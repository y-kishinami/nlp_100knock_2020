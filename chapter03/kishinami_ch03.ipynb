{
 "cells": [
  {
   "cell_type": "markdown",
   "metadata": {},
   "source": [
    "# 第3章: 正規表現\n",
    "Wikipediaの記事を以下のフォーマットで書き出したファイルjawiki-country.json.gzがある．\n",
    "\n",
    "- 1行に1記事の情報がJSON形式で格納される\n",
    "- 各行には記事名が”title”キーに，記事本文が”text”キーの辞書オブジェクトに格納され，そのオブジェクトがJSON形式で書き出される\n",
    "- ファイル全体はgzipで圧縮される\n",
    "\n",
    "以下の処理を行うプログラムを作成せよ．"
   ]
  },
  {
   "cell_type": "markdown",
   "metadata": {},
   "source": [
    "## 20. JSONデータの読み込み\n",
    "Wikipedia記事のJSONファイルを読み込み，「イギリス」に関する記事本文を表示せよ．問題21-29では，ここで抽出した記事本文に対して実行せよ．"
   ]
  },
  {
   "cell_type": "code",
   "execution_count": 1,
   "metadata": {},
   "outputs": [
    {
     "name": "stdout",
     "output_type": "stream",
     "text": [
      "--2021-05-31 12:30:13--  https://nlp100.github.io/data/jawiki-country.json.gz\n",
      "nlp100.github.io (nlp100.github.io) をDNSに問いあわせています... 185.199.109.153, 185.199.110.153, 185.199.111.153, ...\n",
      "nlp100.github.io (nlp100.github.io)|185.199.109.153|:443 に接続しています... 接続しました。\n",
      "HTTP による接続要求を送信しました、応答を待っています... 200 OK\n",
      "長さ: 5068362 (4.8M) [application/gzip]\n",
      "`data/jawiki-country.json.gz' に保存中\n",
      "\n",
      "jawiki-country.json 100%[===================>]   4.83M  8.46MB/s 時間 0.6s       \n",
      "\n",
      "2021-05-31 12:30:14 (8.46 MB/s) - `data/jawiki-country.json.gz' へ保存完了 [5068362/5068362]\n",
      "\n"
     ]
    }
   ],
   "source": [
    "!wget -nc https://nlp100.github.io/data/jawiki-country.json.gz -P data/"
   ]
  },
  {
   "cell_type": "code",
   "execution_count": 2,
   "metadata": {},
   "outputs": [],
   "source": [
    "!gunzip data/jawiki-country.json.gz"
   ]
  },
  {
   "cell_type": "code",
   "execution_count": 5,
   "metadata": {},
   "outputs": [
    {
     "name": "stdout",
     "output_type": "stream",
     "text": [
      "{\"title\": \"エジプト\", \"text\": \"{{otheruses|主に現代のエジプト・アラブ共和国|古代|古代エジプト}}\\n{{基礎情報 国\\n|略名 =エジプト\\n|漢字書き=埃及\\n|日本語国名 =エジプト・アラブ共和国\\n|公式国名 ={{lang|ar|'''جمهورية مصر العربية'''}}\\n|国旗画像 =Flag of Egypt.svg\\n|国章画像 =[[ファイル:Coat_of_arms_of_Egypt.svg|100px|エジプトの国章]]\\n|国章リンク =（[[エジプトの国章|国章]]）\\n|標語 =なし\\n|位置画像 =Egypt (orthographic projection).svg\\n|公用語 =[[アラビア語]]\\n|首都 =[[File:Flag of Cairo.svg|24px]] [[カイロ]]\\n|最大都市 =カイロ\\n|元首等肩書 =[[近代エジプトの国家元首の一覧|大統領]]\\n|元首等氏名 =[[アブドルファッターフ・アッ＝シーシー]]\\n|首相等肩書 ={{ill2|エジプトの首相|en|Prime Minister of Egypt|label=首相}}\\n|首相等氏名 ={{仮リンク|ムスタファ・マドブーリー|ar|مصط"
     ]
    }
   ],
   "source": [
    "!head -c 1000 data/jawiki-country.json"
   ]
  },
  {
   "cell_type": "code",
   "execution_count": 2,
   "metadata": {},
   "outputs": [
    {
     "name": "stdout",
     "output_type": "stream",
     "text": [
      "dict_keys(['title', 'text'])\n"
     ]
    }
   ],
   "source": [
    "import json\n",
    "\n",
    "# jsonファイルのkeyの確認\n",
    "with open('data/jawiki-country.json') as fi:\n",
    "    data = json.loads(fi.readline())\n",
    "    print(data.keys())"
   ]
  },
  {
   "cell_type": "code",
   "execution_count": 8,
   "metadata": {},
   "outputs": [],
   "source": [
    "with open('work/jawiki-uk.txt', 'w') as w_fi, open('data/jawiki-country.json') as fi:\n",
    "    for line in fi:\n",
    "        data = json.loads(line)\n",
    "        if data['title'] == 'イギリス':\n",
    "            print(data['text'], file=w_fi)"
   ]
  },
  {
   "cell_type": "markdown",
   "metadata": {},
   "source": [
    "## 21. カテゴリ名を含む行を抽出\n",
    "記事中でカテゴリ名を宣言している行を抽出せよ．"
   ]
  },
  {
   "cell_type": "code",
   "execution_count": 9,
   "metadata": {},
   "outputs": [
    {
     "name": "stdout",
     "output_type": "stream",
     "text": [
      "[[Category:イギリス|*]]\n",
      "[[Category:イギリス連邦加盟国]]\n",
      "[[Category:英連邦王国|*]]\n",
      "[[Category:G8加盟国]]\n",
      "[[Category:欧州連合加盟国|元]]\n",
      "[[Category:海洋国家]]\n",
      "[[Category:現存する君主国]]\n",
      "[[Category:島国]]\n",
      "[[Category:1801年に成立した国家・領域]]\n"
     ]
    }
   ],
   "source": [
    "!grep -E '\\[\\[Category:' work/jawiki-uk.txt"
   ]
  },
  {
   "cell_type": "markdown",
   "metadata": {},
   "source": [
    "※イギリスの記事には[[カテゴリ:名前]]が使われていなかった"
   ]
  },
  {
   "cell_type": "code",
   "execution_count": 10,
   "metadata": {},
   "outputs": [],
   "source": [
    "!grep -E '\\[\\[カテゴリ:' work/jawiki-uk.txt"
   ]
  },
  {
   "cell_type": "code",
   "execution_count": 11,
   "metadata": {},
   "outputs": [
    {
     "data": {
      "text/plain": [
       "['[[Category:イギリス|*]]',\n",
       " '[[Category:イギリス連邦加盟国]]',\n",
       " '[[Category:英連邦王国|*]]',\n",
       " '[[Category:G8加盟国]]',\n",
       " '[[Category:欧州連合加盟国|元]]',\n",
       " '[[Category:海洋国家]]',\n",
       " '[[Category:現存する君主国]]',\n",
       " '[[Category:島国]]',\n",
       " '[[Category:1801年に成立した国家・領域]]']"
      ]
     },
     "execution_count": 11,
     "metadata": {},
     "output_type": "execute_result"
    }
   ],
   "source": [
    "# 文字列メソッドを使用\n",
    "category_lines = []\n",
    "\n",
    "with open('work/jawiki-uk.txt') as fi:\n",
    "    for line in fi:\n",
    "        line = line.strip()\n",
    "        if line.startswith('[[Category:') or line.startswith('[[カテゴリ:'):\n",
    "            category_lines.append(line)\n",
    "            \n",
    "category_lines"
   ]
  },
  {
   "cell_type": "code",
   "execution_count": 3,
   "metadata": {},
   "outputs": [
    {
     "data": {
      "text/plain": [
       "['[[Category:イギリス|*]]',\n",
       " '[[Category:イギリス連邦加盟国]]',\n",
       " '[[Category:英連邦王国|*]]',\n",
       " '[[Category:G8加盟国]]',\n",
       " '[[Category:欧州連合加盟国|元]]',\n",
       " '[[Category:海洋国家]]',\n",
       " '[[Category:現存する君主国]]',\n",
       " '[[Category:島国]]',\n",
       " '[[Category:1801年に成立した国家・領域]]']"
      ]
     },
     "execution_count": 3,
     "metadata": {},
     "output_type": "execute_result"
    }
   ],
   "source": [
    "# 正規表現を使用\n",
    "import re\n",
    "category_lines = []\n",
    "\n",
    "with open('work/jawiki-uk.txt') as fi:\n",
    "    for line in fi:\n",
    "        line = line.strip()\n",
    "        if re.match(r'\\[\\[(Category:|カテゴリ:)', line):\n",
    "            category_lines.append(line)\n",
    "\n",
    "category_lines"
   ]
  },
  {
   "cell_type": "markdown",
   "metadata": {},
   "source": [
    "## 22. カテゴリ名の抽出\n",
    "記事のカテゴリ名を（行単位ではなく名前で）抽出せよ．"
   ]
  },
  {
   "cell_type": "code",
   "execution_count": 13,
   "metadata": {},
   "outputs": [
    {
     "data": {
      "text/plain": [
       "['イギリス',\n",
       " 'イギリス連邦加盟国',\n",
       " '英連邦王国',\n",
       " 'G8加盟国',\n",
       " '欧州連合加盟国',\n",
       " '海洋国家',\n",
       " '現存する君主国',\n",
       " '島国',\n",
       " '1801年に成立した国家・領域']"
      ]
     },
     "execution_count": 13,
     "metadata": {},
     "output_type": "execute_result"
    }
   ],
   "source": [
    "# 文字列メソッドを使用\n",
    "categories = []\n",
    "with open('work/jawiki-uk.txt') as fi:\n",
    "    for line in fi:\n",
    "        line = line.strip()\n",
    "        \n",
    "        if line.startswith('[[Category:'):\n",
    "            offset = 11\n",
    "        elif line.startswith('[[カテゴリ:'):\n",
    "            offset = 7\n",
    "        else:\n",
    "            continue\n",
    "    \n",
    "        line = line[offset:]\n",
    "    \n",
    "        if '|' in line:\n",
    "            category, *_ = line.split('|')\n",
    "        else:\n",
    "            category = line.rstrip(']')\n",
    "        categories.append(category)\n",
    "\n",
    "categories"
   ]
  },
  {
   "cell_type": "code",
   "execution_count": 14,
   "metadata": {},
   "outputs": [
    {
     "data": {
      "text/plain": [
       "['イギリス',\n",
       " 'イギリス連邦加盟国',\n",
       " '英連邦王国',\n",
       " 'G8加盟国',\n",
       " '欧州連合加盟国',\n",
       " '海洋国家',\n",
       " '現存する君主国',\n",
       " '島国',\n",
       " '1801年に成立した国家・領域']"
      ]
     },
     "execution_count": 14,
     "metadata": {},
     "output_type": "execute_result"
    }
   ],
   "source": [
    "# 正規表現を使用\n",
    "categories = []\n",
    "\n",
    "with open('work/jawiki-uk.txt') as fi:\n",
    "    for line in fi:\n",
    "        line = line.strip()\n",
    "        result = re.match(r'\\[\\[(Category:|カテゴリ:)([^\\]|]+)', line)\n",
    "        if result:\n",
    "            categories.append(result.group(2))\n",
    "categories"
   ]
  },
  {
   "cell_type": "markdown",
   "metadata": {},
   "source": [
    "- 正規表現の解説\n",
    "    - [[(Category:|カテゴリ:)　は文字列の先頭が\"[[Category:\"または\"[[カテゴリ\"になっているものにマッチ\n",
    "    - ([^]|]+)は，(]と|)以外の1文字以上の文字列集合にマッチ"
   ]
  },
  {
   "cell_type": "markdown",
   "metadata": {},
   "source": [
    "## 23. セクション構造\n",
    "記事中に含まれるセクション名とそのレベル（例えば”== セクション名 ==”なら1）を表示せよ．"
   ]
  },
  {
   "cell_type": "code",
   "execution_count": 15,
   "metadata": {},
   "outputs": [
    {
     "name": "stdout",
     "output_type": "stream",
     "text": [
      "国名\t1\n",
      "歴史\t1\n",
      "地理\t1\n",
      "主要都市\t2\n",
      "気候\t2\n",
      "政治\t1\n",
      "元首\t2\n",
      "法\t2\n",
      "内政\t2\n",
      "地方行政区分\t2\n",
      "外交・軍事\t2\n",
      "経済\t1\n",
      "鉱業\t2\n",
      "農業\t2\n",
      "貿易\t2\n",
      "不動産\t2\n",
      "エネルギー政策\t2\n",
      "通貨\t2\n",
      "企業\t2\n",
      "通信\t3\n",
      "交通\t1\n",
      "道路\t2\n",
      "鉄道\t2\n",
      "海運\t2\n",
      "航空\t2\n",
      "科学技術\t1\n",
      "国民\t1\n",
      "言語\t2\n",
      "宗教\t2\n",
      "婚姻\t2\n",
      "移住\t2\n",
      "教育\t2\n",
      "医療\t2\n",
      "文化\t1\n",
      "食文化\t2\n",
      "文学\t2\n",
      "哲学\t2\n",
      "音楽\t2\n",
      "ポピュラー音楽\t3\n",
      "映画\t2\n",
      "コメディ\t2\n",
      "国花\t2\n",
      "世界遺産\t2\n",
      "祝祭日\t2\n",
      "スポーツ\t2\n",
      "サッカー\t3\n",
      "クリケット\t3\n",
      "競馬\t3\n",
      "モータースポーツ\t3\n",
      "野球\t3\n",
      "カーリング\t3\n",
      "自転車競技\t3\n",
      "脚注\t1\n",
      "関連項目\t1\n",
      "外部リンク\t1\n"
     ]
    }
   ],
   "source": [
    "# 文字列メソッドを使用\n",
    "with open('work/jawiki-uk.txt') as fi:\n",
    "    for line in fi:\n",
    "        if line.startswith('=='):\n",
    "            line = line.strip()\n",
    "            sec_level = line.count('=') // 2  # レベルは，'='の数 / 2で求められる\n",
    "            sec_name = line[sec_level:-sec_level].strip()\n",
    "            print(sec_name, sec_level-1, sep='\\t')"
   ]
  },
  {
   "cell_type": "code",
   "execution_count": 16,
   "metadata": {},
   "outputs": [
    {
     "name": "stdout",
     "output_type": "stream",
     "text": [
      "国名\t1\n",
      "歴史\t1\n",
      "地理\t1\n",
      "主要都市\t2\n",
      "気候\t2\n",
      "政治\t1\n",
      "元首\t2\n",
      "法\t2\n",
      "内政\t2\n",
      "地方行政区分\t2\n",
      "外交・軍事\t2\n",
      "経済\t1\n",
      "鉱業\t2\n",
      "農業\t2\n",
      "貿易\t2\n",
      "不動産\t2\n",
      "エネルギー政策\t2\n",
      "通貨\t2\n",
      "企業\t2\n",
      "通信\t3\n",
      "交通\t1\n",
      "道路\t2\n",
      "鉄道\t2\n",
      "海運\t2\n",
      "航空\t2\n",
      "科学技術\t1\n",
      "国民\t1\n",
      "言語\t2\n",
      "宗教\t2\n",
      "婚姻\t2\n",
      "移住\t2\n",
      "教育\t2\n",
      "医療\t2\n",
      "文化\t1\n",
      "食文化\t2\n",
      "文学\t2\n",
      "哲学\t2\n",
      "音楽\t2\n",
      "ポピュラー音楽\t3\n",
      "映画\t2\n",
      "コメディ\t2\n",
      "国花\t2\n",
      "世界遺産\t2\n",
      "祝祭日\t2\n",
      "スポーツ\t2\n",
      "サッカー\t3\n",
      "クリケット\t3\n",
      "競馬\t3\n",
      "モータースポーツ\t3\n",
      "野球\t3\n",
      "カーリング \t3\n",
      "自転車競技 \t3\n",
      "脚注\t1\n",
      "関連項目\t1\n",
      "外部リンク\t1\n"
     ]
    }
   ],
   "source": [
    "# 正規表現を使用\n",
    "with open('work/jawiki-uk.txt') as fi:\n",
    "    for line in fi:\n",
    "        line = line.strip()\n",
    "        match = re.match(r'(==+) *(.+) *\\1$', line)\n",
    "        if match:\n",
    "            print(match.group(2), len(match.group(1)) - 1, sep='\\t')"
   ]
  },
  {
   "cell_type": "markdown",
   "metadata": {},
   "source": [
    "- 正規表現の解説\n",
    "    - (==+): 2文字以上の\"=\"を表す\n",
    "    - ␣*: 0文字以上の半角スペース\n",
    "    - (.+): 1文字以上の任意の文字列（貪欲マッチ）\n",
    "    - \\1: 手前でマッチしたもの（==+）にそのままマッチ\n",
    "    - $: 文字列の末尾"
   ]
  },
  {
   "cell_type": "markdown",
   "metadata": {},
   "source": [
    "## 24. ファイル参照の抽出\n",
    "記事から参照されているメディアファイルをすべて抜き出せ．"
   ]
  },
  {
   "cell_type": "code",
   "execution_count": 17,
   "metadata": {},
   "outputs": [
    {
     "data": {
      "text/plain": [
       "['Royal Coat of Arms of the United Kingdom.svg',\n",
       " 'United States Navy Band - God Save the Queen.ogg',\n",
       " 'Descriptio Prime Tabulae Europae.jpg',\n",
       " \"Lenepveu, Jeanne d'Arc au siège d'Orléans.jpg\",\n",
       " 'London.bankofengland.arp.jpg',\n",
       " 'Battle of Waterloo 1815.PNG',\n",
       " 'Uk topo en.jpg',\n",
       " 'BenNevis2005.jpg',\n",
       " 'Population density UK 2011 census.png',\n",
       " '2019 Greenwich Peninsula & Canary Wharf.jpg',\n",
       " 'Birmingham Skyline from Edgbaston Cricket Ground crop.jpg',\n",
       " 'Leeds CBD at night.jpg',\n",
       " 'Glasgow and the Clyde from the air (geograph 4665720).jpg',\n",
       " 'Palace of Westminster, London - Feb 2007.jpg',\n",
       " 'Scotland Parliament Holyrood.jpg',\n",
       " 'Donald Trump and Theresa May (33998675310) (cropped).jpg',\n",
       " 'Soldiers Trooping the Colour, 16th June 2007.jpg',\n",
       " 'City of London skyline from London City Hall - Oct 2008.jpg',\n",
       " 'Oil platform in the North SeaPros.jpg',\n",
       " 'Eurostar at St Pancras Jan 2008.jpg',\n",
       " 'Heathrow Terminal 5C Iwelumo-1.jpg',\n",
       " 'Airbus A380-841 G-XLEB British Airways (10424102995).jpg',\n",
       " 'UKpop.svg',\n",
       " 'Anglospeak.svg',\n",
       " \"Royal Aberdeen Children's Hospital.jpg\",\n",
       " 'CHANDOS3.jpg',\n",
       " 'The Fabs.JPG',\n",
       " 'Wembley Stadium, illuminated.jpg']"
      ]
     },
     "execution_count": 17,
     "metadata": {},
     "output_type": "execute_result"
    }
   ],
   "source": [
    "# パターンが複雑なため正規表現でやる\n",
    "media_files = []\n",
    "\n",
    "with open('work/jawiki-uk.txt') as fi:\n",
    "    for line in fi:\n",
    "        line = line.strip()\n",
    "        for match in re.finditer(r'\\[\\[(:?File:|Media:|ファイル:)([^\\]|]+)', line):\n",
    "            media_files.append(match.group(2))\n",
    "            \n",
    "media_files"
   ]
  },
  {
   "cell_type": "markdown",
   "metadata": {},
   "source": [
    "## 25. テンプレートの抽出\n",
    "記事中に含まれる「基礎情報」テンプレートのフィールド名と値を抽出し，辞書オブジェクトとして格納せよ．"
   ]
  },
  {
   "cell_type": "code",
   "execution_count": 10,
   "metadata": {},
   "outputs": [
    {
     "name": "stdout",
     "output_type": "stream",
     "text": [
      "略名 イギリス\n",
      "日本語国名 グレートブリテン及び北アイルランド連合王国\n",
      "公式国名 {{lang|en|United Kingdom of Great Britain and Northern Ireland}}<ref>英語以外での正式国名:<br />\n",
      "*{{lang|gd|An Rìoghachd Aonaichte na Breatainn Mhòr agus Eirinn mu Thuath}}（[[スコットランド・ゲール語]]）\n",
      "*{{lang|cy|Teyrnas Gyfunol Prydain Fawr a Gogledd Iwerddon}}（[[ウェールズ語]]）\n",
      "*{{lang|ga|Ríocht Aontaithe na Breataine Móire agus Tuaisceart na hÉireann}}（[[アイルランド語]]）\n",
      "*{{lang|kw|An Rywvaneth Unys a Vreten Veur hag Iwerdhon Glédh}}（[[コーンウォール語]]）\n",
      "*{{lang|sco|Unitit Kinrick o Great Breetain an Northren Ireland}}（[[スコットランド語]]）\n",
      "**{{lang|sco|Claught Kängrick o Docht Brätain an Norlin Airlann}}、{{lang|sco|Unitet Kängdom o Great Brittain an Norlin Airlann}}（アルスター・スコットランド語）</ref>\n",
      "国旗画像 Flag of the United Kingdom.svg\n",
      "国章画像 [[ファイル:Royal Coat of Arms of the United Kingdom.svg|85px|イギリスの国章]]\n",
      "国章リンク （[[イギリスの国章|国章]]）\n",
      "標語 {{lang|fr|[[Dieu et mon droit]]}}<br />（[[フランス語]]:[[Dieu et mon droit|神と我が権利]]）\n",
      "国歌 [[女王陛下万歳|{{lang|en|God Save the Queen}}]]{{en icon}}<br />''神よ女王を護り賜え''<br />{{center|[[ファイル:United States Navy Band - God Save the Queen.ogg]]}}\n",
      "地図画像 Europe-UK.svg\n",
      "位置画像 United Kingdom (+overseas territories) in the World (+Antarctica claims).svg\n"
     ]
    }
   ],
   "source": [
    "from itertools import islice\n",
    "\n",
    "with open('work/jawiki-uk.txt') as fi:\n",
    "    contents = fi.read()\n",
    "\n",
    "info = {}\n",
    "pattern = r'{{基礎情報 国\\n\\|(.*?)\\n}}'  \n",
    "prog = re.compile(pattern,re.DOTALL)  # DOTALLで改行を含む文字列を扱う\n",
    "template = prog.search(contents)  # 基礎情報templateの抽出\n",
    "\n",
    "for data in template.groups()[0].split('\\n|'):  # 項目ごとに分解してforループ\n",
    "    data = data.strip().split(' =')  # フィールド名と値に分解\n",
    "    info[data[0].strip()] = data[1].strip()  # 辞書に追加\n",
    "\n",
    "for k, v in islice(info.items(), 10):\n",
    "    print(k, v)"
   ]
  },
  {
   "cell_type": "markdown",
   "metadata": {},
   "source": [
    "## 26. 強調マークアップの除去\n",
    "25の処理時に，テンプレートの値からMediaWikiの強調マークアップ（弱い強調，強調，強い強調のすべて）を除去してテキストに変換せよ（参考: マークアップ早見表）．"
   ]
  },
  {
   "cell_type": "code",
   "execution_count": 12,
   "metadata": {},
   "outputs": [
    {
     "name": "stdout",
     "output_type": "stream",
     "text": [
      "略名 イギリス\n",
      "日本語国名 グレートブリテン及び北アイルランド連合王国\n",
      "公式国名 {{lang|en|United Kingdom of Great Britain and Northern Ireland}}<ref>英語以外での正式国名:<br />\n",
      "*{{lang|gd|An Rìoghachd Aonaichte na Breatainn Mhòr agus Eirinn mu Thuath}}（[[スコットランド・ゲール語]]）\n",
      "*{{lang|cy|Teyrnas Gyfunol Prydain Fawr a Gogledd Iwerddon}}（[[ウェールズ語]]）\n",
      "*{{lang|ga|Ríocht Aontaithe na Breataine Móire agus Tuaisceart na hÉireann}}（[[アイルランド語]]）\n",
      "*{{lang|kw|An Rywvaneth Unys a Vreten Veur hag Iwerdhon Glédh}}（[[コーンウォール語]]）\n",
      "*{{lang|sco|Unitit Kinrick o Great Breetain an Northren Ireland}}（[[スコットランド語]]）\n",
      "**{{lang|sco|Claught Kängrick o Docht Brätain an Norlin Airlann}}、{{lang|sco|Unitet Kängdom o Great Brittain an Norlin Airlann}}（アルスター・スコットランド語）</ref>\n",
      "国旗画像 Flag of the United Kingdom.svg\n",
      "国章画像 [[ファイル:Royal Coat of Arms of the United Kingdom.svg|85px|イギリスの国章]]\n",
      "国章リンク （[[イギリスの国章|国章]]）\n",
      "標語 {{lang|fr|[[Dieu et mon droit]]}}<br />（[[フランス語]]:[[Dieu et mon droit|神と我が権利]]）\n",
      "国歌 [[女王陛下万歳|{{lang|en|God Save the Queen}}]]{{en icon}}<br />神よ女王を護り賜え<br />{{center|[[ファイル:United States Navy Band - God Save the Queen.ogg]]}}\n",
      "地図画像 Europe-UK.svg\n",
      "位置画像 United Kingdom (+overseas territories) in the World (+Antarctica claims).svg\n",
      "公用語 [[英語]]\n",
      "首都 [[ロンドン]]（事実上）\n",
      "最大都市 ロンドン\n",
      "元首等肩書 [[イギリスの君主|女王]]\n",
      "元首等氏名 [[エリザベス2世]]\n",
      "首相等肩書 [[イギリスの首相|首相]]\n",
      "首相等氏名 [[ボリス・ジョンソン]]\n",
      "他元首等肩書1 [[貴族院 (イギリス)|貴族院議長]]\n",
      "他元首等氏名1 [[:en:Norman Fowler, Baron Fowler|ノーマン・ファウラー]]\n",
      "他元首等肩書2 [[庶民院 (イギリス)|庶民院議長]]\n"
     ]
    }
   ],
   "source": [
    "# info:基礎情報の辞書 dic_q26:強調マークアップ除去済みのinfo\n",
    "dic_q26 = {}\n",
    "\n",
    "for key,value in info.items():\n",
    "    # 斜体と強調を除去　'''''斜体と強調'''''→他との強調\n",
    "    dic_q26[key] = re.sub(\"'''''\",\"\",value)\n",
    "    # 強調を除去　'''強調'''→強調\n",
    "    dic_q26[key] = re.sub(\"'''\",\"\",dic_q26[key])\n",
    "    # 他との区別を除去　''他との区別''→他との区別\n",
    "    dic_q26[key] = re.sub(\"''\",\"\",dic_q26[key])\n",
    "    \n",
    "for k, v in islice(dic_q26.items(), 20):\n",
    "    print(k, v)"
   ]
  },
  {
   "cell_type": "markdown",
   "metadata": {},
   "source": [
    "## 27. 内部リンクの除去\n",
    "26の処理に加えて，テンプレートの値からMediaWikiの内部リンクマークアップを除去し，テキストに変換せよ（参考: マークアップ早見表）．"
   ]
  },
  {
   "cell_type": "code",
   "execution_count": 13,
   "metadata": {},
   "outputs": [
    {
     "name": "stdout",
     "output_type": "stream",
     "text": [
      "略名 イギリス\n",
      "日本語国名 グレートブリテン及び北アイルランド連合王国\n",
      "公式国名 {{lang|en|United Kingdom of Great Britain and Northern Ireland}}<ref>英語以外での正式国名:<br />\n",
      "*{{lang|gd|An Rìoghachd Aonaichte na Breatainn Mhòr agus Eirinn mu Thuath}}（スコットランド・ゲール語）\n",
      "*{{lang|cy|Teyrnas Gyfunol Prydain Fawr a Gogledd Iwerddon}}（ウェールズ語）\n",
      "*{{lang|ga|Ríocht Aontaithe na Breataine Móire agus Tuaisceart na hÉireann}}（アイルランド語）\n",
      "*{{lang|kw|An Rywvaneth Unys a Vreten Veur hag Iwerdhon Glédh}}（コーンウォール語）\n",
      "*{{lang|sco|Unitit Kinrick o Great Breetain an Northren Ireland}}（スコットランド語）\n",
      "**{{lang|sco|Claught Kängrick o Docht Brätain an Norlin Airlann}}、{{lang|sco|Unitet Kängdom o Great Brittain an Norlin Airlann}}（アルスター・スコットランド語）</ref>\n",
      "国旗画像 Flag of the United Kingdom.svg\n",
      "国章画像 [[ファイル:Royal Coat of Arms of the United Kingdom.svg|85px|イギリスの国章]]\n",
      "国章リンク （国章）\n",
      "標語 {{lang|fr|Dieu et mon droit}}<br />（フランス語:神と我が権利）\n",
      "国歌 God Save the Queen}}{{en icon}}<br />神よ女王を護り賜え<br />{{center|[[ファイル:United States Navy Band - God Save the Queen.ogg]]}}\n",
      "地図画像 Europe-UK.svg\n",
      "位置画像 United Kingdom (+overseas territories) in the World (+Antarctica claims).svg\n",
      "公用語 英語\n",
      "首都 ロンドン（事実上）\n",
      "最大都市 ロンドン\n",
      "元首等肩書 女王\n",
      "元首等氏名 エリザベス2世\n",
      "首相等肩書 首相\n",
      "首相等氏名 ボリス・ジョンソン\n",
      "他元首等肩書1 貴族院議長\n",
      "他元首等氏名1 ノーマン・ファウラー\n",
      "他元首等肩書2 庶民院議長\n"
     ]
    }
   ],
   "source": [
    "# マッチオブジェクトを引数として、マッチした文字列のうち記事名or表示文字を取り出す関数\n",
    "def internal_link_remove(match_object):\n",
    "    match_text = match_object.group('text')  # match_text:マッチした文字列の名前をつけた部分\n",
    "    # ファイルへのリンクはそのまま\n",
    "    if match_text.startswith('ファイル:'):\n",
    "        return match_object.group(0)  # 置換せずそのままにするのでマッチした文字列全体を返す\n",
    "    else:\n",
    "        text = re.sub(r'.*?\\|', '', match_text)  # |で分割し一番後ろを取ってくることで実現\n",
    "        return text\n",
    "\n",
    "dic_q27 = {}  # 内部リンクまで除去済みのinfo\n",
    "\n",
    "for key, value in dic_q26.items():\n",
    "    # re.sub()の引数replは関数を渡すことが可能\n",
    "    # 関数を渡した場合、関数の第一引数にはマッチオブジェクトを取り、置換後の文字列を返す\n",
    "    # [[記事名]]→記事名　[[記事名|表示文字]]→表示文字　[[記事名#節名｜表示文字]]→表示文字\n",
    "    # [[ファイル:~]]はそのまま\n",
    "    dic_q27[key] = re.sub(r\"\\[\\[(?P<text>.*?)]]\", internal_link_remove, value)\n",
    "\n",
    "\n",
    "for k, v in islice(dic_q27.items(), 20):\n",
    "    print(k, v)"
   ]
  },
  {
   "cell_type": "markdown",
   "metadata": {},
   "source": [
    "## 28. MediaWikiマークアップの除去\n",
    "27の処理に加えて，テンプレートの値からMediaWikiマークアップを可能な限り除去し，国の基本情報を整形せよ．"
   ]
  },
  {
   "cell_type": "code",
   "execution_count": 15,
   "metadata": {},
   "outputs": [
    {
     "name": "stdout",
     "output_type": "stream",
     "text": [
      "略名 イギリス\n",
      "日本語国名 グレートブリテン及び北アイルランド連合王国\n",
      "公式国名 United Kingdom of Great Britain and Northern Ireland\n",
      "国旗画像 Flag of the United Kingdom.svg\n",
      "国章画像 ファイル:Royal Coat of Arms of the United Kingdom.svg|85px|イギリスの国章\n",
      "国章リンク （国章）\n",
      "標語 Dieu et mon droit（フランス語:神と我が権利）\n",
      "国歌 God Save the Queen神よ女王を護り賜えファイル:United States Navy Band - God Save the Queen.ogg\n",
      "地図画像 Europe-UK.svg\n",
      "位置画像 United Kingdom (+overseas territories) in the World (+Antarctica claims).svg\n",
      "公用語 英語\n",
      "首都 ロンドン（事実上）\n",
      "最大都市 ロンドン\n",
      "元首等肩書 女王\n",
      "元首等氏名 エリザベス2世\n",
      "首相等肩書 首相\n",
      "首相等氏名 ボリス・ジョンソン\n",
      "他元首等肩書1 貴族院議長\n",
      "他元首等氏名1 ノーマン・ファウラー\n",
      "他元首等肩書2 庶民院議長\n"
     ]
    }
   ],
   "source": [
    "# マッチオブジェクトを引数とし、template{{~}}を処理後の文字列を返す関数\n",
    "def template_remove(match_object):\n",
    "    text_list = match_object.group('template').split('|')  # |で分割\n",
    "    # {{~}}の~に|が１つもなかったらその部分まるごと除去\n",
    "    if len(text_list) == 1:\n",
    "        return ''\n",
    "    # {{~|~}}のように、|が１つ以上あったら|の一番右側だけ残す {{A|B|C}}みたいなやつ→Cにする\n",
    "    else:\n",
    "        return text_list[-1]\n",
    "    \n",
    "dic_q28 = {}  # MediaWikiマークアップまで除去済みのinfo\n",
    "\n",
    "for k,v in dic_q27.items():\n",
    "    # 途中で改行があるかもしれないのでDOTALLフラグ指定(これがないと.は改行にマッチしない)\n",
    "    # {{~}}の除去　\n",
    "    dic_q28[k] = re.sub(r'\\{\\{(?P<template>.*?)}}', template_remove, v, flags=re.DOTALL)\n",
    "    \n",
    "    #　<ref>~</ref>,<ref name=~/>の除去\n",
    "    dic_q28[k] = re.sub(r'<ref>.*?</ref>|<ref.*?/(ref)*>', '', dic_q28[k], flags=re.DOTALL)\n",
    "    \n",
    "    #　{{~}}<br/>,~<br />{{~}}の除去\n",
    "    dic_q28[k] = re.sub(r'(\\{\\{)*(?P<name>.*?)(\\}\\})*(<br(\\s)*/>)*', '\\g<name>', dic_q28[k], flags=re.DOTALL)\n",
    "    \n",
    "    # ファイルの[[ファイル:~]]を除去　[[ファイル:~]]→ファイル:~\n",
    "    dic_q28[k] = re.sub(r'\\[\\[(?P<file_info>.*?)]]', '\\g<file_info>', dic_q28[k], flags=re.DOTALL)\n",
    "\n",
    "    \n",
    "for k, v in islice(dic_q28.items(), 20):\n",
    "    print(k, v)"
   ]
  },
  {
   "cell_type": "markdown",
   "metadata": {},
   "source": [
    "## 29. 国旗画像のURLを取得する\n",
    "テンプレートの内容を利用し，国旗画像のURLを取得せよ．（ヒント: MediaWiki APIのimageinfoを呼び出して，ファイル参照をURLに変換すればよい）"
   ]
  },
  {
   "cell_type": "code",
   "execution_count": 17,
   "metadata": {},
   "outputs": [
    {
     "name": "stdout",
     "output_type": "stream",
     "text": [
      "<Response [200]>\n",
      "{'continue': {'iistart': '2019-09-10T16:52:58Z', 'continue': '||'}, 'query': {'pages': {'-1': {'ns': 6, 'title': 'File:Flag of the United Kingdom.svg', 'missing': '', 'known': '', 'imagerepository': 'shared', 'imageinfo': [{'url': 'https://upload.wikimedia.org/wikipedia/commons/a/ae/Flag_of_the_United_Kingdom.svg', 'descriptionurl': 'https://commons.wikimedia.org/wiki/File:Flag_of_the_United_Kingdom.svg', 'descriptionshorturl': 'https://commons.wikimedia.org/w/index.php?curid=347935'}]}}}}\n",
      "https://upload.wikimedia.org/wikipedia/commons/a/ae/Flag_of_the_United_Kingdom.svg\n"
     ]
    }
   ],
   "source": [
    "import requests\n",
    "\n",
    "session = requests.Session()  # sessionを有効にする\n",
    "\n",
    "URL = 'https://www.mediawiki.org/w/api.php'\n",
    "\n",
    "info = dic_q28['国旗画像']  # 国旗画像のURL\n",
    "\n",
    "# action:操作(queryとかloginとか)\n",
    "# format:出力フォーマット\n",
    "# prop:取得したい情報は？(info,images,links,など)\n",
    "# titles:記事タイトル\n",
    "# iiprop:取得する要素　今回はURL\n",
    "PARAMS = {\n",
    "    \"action\":\"query\",\n",
    "    \"format\":\"json\",\n",
    "    \"prop\":\"imageinfo\",\n",
    "    \"iiprop\":\"url\",\n",
    "    \"titles\":\"File:\"+info    \n",
    "}\n",
    "\n",
    "\n",
    "response  = session.get(url=URL,params=PARAMS)\n",
    "print(response)\n",
    "data = response.json()  # レスポンスをデコード\n",
    "print(data)  # jsonデータの確認用\n",
    "url = data[\"query\"][\"pages\"][\"-1\"][\"imageinfo\"][0][\"url\"]\n",
    "print(url)"
   ]
  },
  {
   "cell_type": "code",
   "execution_count": 18,
   "metadata": {},
   "outputs": [
    {
     "data": {
      "image/svg+xml": [
       "<svg height=\"600\" viewBox=\"0 0 60 30\" width=\"1200\" xmlns=\"http://www.w3.org/2000/svg\">\n",
       "<clipPath id=\"s\">\n",
       "\t<path d=\"M0,0 v30 h60 v-30 z\"/>\n",
       "</clipPath>\n",
       "<clipPath id=\"t\">\n",
       "\t<path d=\"M30,15 h30 v15 z v15 h-30 z h-30 v-15 z v-15 h30 z\"/>\n",
       "</clipPath>\n",
       "<g clip-path=\"url(#s)\">\n",
       "\t<path d=\"M0,0 v30 h60 v-30 z\" fill=\"#012169\"/>\n",
       "\t<path d=\"M0,0 L60,30 M60,0 L0,30\" stroke=\"#fff\" stroke-width=\"6\"/>\n",
       "\t<path clip-path=\"url(#t)\" d=\"M0,0 L60,30 M60,0 L0,30\" stroke=\"#C8102E\" stroke-width=\"4\"/>\n",
       "\t<path d=\"M30,0 v30 M0,15 h60\" stroke=\"#fff\" stroke-width=\"10\"/>\n",
       "\t<path d=\"M30,0 v30 M0,15 h60\" stroke=\"#C8102E\" stroke-width=\"6\"/>\n",
       "</g>\n",
       "</svg>"
      ],
      "text/plain": [
       "<IPython.core.display.SVG object>"
      ]
     },
     "execution_count": 18,
     "metadata": {},
     "output_type": "execute_result"
    }
   ],
   "source": [
    "# 国旗画像表示\n",
    "from IPython.display import Image,SVG\n",
    "SVG(url)"
   ]
  }
 ],
 "metadata": {
  "kernelspec": {
   "display_name": "Python 3",
   "language": "python",
   "name": "python3"
  },
  "language_info": {
   "codemirror_mode": {
    "name": "ipython",
    "version": 3
   },
   "file_extension": ".py",
   "mimetype": "text/x-python",
   "name": "python",
   "nbconvert_exporter": "python",
   "pygments_lexer": "ipython3",
   "version": "3.7.4"
  }
 },
 "nbformat": 4,
 "nbformat_minor": 4
}
