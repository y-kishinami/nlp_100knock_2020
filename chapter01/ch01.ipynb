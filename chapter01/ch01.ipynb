{
 "cells": [
  {
   "cell_type": "markdown",
   "metadata": {},
   "source": [
    "# 第1章: 準備運動"
   ]
  },
  {
   "cell_type": "markdown",
   "metadata": {},
   "source": [
    "## 00. 文字列の逆順\n",
    "文字列”stressed”の文字を逆に（末尾から先頭に向かって）並べた文字列を得よ．"
   ]
  },
  {
   "cell_type": "code",
   "execution_count": 2,
   "metadata": {},
   "outputs": [],
   "source": [
    "text = \"stressed\""
   ]
  },
  {
   "cell_type": "code",
   "execution_count": 2,
   "metadata": {},
   "outputs": [
    {
     "name": "stdout",
     "output_type": "stream",
     "text": [
      "desserts\n"
     ]
    }
   ],
   "source": [
    "print(text[::-1])"
   ]
  },
  {
   "cell_type": "code",
   "execution_count": 5,
   "metadata": {},
   "outputs": [
    {
     "name": "stdout",
     "output_type": "stream",
     "text": [
      "desserts\n"
     ]
    }
   ],
   "source": [
    "new_str = ''.join(list(reversed(text))) # 一つの文字列に連結\n",
    "print(new_str)"
   ]
  },
  {
   "cell_type": "markdown",
   "metadata": {},
   "source": [
    "## 01. 「パタトクカシーー」\n",
    "「パタトクカシーー」という文字列の1,3,5,7文字目を取り出して連結した文字列を得よ．"
   ]
  },
  {
   "cell_type": "code",
   "execution_count": 1,
   "metadata": {},
   "outputs": [
    {
     "name": "stdout",
     "output_type": "stream",
     "text": [
      "パトカー\n"
     ]
    }
   ],
   "source": [
    "text = \"パタトクカシーー\"\n",
    "text = text[0:8:2] # スタートから8文字目まで　省略可能\n",
    "print(text)"
   ]
  },
  {
   "cell_type": "markdown",
   "metadata": {},
   "source": [
    "## 02. 「パトカー」＋「タクシー」＝「パタトクカシーー」\n",
    "「パトカー」＋「タクシー」の文字を先頭から交互に連結して文字列「パタトクカシーー」を得よ．"
   ]
  },
  {
   "cell_type": "code",
   "execution_count": 7,
   "metadata": {},
   "outputs": [
    {
     "name": "stdout",
     "output_type": "stream",
     "text": [
      "パタトクカシーー\n"
     ]
    }
   ],
   "source": [
    "str1 = \"パトカー\"\n",
    "str2 = \"タクシー\"\n",
    "new_str = \"\"\n",
    "for s1, s2 in zip(str1,str2):\n",
    "    new_str = new_str + s1 + s2\n",
    "print(new_str)"
   ]
  },
  {
   "cell_type": "code",
   "execution_count": 2,
   "metadata": {},
   "outputs": [
    {
     "name": "stdout",
     "output_type": "stream",
     "text": [
      "パタトクカシーー\n"
     ]
    }
   ],
   "source": [
    "# generator\n",
    "str1 = 'パトカー'\n",
    "str2 = 'タクシー'\n",
    "print(''.join(c1+c2 for c1,c2 in zip(str1,str2)))"
   ]
  },
  {
   "cell_type": "markdown",
   "metadata": {},
   "source": [
    "## 03. 円周率\n",
    "“Now I need a drink, alcoholic of course, after the heavy lectures involving quantum mechanics.”という文を単語に分解し，各単語の（アルファベットの）文字数を先頭から出現順に並べたリストを作成せよ．"
   ]
  },
  {
   "cell_type": "code",
   "execution_count": 8,
   "metadata": {},
   "outputs": [
    {
     "name": "stdout",
     "output_type": "stream",
     "text": [
      "['Now', 'I', 'need', 'a', 'drink,', 'alcoholic', 'of', 'course,', 'after', 'the', 'heavy', 'lectures', 'involving', 'quantum', 'mechanics.']\n",
      "[3, 1, 4, 1, 5, 9, 2, 6, 5, 3, 5, 8, 9, 7, 9]\n"
     ]
    }
   ],
   "source": [
    "text = \"Now I need a drink, alcoholic of course, after the heavy lectures involving quantum mechanics.\"\n",
    "len_list = []\n",
    "text = text.split(' ')  # strip()の()内を省略した場合、空白文字（タブやスペース等）を区切りとして分割する\n",
    "print(text)\n",
    "\n",
    "for s in text:\n",
    "    s = s.strip(',.')\n",
    "    len_list.append(len(s))\n",
    "    \n",
    "print(len_list)"
   ]
  },
  {
   "cell_type": "code",
   "execution_count": 40,
   "metadata": {},
   "outputs": [
    {
     "name": "stdout",
     "output_type": "stream",
     "text": [
      "['Now', 'I', 'need', 'a', 'drink', 'alcoholic', 'of', 'course', 'after', 'the', 'heavy', 'lectures', 'involving', 'quantum', 'mechanics']\n",
      "[3, 1, 4, 1, 5, 9, 2, 6, 5, 3, 5, 8, 9, 7, 9]\n"
     ]
    }
   ],
   "source": [
    "#正規表現使用\n",
    "import re\n",
    "text = \"Now I need a drink, alcoholic of course, after the heavy lectures involving quantum mechanics.\"\n",
    "words = re.sub(',|\\.','',text).split()\n",
    "print(words)\n",
    "print([len(word) for word in words])"
   ]
  },
  {
   "cell_type": "code",
   "execution_count": 6,
   "metadata": {},
   "outputs": [
    {
     "name": "stdout",
     "output_type": "stream",
     "text": [
      "bcabcabc\n",
      "abcb\n",
      "bcba\n"
     ]
    }
   ],
   "source": [
    "# str.strip()は文字列の両端に存在する指定文字を取り除く\n",
    "\n",
    "print('abcabcabc'.strip('a'))\n",
    "# str.rstrip()は右端のみ\n",
    "print('abcba'.rstrip('a'))\n",
    "# str.lstrip()は左端のみ\n",
    "print('abcba'.lstrip('a'))"
   ]
  },
  {
   "cell_type": "markdown",
   "metadata": {},
   "source": [
    "## 04. 元素記号\n",
    "“Hi He Lied Because Boron Could Not Oxidize Fluorine. New Nations Might Also Sign Peace Security Clause. Arthur King Can.”という文を単語に分解し，1, 5, 6, 7, 8, 9, 15, 16, 19番目の単語は先頭の1文字，それ以外の単語は先頭に2文字を取り出し，取り出した文字列から単語の位置（先頭から何番目の単語か）への連想配列（辞書型もしくはマップ型）を作成せよ．"
   ]
  },
  {
   "cell_type": "code",
   "execution_count": 9,
   "metadata": {},
   "outputs": [
    {
     "name": "stdout",
     "output_type": "stream",
     "text": [
      "{'H': 1, 'He': 2, 'Li': 3, 'Be': 4, 'B': 5, 'C': 6, 'N': 7, 'O': 8, 'F': 9, 'Ne': 10, 'Na': 11, 'Mi': 12, 'Al': 13, 'Si': 14, 'P': 15, 'S': 16, 'Cl': 17, 'Ar': 18, 'K': 19, 'Ca': 20}\n"
     ]
    }
   ],
   "source": [
    "text = \"Hi He Lied Because Boron Could Not Oxidize Fluorine. New Nations Might Also Sign Peace Security Clause. Arthur King Can.\"\n",
    "words = text.split(' ')\n",
    "word_list = []\n",
    "first_list = [0,4,5,6,7,8,14,15,18]\n",
    "dic = {}\n",
    "\n",
    "for i in range(len(words)):\n",
    "    if i in first_list:\n",
    "        dic[words[i][:1]] = i+1\n",
    "    else:\n",
    "        dic[words[i][:2]] = i+1\n",
    "print(dic)"
   ]
  },
  {
   "cell_type": "code",
   "execution_count": 3,
   "metadata": {},
   "outputs": [
    {
     "name": "stdout",
     "output_type": "stream",
     "text": [
      "{'H': 1, 'He': 2, 'Li': 3, 'Be': 4, 'B': 5, 'C': 6, 'N': 7, 'O': 8, 'F': 9, 'Ne': 10, 'Na': 11, 'Mi': 12, 'Al': 13, 'Si': 14, 'P': 15, 'S': 16, 'Cl': 17, 'Ar': 18, 'K': 19, 'Ca': 20}\n"
     ]
    }
   ],
   "source": [
    "text = 'Hi He Lied Because Boron Could Not Oxidize Fluorine. New Nations Might Also Sign Peace Security Clause. Arthur King Can.'\n",
    "onechar_idx_list = [1, 5, 6, 7, 8, 9, 15, 16, 19]\n",
    "onechar_indice = set(onechar_idx_list)\n",
    "\n",
    "words = [word.strip('.,') for word in text.split()]\n",
    "word2idx_dct =dict((word[0],idx) if idx in onechar_indice else (word[:2],idx)\n",
    "               for idx, word in enumerate(words, start=1))\n",
    "print(word2idx_dct)"
   ]
  },
  {
   "cell_type": "markdown",
   "metadata": {},
   "source": [
    "## 05. n-gram\n",
    "与えられたシーケンス（文字列やリストなど）からn-gramを作る関数を作成せよ．この関数を用い，”I am an NLPer”という文から単語bi-gram，文字bi-gramを得よ．"
   ]
  },
  {
   "cell_type": "code",
   "execution_count": 4,
   "metadata": {},
   "outputs": [
    {
     "name": "stdout",
     "output_type": "stream",
     "text": [
      "['I ', ' a', 'am', 'm ', ' a', 'an', 'n ', ' N', 'NL', 'LP', 'Pe', 'er']\n",
      "[['I', 'am'], ['am', 'an'], ['an', 'NLPer']]\n"
     ]
    }
   ],
   "source": [
    "# classify_typeがlistなら単語n-gramを得る。それ以外は文字n-gram\n",
    "def n_gram(text, n, classify_type):\n",
    "    i = 0\n",
    "    ans = []\n",
    "    # シーケンスが文字列だった場合、単語に分割\n",
    "    if classify_type == \"list\" and type(text) is str:\n",
    "        text = text.split()\n",
    "            \n",
    "    while (i < len(text)):  # 基準とする文字を１ずつずらしていく\n",
    "        if len(text[i:i+n]) == n:\n",
    "            ans.append(text[i:i+n])\n",
    "        i += 1\n",
    "    return ans\n",
    "            \n",
    "print(n_gram(\"I am an NLPer\", 2, \"str\"))\n",
    "print(n_gram(\"I am an NLPer\", 2, \"list\"))"
   ]
  },
  {
   "cell_type": "code",
   "execution_count": 5,
   "metadata": {},
   "outputs": [
    {
     "name": "stdout",
     "output_type": "stream",
     "text": [
      "['I ', ' a', 'am', 'm ', ' a', 'an', 'n ', ' N', 'NL', 'LP', 'Pe', 'er']\n",
      "[['I', 'am'], ['am', 'an'], ['an', 'NLPer']]\n"
     ]
    }
   ],
   "source": [
    "def n_gram(name, n):\n",
    "    return [name[i:i+n] for i in range(len(name)-n+1)]\n",
    "\n",
    "print(n_gram(\"I am an NLPer\", 2))\n",
    "print(n_gram(\"I am an NLPer\".split(), 2))"
   ]
  },
  {
   "cell_type": "markdown",
   "metadata": {},
   "source": [
    "## 06. 集合\n",
    "“paraparaparadise”と”paragraph”に含まれる文字bi-gramの集合を，それぞれ, XとYとして求め，XとYの和集合，積集合，差集合を求めよ．さらに，’se’というbi-gramがXおよびYに含まれるかどうかを調べよ．"
   ]
  },
  {
   "cell_type": "code",
   "execution_count": 6,
   "metadata": {},
   "outputs": [
    {
     "name": "stdout",
     "output_type": "stream",
     "text": [
      "{'ra', 'di', 'pa', 'ar', 'is', 'ad', 'se', 'ap'} {'ph', 'ra', 'ag', 'pa', 'ar', 'ap', 'gr'}\n",
      "union : {'ph', 'ra', 'di', 'ag', 'pa', 'ar', 'is', 'ad', 'se', 'ap', 'gr'}\n",
      "intersection : {'ar', 'ap', 'pa', 'ra'}\n",
      "difference_set : {'ad', 'se', 'di', 'is'}\n",
      "se exists.\n",
      "se doesn't exist.\n"
     ]
    }
   ],
   "source": [
    "def bi_gram(text):  # bi-gramを求めるための関数\n",
    "    ans = set()\n",
    "    i = 0\n",
    "    while i < len(text):        \n",
    "        if len(text[i:i+2]) == 2:\n",
    "            ans.add(text[i:i+2])\n",
    "        i += 1\n",
    "    return ans\n",
    "\n",
    "X = bi_gram(\"paraparaparadise\")\n",
    "Y = bi_gram(\"paragraph\")\n",
    "print(X, Y)\n",
    "\n",
    "\n",
    "union = X | Y  # 和集合\n",
    "intersection = X & Y  # 積集合\n",
    "difference_set = X - Y  # 差集合\n",
    "print(\"union : {}\".format(union))\n",
    "print(\"intersection : {}\".format(intersection))\n",
    "print(\"difference_set : {}\".format(difference_set))\n",
    "\n",
    "# seがX及びYに含まれるかどうかを判定\n",
    "def se(target):\n",
    "    if \"se\" in target:\n",
    "        print(\"se exists.\")\n",
    "    else:\n",
    "        print(\"se doesn't exist.\")\n",
    "se(X)\n",
    "se(Y)"
   ]
  },
  {
   "cell_type": "code",
   "execution_count": 7,
   "metadata": {},
   "outputs": [
    {
     "name": "stdout",
     "output_type": "stream",
     "text": [
      "X:{'ra', 'di', 'pa', 'ar', 'is', 'ad', 'se', 'ap'}\n",
      "Y:{'ph', 'ra', 'ag', 'pa', 'ar', 'ap', 'gr'}\n",
      "union:{'ph', 'ra', 'di', 'ag', 'pa', 'ar', 'is', 'ad', 'se', 'ap', 'gr'}\n",
      "intersection:{'ar', 'ap', 'pa', 'ra'}\n",
      "difference_set:{'ad', 'se', 'di', 'is'}\n",
      "se exists.\n",
      "se doesn't exist.\n"
     ]
    }
   ],
   "source": [
    "text1 = 'paraparaparadise'\n",
    "text2 = 'paragraph'\n",
    "\n",
    "X = set(n_gram(text1, 2))\n",
    "Y = set(n_gram(text2, 2))\n",
    "\n",
    "print(\"X:{}\\nY:{}\".format(X, Y))\n",
    "print(\"union:{}\\nintersection:{}\\ndifference_set:{}\".format(X | Y, X & Y, X - Y))\n",
    "print(\"se exists.\" if \"se\" in X else \"se doesn't exist.\")  # 'se'の存在判定\n",
    "print(\"se exists.\" if \"se\" in Y else \"se doesn't exist.\")  # 'se'の存在判定"
   ]
  },
  {
   "cell_type": "markdown",
   "metadata": {},
   "source": [
    "## 07. テンプレートによる文生成\n",
    "引数x, y, zを受け取り「x時のyはz」という文字列を返す関数を実装せよ．さらに，x=12, y=”気温”, z=22.4として，実行結果を確認せよ．"
   ]
  },
  {
   "cell_type": "code",
   "execution_count": 73,
   "metadata": {},
   "outputs": [
    {
     "name": "stdout",
     "output_type": "stream",
     "text": [
      "12時の気温は22.4\n",
      "CPU times: user 212 µs, sys: 97 µs, total: 309 µs\n",
      "Wall time: 238 µs\n"
     ]
    }
   ],
   "source": [
    "%%time\n",
    "# 文字列の足し算\n",
    "def create_text(x, y, z):\n",
    "    ans = x +  \"時の\" + y + \"は\" + z\n",
    "    return ans\n",
    "\n",
    "print(create_text(\"12\", \"気温\", \"22.4\"))"
   ]
  },
  {
   "cell_type": "code",
   "execution_count": 74,
   "metadata": {},
   "outputs": [
    {
     "name": "stdout",
     "output_type": "stream",
     "text": [
      "12時の気温は22.4\n",
      "CPU times: user 270 µs, sys: 94 µs, total: 364 µs\n",
      "Wall time: 292 µs\n"
     ]
    }
   ],
   "source": [
    "%%time\n",
    "# format()メソッドを使用する方が遅い\n",
    "def create_text(x, y, z):\n",
    "    return \"{}時の{}は{}\".format(x, y, z)\n",
    "print(create_text(\"12\", \"気温\", \"22.4\"))"
   ]
  },
  {
   "cell_type": "markdown",
   "metadata": {},
   "source": [
    "## 08. 暗号文\n",
    "与えられた文字列の各文字を，以下の仕様で変換する関数cipherを実装せよ．\n",
    "\n",
    "英小文字ならば(219 - 文字コード)の文字に置換\n",
    "その他の文字はそのまま出力\n",
    "この関数を用い，英語のメッセージを暗号化・復号化せよ．"
   ]
  },
  {
   "cell_type": "code",
   "execution_count": 9,
   "metadata": {},
   "outputs": [
    {
     "name": "stdout",
     "output_type": "stream",
     "text": [
      "blhfpvKEblf\n",
      "yosukeKEyou\n"
     ]
    }
   ],
   "source": [
    "def cipher(text):\n",
    "    ans = ''\n",
    "    for s in text:\n",
    "        if s.islower():\n",
    "            # chrで文字コードを文字に変換、ordで文字列を文字コードに変換\n",
    "            ans = ans + chr(219 - ord(s))\n",
    "        else:\n",
    "            ans = ans + s\n",
    "    return ans\n",
    "\n",
    "print(cipher(\"yosukeKEyou\")) #暗号化\n",
    "print(cipher(cipher(\"yosukeKEyou\"))) #復号化"
   ]
  },
  {
   "cell_type": "code",
   "execution_count": 72,
   "metadata": {},
   "outputs": [
    {
     "name": "stdout",
     "output_type": "stream",
     "text": [
      "blhfpvKEblf\n",
      "yousukeKEyou\n",
      "CPU times: user 488 µs, sys: 643 µs, total: 1.13 ms\n",
      "Wall time: 854 µs\n"
     ]
    }
   ],
   "source": [
    "%%time\n",
    "# 三項演算子を使用\n",
    "def cipher(text):\n",
    "    ans = ''\n",
    "    for s in text:\n",
    "        ans += chr(219 - ord(s)) if s.islower() else s\n",
    "    return ans\n",
    "\n",
    "print(cipher(\"yosukeKEyou\"))\n",
    "print(cipher(cipher(\"yousukeKEyou\")))  # 219 - (219 - ord(s)) = ord(s)"
   ]
  },
  {
   "cell_type": "code",
   "execution_count": 71,
   "metadata": {},
   "outputs": [
    {
     "name": "stdout",
     "output_type": "stream",
     "text": [
      "blhfpvKEblf\n",
      "yosukeKEyou\n",
      "CPU times: user 480 µs, sys: 297 µs, total: 777 µs\n",
      "Wall time: 608 µs\n"
     ]
    }
   ],
   "source": [
    "%%time\n",
    "def cipher(text):\n",
    "    return ''.join((chr(219 - ord(s)) if s.islower() else s for s in text))\n",
    "print(cipher(\"yosukeKEyou\"))\n",
    "print(cipher(cipher(\"yosukeKEyou\")))"
   ]
  },
  {
   "cell_type": "markdown",
   "metadata": {},
   "source": [
    "## 09. Typoglycemia\n",
    "スペースで区切られた単語列に対して，各単語の先頭と末尾の文字は残し，それ以外の文字の順序をランダムに並び替えるプログラムを作成せよ．ただし，長さが４以下の単語は並び替えないこととする．適当な英語の文（例えば”I couldn’t believe that I could actually understand what I was reading : the phenomenal power of the human mind .”）を与え，その実行結果を確認せよ．"
   ]
  },
  {
   "cell_type": "code",
   "execution_count": 77,
   "metadata": {},
   "outputs": [
    {
     "name": "stdout",
     "output_type": "stream",
     "text": [
      "I couldn’t believe that I could actually understand what I was reading : the phenomenal power of the human mind .\n",
      "I c’ouldnt bveleie that I culod altucaly uandenstrd what I was rdaieng : the ponhanmeel peowr of the hamun mind .\n"
     ]
    }
   ],
   "source": [
    "import random\n",
    "text = \"I couldn’t believe that I could actually understand what I was reading : the phenomenal power of the human mind .\"\n",
    "print(text)\n",
    "\n",
    "def str_shuffle(text):\n",
    "    text = text.split()\n",
    "    shuffle_list = []  # 並べ替え後の単語格納用\n",
    "    for word in text:\n",
    "        if len(word) > 4:\n",
    "            tmp_list = list(word)\n",
    "            l = tmp_list[1:-1]  # 各単語の先頭・末尾以外の文字のリスト \n",
    "            random.shuffle(l)\n",
    "            tmp_list[1:-1] = l\n",
    "            word = ''.join(tmp_list)  # シャッフル済の文字列を合わせてシャッフル済の単語を作成\n",
    "            shuffle_list.append(word)\n",
    "        # 長さが４以下の単語は並び替えない\n",
    "        else:\n",
    "            shuffle_list.append(word)\n",
    "    return ' '.join(shuffle_list)\n",
    "\n",
    "\n",
    "print(str_shuffle(text))"
   ]
  }
 ],
 "metadata": {
  "kernelspec": {
   "display_name": "Python 3",
   "language": "python",
   "name": "python3"
  },
  "language_info": {
   "codemirror_mode": {
    "name": "ipython",
    "version": 3
   },
   "file_extension": ".py",
   "mimetype": "text/x-python",
   "name": "python",
   "nbconvert_exporter": "python",
   "pygments_lexer": "ipython3",
   "version": "3.7.4"
  }
 },
 "nbformat": 4,
 "nbformat_minor": 4
}
