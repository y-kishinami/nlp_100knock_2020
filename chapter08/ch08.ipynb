{
 "cells": [
  {
   "cell_type": "markdown",
   "metadata": {},
   "source": [
    "# 第8章: ニューラルネット\n",
    "第6章で取り組んだニュース記事のカテゴリ分類を題材として，ニューラルネットワークでカテゴリ分類モデルを実装する．なお，この章ではPyTorch, TensorFlow, Chainerなどの機械学習プラットフォームを活用せよ．\n",
    "\n",
    "## 70. 単語ベクトルの和による特徴量\n",
    "問題50で構築した学習データ，検証データ，評価データを行列・ベクトルに変換したい．例えば，学習データについて，すべての事例xiの特徴ベクトルxiを並べた行列Xと，正解ラベルを並べた行列（ベクトル）Yを作成したい．・・・"
   ]
  },
  {
   "cell_type": "code",
   "execution_count": 1,
   "metadata": {},
   "outputs": [
    {
     "name": "stdout",
     "output_type": "stream",
     "text": [
      "vocab size: 3000000\n",
      "vec dim: (300,)\n"
     ]
    }
   ],
   "source": [
    "import gensim\n",
    "\n",
    "# Load Google's pre-trained Word2Vec model.\n",
    "model = gensim.models.KeyedVectors.load_word2vec_format('../chapter07/data/GoogleNews-vectors-negative300.bin', binary=True)\n",
    "print('vocab size:', len(model.vocab))\n",
    "print('vec dim:', model['United_States'].shape)"
   ]
  },
  {
   "cell_type": "code",
   "execution_count": 1,
   "metadata": {},
   "outputs": [
    {
     "name": "stderr",
     "output_type": "stream",
     "text": [
      "[nltk_data] Downloading package punkt to\n",
      "[nltk_data]     /Users/y_kishinami/nltk_data...\n",
      "[nltk_data]   Package punkt is already up-to-date!\n"
     ]
    },
    {
     "data": {
      "text/plain": [
       "True"
      ]
     },
     "execution_count": 1,
     "metadata": {},
     "output_type": "execute_result"
    }
   ],
   "source": [
    "from logzero import logger\n",
    "from tqdm import tqdm\n",
    "import numpy as np\n",
    "import nltk\n",
    "nltk.download('punkt')  # 英語単語分割に使用"
   ]
  },
  {
   "cell_type": "code",
   "execution_count": 8,
   "metadata": {},
   "outputs": [],
   "source": [
    "# ファイルのデータを記事見出しとカテゴリに分割する関数\n",
    "def split_data(file_path:str) -> (np.ndarray, np.ndarray):\n",
    "    titles, categories = [],[]\n",
    "    with open(file_path) as fi:\n",
    "        for line in fi:\n",
    "            title, category = line.strip().split('\\t')\n",
    "            titles.append(title)\n",
    "            categories.append(category)\n",
    "    return np.array(titles),np.array(categories)\n",
    "\n",
    "\n",
    "#  記事見出しを各文章のベクトル（文章内の単語の平均ベクトル(numpy配列))に変換する関数\n",
    "def title2average_vec(titles: np.ndarray) -> np.ndarray:\n",
    "    vec_list = []\n",
    "    for title in titles:\n",
    "        vec, count = np.zeros(300), 0  # ３００次元なので\n",
    "        words = nltk.word_tokenize(title)\n",
    "        for word in words:\n",
    "            try:\n",
    "                vec += model[word]\n",
    "                count += 1\n",
    "            except KeyError:\n",
    "                pass\n",
    "        if count == 0:\n",
    "            logger.warning('titleが空文字になっているデータが含まれています')\n",
    "            continue\n",
    "\n",
    "        vec_list.append(vec / count)  # 単語ベクトルの平均\n",
    "    return np.array(vec_list)\n",
    "\n",
    "\n",
    "# カテゴリーから数値データに変換\n",
    "def category2num(categories: np.ndarray) -> np.ndarray:\n",
    "    category_dic = {'b':0,'t':1,'e':2,'m':3}\n",
    "    return np.array([category_dic[category] for category in categories])"
   ]
  },
  {
   "cell_type": "code",
   "execution_count": 10,
   "metadata": {},
   "outputs": [
    {
     "name": "stderr",
     "output_type": "stream",
     "text": [
      "[I 201121 13:58:48 <ipython-input-10-dcb3db7c7f4f>:9] train data shape  x : (10684, 300) y : (10684,)\n",
      "[I 201121 13:58:49 <ipython-input-10-dcb3db7c7f4f>:9] valid data shape  x : (1336, 300) y : (1336,)\n",
      "[I 201121 13:58:49 <ipython-input-10-dcb3db7c7f4f>:9] test data shape  x : (1336, 300) y : (1336,)\n"
     ]
    }
   ],
   "source": [
    "name_list = ['train','valid','test']  # ファイル名用のリスト\n",
    "\n",
    "# 各データについてデータを保存\n",
    "for name in name_list:\n",
    "    titles, categories = split_data('/Users/y_kishinami/Documents/100knock-2020/y-kishinami/chapter06/work/' + name + '.txt')\n",
    "    vec_list, label_list = title2average_vec(titles), category2num(categories)\n",
    "    np.save('work/' + name + '_x', vec_list)\n",
    "    np.save('work/' + name + '_y', label_list)\n",
    "    logger.info('{} data shape  x : {} y : {}'.format(name, vec_list.shape, label_list.shape))"
   ]
  },
  {
   "cell_type": "markdown",
   "metadata": {},
   "source": [
    "## 71. 単層ニューラルネットワークによる予測"
   ]
  },
  {
   "cell_type": "code",
   "execution_count": 2,
   "metadata": {},
   "outputs": [],
   "source": [
    "import torch  # 基本モジュール\n",
    "import torch.nn as nn  # network構築\n",
    "import torch.nn.functional as F  # network用の関数\n",
    "import torch.optim as optim\n",
    "import numpy as np\n",
    "from tqdm import tqdm"
   ]
  },
  {
   "cell_type": "code",
   "execution_count": 3,
   "metadata": {},
   "outputs": [],
   "source": [
    "# データの読み込みとtensorへの変換\n",
    "def load_file(path:str) -> np.ndarray:\n",
    "    data = np.load(path).astype(np.float32)\n",
    "    return torch.from_numpy(data)"
   ]
  },
  {
   "cell_type": "code",
   "execution_count": 4,
   "metadata": {},
   "outputs": [
    {
     "data": {
      "text/plain": [
       "torch.Size([10684, 300])"
      ]
     },
     "execution_count": 4,
     "metadata": {},
     "output_type": "execute_result"
    }
   ],
   "source": [
    "# 読み込み\n",
    "x_train, y_train = load_file('work/train_x.npy'), load_file('work/train_y.npy').type(torch.long)\n",
    "x_valid, y_valid = load_file('work/valid_x.npy'), load_file('work/valid_y.npy').type(torch.long)\n",
    "x_test, y_test = load_file('work/test_x.npy'), load_file('work/test_y.npy').type(torch.long)\n",
    "x_train.shape"
   ]
  },
  {
   "cell_type": "markdown",
   "metadata": {},
   "source": [
    "#### 解法1：ネットワークのクラスを定義しない"
   ]
  },
  {
   "cell_type": "code",
   "execution_count": 5,
   "metadata": {},
   "outputs": [
    {
     "name": "stdout",
     "output_type": "stream",
     "text": [
      "torch.Size([1, 300])\n",
      "torch.Size([1, 4])\n",
      "tensor([[0.7546, 0.0182, 0.0106, 0.2167]], grad_fn=<SoftmaxBackward>)\n",
      "tensor([[0.7546, 0.0182, 0.0106, 0.2167],\n",
      "        [0.2920, 0.6939, 0.0094, 0.0047],\n",
      "        [0.6611, 0.0211, 0.0395, 0.2784],\n",
      "        [0.2317, 0.1032, 0.4077, 0.2574]], grad_fn=<SoftmaxBackward>)\n"
     ]
    }
   ],
   "source": [
    "W = torch.randn(300,4, requires_grad=True)  # requires_gradは指定のtensorを微分対象にするかどうか。Falseだと勾配にNoneが返る\n",
    "print(x_train[:1].shape)\n",
    "print(torch.matmul(x_train[:1],W).shape)\n",
    "print(F.softmax(torch.matmul(x_train[:1],W),dim=-1))  # 今回の場合dim=0はおかしい　かつ　-1と1は同じ次元を表す\n",
    "print(F.softmax(torch.matmul(x_train[:4],W),dim=-1))"
   ]
  },
  {
   "cell_type": "code",
   "execution_count": 6,
   "metadata": {},
   "outputs": [
    {
     "name": "stdout",
     "output_type": "stream",
     "text": [
      "torch.Size([300])\n",
      "torch.Size([4])\n",
      "tensor([0.7546, 0.0182, 0.0106, 0.2167], grad_fn=<SoftmaxBackward>)\n",
      "tensor(1.0000, grad_fn=<SumBackward0>)\n"
     ]
    }
   ],
   "source": [
    "# 次元の指定は、配列の指定の仕方でも変わるね\n",
    "print(x_train[0].shape)\n",
    "print(torch.matmul(x_train[0],W).shape)\n",
    "print(F.softmax(torch.matmul(x_train[0],W),dim=0))\n",
    "print(torch.sum(F.softmax(torch.matmul(x_train[0],W),dim=0)))  # ちゃんと合計が1になっている"
   ]
  },
  {
   "cell_type": "markdown",
   "metadata": {},
   "source": [
    "#### 解法2：ネットワークをクラスで定義"
   ]
  },
  {
   "cell_type": "code",
   "execution_count": 5,
   "metadata": {},
   "outputs": [],
   "source": [
    "class Net(nn.Module):  # nn.Moduleクラスの継承\n",
    "    def __init__(self):\n",
    "        super(Net,self).__init__()  # nn.Moduleクラスの初期化関数を起動\n",
    "        self.fc1 = nn.Linear(300, 4, bias=False)  # y = wx 300は入力サイズ、4は出力サイズ bias=Falseにすればy=wxになるね\n",
    "        #nn.init.normal_(self.fc1.weight, 0.0, 1.0) # 重みの初期化　正規分布\n",
    "    \n",
    "    def forward(self,x):\n",
    "        x = self.fc1(x)\n",
    "        return x"
   ]
  },
  {
   "cell_type": "code",
   "execution_count": 7,
   "metadata": {},
   "outputs": [
    {
     "name": "stdout",
     "output_type": "stream",
     "text": [
      "tensor([[0.2633, 0.2312, 0.2593, 0.2462]], grad_fn=<SoftmaxBackward>)\n",
      "tensor([[0.2633, 0.2312, 0.2593, 0.2462],\n",
      "        [0.2505, 0.2553, 0.2559, 0.2384],\n",
      "        [0.2489, 0.2276, 0.2592, 0.2643],\n",
      "        [0.2515, 0.2432, 0.2590, 0.2462]], grad_fn=<SoftmaxBackward>)\n"
     ]
    }
   ],
   "source": [
    "# モデル定義\n",
    "net = Net()\n",
    "print(F.softmax(net(x_train[:1]), dim=-1))\n",
    "print(F.softmax(net(x_train[:4]), dim=-1))"
   ]
  },
  {
   "cell_type": "markdown",
   "metadata": {},
   "source": [
    "https://blog.snowhork.com/2018/11/pytorch-initialize-weight\n",
    "\n",
    "パラメータについて\n",
    "https://qiita.com/mathlive/items/d9f31f8538e20a102e14\n",
    "\n",
    "入門\n",
    "https://qiita.com/sh-tatsuno/items/42fccff90c98103dffc9\n",
    "\n",
    "https://qiita.com/mocobt/items/dd2e60fa2909bfa93b06\n"
   ]
  },
  {
   "cell_type": "markdown",
   "metadata": {},
   "source": [
    "## 72. 損失と勾配の計算"
   ]
  },
  {
   "cell_type": "code",
   "execution_count": 9,
   "metadata": {},
   "outputs": [
    {
     "name": "stdout",
     "output_type": "stream",
     "text": [
      "tensor(1.3705, grad_fn=<NllLossBackward>)\n",
      "tensor([[-0.0645,  0.0085,  0.0077,  ...,  0.0412, -0.0431,  0.0075],\n",
      "        [ 0.0225, -0.0030, -0.0027,  ..., -0.0143,  0.0150, -0.0026],\n",
      "        [ 0.0197, -0.0026, -0.0024,  ..., -0.0126,  0.0132, -0.0023],\n",
      "        [ 0.0224, -0.0030, -0.0027,  ..., -0.0143,  0.0149, -0.0026]])\n"
     ]
    }
   ],
   "source": [
    "# Loss関数の指定\n",
    "criterion = nn.CrossEntropyLoss()\n",
    "output = net(x_train[:1])\n",
    "loss = criterion(output, y_train[:1])  # x_train[0]の形式をうけつけちゃダメ  softmaxをやる前のやつを入れちゃだめ\n",
    "\n",
    "net.zero_grad()  # 勾配の初期化　これ忘れると繰り返すときにどんどん溜まっていく\n",
    "loss.backward()  # 逆伝播\n",
    "\n",
    "print(loss)   # loss\n",
    "print(net.fc1.weight.grad)  # 勾配"
   ]
  },
  {
   "cell_type": "code",
   "execution_count": 10,
   "metadata": {},
   "outputs": [
    {
     "name": "stdout",
     "output_type": "stream",
     "text": [
      "tensor(1.3515, grad_fn=<NllLossBackward>)\n",
      "tensor([[-0.0308, -0.0094,  0.0132,  ...,  0.0013, -0.0218,  0.0214],\n",
      "        [ 0.0175,  0.0027, -0.0124,  ...,  0.0033,  0.0180, -0.0112],\n",
      "        [-0.0043,  0.0040,  0.0118,  ..., -0.0080, -0.0145,  0.0011],\n",
      "        [ 0.0176,  0.0027, -0.0126,  ...,  0.0034,  0.0183, -0.0113]])\n"
     ]
    }
   ],
   "source": [
    "output2 = net(x_train[:4])\n",
    "loss2 = criterion(output2, y_train[:4])\n",
    "\n",
    "net.zero_grad()\n",
    "loss2.backward()\n",
    "\n",
    "print(loss2)\n",
    "print(net.fc1.weight.grad)"
   ]
  },
  {
   "cell_type": "markdown",
   "metadata": {},
   "source": [
    "#### zero_gradがどういう働きをしているか"
   ]
  },
  {
   "cell_type": "code",
   "execution_count": 10,
   "metadata": {},
   "outputs": [
    {
     "name": "stdout",
     "output_type": "stream",
     "text": [
      "zero_gradあり\n",
      "tensor([[-0.0652,  0.0086,  0.0078,  ...,  0.0416, -0.0436,  0.0075],\n",
      "        [ 0.0205, -0.0027, -0.0025,  ..., -0.0131,  0.0137, -0.0024],\n",
      "        [ 0.0220, -0.0029, -0.0026,  ..., -0.0140,  0.0147, -0.0025],\n",
      "        [ 0.0228, -0.0030, -0.0027,  ..., -0.0145,  0.0152, -0.0026]])\n",
      "zero_gradなし\n",
      "tensor([[-65.3090,   8.6322,   7.8027,  ...,  41.6482, -43.6216,   7.5416],\n",
      "        [ 20.5373,  -2.7145,  -2.4536,  ..., -13.0966,  13.7171,  -2.3715],\n",
      "        [ 21.9838,  -2.9057,  -2.6265,  ..., -14.0190,  14.6834,  -2.5386],\n",
      "        [ 22.7887,  -3.0120,  -2.7226,  ..., -14.5323,  15.2208,  -2.6315]])\n"
     ]
    }
   ],
   "source": [
    "for i in range(1000):\n",
    "    loss = criterion(net(x_train[:1]), y_train[:1])\n",
    "    net.zero_grad()\n",
    "    loss.backward()\n",
    "print('zero_gradあり')\n",
    "print(net.fc1.weight.grad)\n",
    "\n",
    "for i in range(1000):\n",
    "    loss = criterion(net(x_train[:1]), y_train[:1])\n",
    "    #net.zero_grad()\n",
    "    loss.backward()\n",
    "print('zero_gradなし')\n",
    "print(net.fc1.weight.grad)"
   ]
  },
  {
   "cell_type": "markdown",
   "metadata": {},
   "source": [
    "## 73. 確率的勾配降下法による学習\n",
    "確率的勾配降下法（SGD: Stochastic Gradient Descent）を用いて，行列Wを学習せよ．なお，学習は適当な基準で終了させればよい（例えば「100エポックで終了」など）．"
   ]
  },
  {
   "cell_type": "code",
   "execution_count": 11,
   "metadata": {},
   "outputs": [],
   "source": [
    "# モデルの初期化と各種設定\n",
    "net = Net()\n",
    "criterion = nn.CrossEntropyLoss()\n",
    "optimizer = optim.SGD(net.parameters(), lr=0.01)  # 学習率は0.001とする\n",
    "epoch_size = 100  # epoch数"
   ]
  },
  {
   "cell_type": "code",
   "execution_count": 9,
   "metadata": {},
   "outputs": [],
   "source": [
    "dataset = torch.utils.data.TensorDataset(x_train, y_train)\n",
    "data_loader = torch.utils.data.DataLoader(dataset, shuffle=True)"
   ]
  },
  {
   "cell_type": "code",
   "execution_count": 12,
   "metadata": {},
   "outputs": [
    {
     "name": "stderr",
     "output_type": "stream",
     "text": [
      "  9%|▉         | 9/100 [00:24<03:56,  2.60s/it][I 201127 16:20:59 <ipython-input-12-26014a02fbb8>:24] epoch 10 : done loss : 0.31086449704047514\n",
      " 19%|█▉        | 19/100 [00:52<04:27,  3.30s/it][I 201127 16:21:29 <ipython-input-12-26014a02fbb8>:24] epoch 20 : done loss : 0.279783845625498\n",
      " 29%|██▉       | 29/100 [01:25<03:45,  3.18s/it][I 201127 16:22:00 <ipython-input-12-26014a02fbb8>:24] epoch 30 : done loss : 0.2657903704281039\n",
      " 39%|███▉      | 39/100 [01:53<02:58,  2.92s/it][I 201127 16:22:28 <ipython-input-12-26014a02fbb8>:24] epoch 40 : done loss : 0.2572294140870466\n",
      " 49%|████▉     | 49/100 [02:21<02:28,  2.92s/it][I 201127 16:22:57 <ipython-input-12-26014a02fbb8>:24] epoch 50 : done loss : 0.25121070022458697\n",
      " 59%|█████▉    | 59/100 [02:56<02:14,  3.29s/it][I 201127 16:23:30 <ipython-input-12-26014a02fbb8>:24] epoch 60 : done loss : 0.24679826638403202\n",
      " 69%|██████▉   | 69/100 [03:26<01:47,  3.47s/it][I 201127 16:24:03 <ipython-input-12-26014a02fbb8>:24] epoch 70 : done loss : 0.24341598098216283\n",
      " 79%|███████▉  | 79/100 [03:59<01:01,  2.93s/it][I 201127 16:24:34 <ipython-input-12-26014a02fbb8>:24] epoch 80 : done loss : 0.24063263505188148\n",
      " 89%|████████▉ | 89/100 [04:38<00:33,  3.07s/it][I 201127 16:25:13 <ipython-input-12-26014a02fbb8>:24] epoch 90 : done loss : 0.23828710522865573\n",
      " 99%|█████████▉| 99/100 [05:06<00:02,  2.71s/it][I 201127 16:25:41 <ipython-input-12-26014a02fbb8>:24] epoch 100 : done loss : 0.23626117925863535\n",
      "100%|██████████| 100/100 [05:09<00:00,  3.09s/it]\n",
      "[I 201127 16:25:41 <ipython-input-12-26014a02fbb8>:26] finished training\n"
     ]
    }
   ],
   "source": [
    "train_loss = []  # lossの格納用\n",
    "\n",
    "dataset = torch.utils.data.TensorDataset(x_train, y_train)\n",
    "data_loader = torch.utils.data.DataLoader(dataset, shuffle=True)\n",
    "data_size = len(x_train)\n",
    "\n",
    "# train\n",
    "for epoch in tqdm(range(epoch_size)):\n",
    "    running_loss = 0.0\n",
    "    \n",
    "    for inputs,labels in data_loader:  # 訓練データ数\n",
    "        optimizer.zero_grad()  # optimizerの初期化\n",
    "        \n",
    "        loss = criterion(net(inputs), labels)  # lossの計算\n",
    "        loss.backward()  # 逆伝播\n",
    "        optimizer.step()  # parameterの更新\n",
    "        running_loss += loss.item()\n",
    "        \n",
    "    loss = running_loss / data_size\n",
    "    train_loss.append(loss)\n",
    "    \n",
    "    # 経過の表示用\n",
    "    if (epoch+1) % 10 == 0:\n",
    "        logger.info(\"epoch {} : done loss : {}\".format(epoch+1, loss))\n",
    "\n",
    "logger.info('finished training')"
   ]
  },
  {
   "cell_type": "markdown",
   "metadata": {},
   "source": [
    "## 74. 正解率の計測\n",
    "問題73で求めた行列を用いて学習データおよび評価データの事例を分類したとき，その正解率をそれぞれ求めよ．"
   ]
  },
  {
   "cell_type": "code",
   "execution_count": 6,
   "metadata": {},
   "outputs": [],
   "source": [
    "from sklearn.metrics import accuracy_score\n",
    "def accuracy(net, x_train, y_train):\n",
    "    return accuracy_score(torch.argmax(F.softmax(net(x_train), dim=-1), dim=-1), y_train)"
   ]
  },
  {
   "cell_type": "code",
   "execution_count": null,
   "metadata": {},
   "outputs": [],
   "source": [
    "print(\"train accuracy : {}\".format(accuracy_score(torch.argmax(F.softmax(net(x_train), dim=-1), dim=-1), y_train)\n",
    "print(\"train accuracy : {}\".format(accuracy_score(torch.argmax(F.softmax(net(x_valid), dim=-1), dim=-1), y_valid)\n",
    "print(\"train accuracy : {}\".format(accuracy_score(torch.argmax(F.softmax(net(x_test), dim=-1)), dim=-1), y_test)"
   ]
  },
  {
   "cell_type": "markdown",
   "metadata": {},
   "source": [
    "## 75. 損失と正解率のプロット\n",
    "問題73のコードを改変し，各エポックのパラメータ更新が完了するたびに，訓練データでの損失，正解率，検証データでの損失，正解率をグラフにプロットし，学習の進捗状況を確認できるようにせよ．"
   ]
  },
  {
   "cell_type": "code",
   "execution_count": 7,
   "metadata": {},
   "outputs": [],
   "source": [
    "# lossの計算用\n",
    "def loss_calc(net, x, y):\n",
    "    return criterion(net(x), y).item()"
   ]
  },
  {
   "cell_type": "code",
   "execution_count": 8,
   "metadata": {},
   "outputs": [],
   "source": [
    "# train用\n",
    "def train(net, criterion, optimizer, epoch_size, batch_size):\n",
    "\n",
    "    dataset = torch.utils.data.TensorDataset(x_train, y_train)\n",
    "    data_loader = torch.utils.data.DataLoader(dataset, batch_size=batch_size, shuffle=True)\n",
    "    train_acc, valid_acc, train_loss, valid_loss = [], [], [], []\n",
    "    data_size = len(dataset)\n",
    "    \n",
    "    # train\n",
    "    logger.info('training start!')\n",
    "    for epoch in tqdm(range(epoch_size)):\n",
    "        running_loss = 0.0\n",
    "        for inputs, labels in data_loader:  # 訓練データ数\n",
    "            optimizer.zero_grad()  # optimizerの初期化\n",
    "\n",
    "            loss = criterion(net(inputs), labels)  # lossの計算\n",
    "            loss.backward()  # 逆伝播\n",
    "            optimizer.step()  # parameterの更新\n",
    "            running_loss += loss.item()\n",
    "        \n",
    "        train_acc.append(accuracy(net, x_train, y_train))\n",
    "        train_loss.append(running_loss / len(data_loader))\n",
    "        valid_acc.append(accuracy(net, x_valid, y_valid))\n",
    "        valid_loss.append(loss_calc(net, x_valid, y_valid))\n",
    "        \n",
    "        # 経過の表示用\n",
    "        if (epoch+1) % 10 == 0:\n",
    "            logger.info(\"epoch {} : done loss : {}\".format(epoch+1, loss))\n",
    "            \n",
    "    logger.info('finished training')\n",
    "    return train_acc, valid_acc, train_loss, valid_loss"
   ]
  },
  {
   "cell_type": "code",
   "execution_count": 60,
   "metadata": {},
   "outputs": [
    {
     "name": "stderr",
     "output_type": "stream",
     "text": [
      "[I 201121 18:01:06 <ipython-input-59-df0b9624dc10>:10] training start!\n",
      "  9%|▉         | 9/100 [00:25<04:17,  2.83s/it][I 201121 18:01:34 <ipython-input-59-df0b9624dc10>:30] epoch 10 : done loss : 0.31104589414388767\n",
      " 19%|█▉        | 19/100 [01:03<05:40,  4.21s/it][I 201121 18:02:14 <ipython-input-59-df0b9624dc10>:30] epoch 20 : done loss : 0.27980436392486163\n",
      " 29%|██▉       | 29/100 [01:42<04:10,  3.53s/it][I 201121 18:02:51 <ipython-input-59-df0b9624dc10>:30] epoch 30 : done loss : 0.26571691628627764\n",
      " 39%|███▉      | 39/100 [02:17<04:06,  4.04s/it][I 201121 18:03:31 <ipython-input-59-df0b9624dc10>:30] epoch 40 : done loss : 0.25712963547500833\n",
      " 49%|████▉     | 49/100 [03:01<03:54,  4.60s/it][I 201121 18:04:12 <ipython-input-59-df0b9624dc10>:30] epoch 50 : done loss : 0.2511135442812057\n",
      " 59%|█████▉    | 59/100 [04:31<08:04, 11.81s/it][I 201121 18:05:43 <ipython-input-59-df0b9624dc10>:30] epoch 60 : done loss : 0.2468143314351706\n",
      " 69%|██████▉   | 69/100 [05:05<01:44,  3.38s/it][I 201121 18:06:15 <ipython-input-59-df0b9624dc10>:30] epoch 70 : done loss : 0.24345996629177735\n",
      " 79%|███████▉  | 79/100 [05:39<01:08,  3.27s/it][I 201121 18:06:48 <ipython-input-59-df0b9624dc10>:30] epoch 80 : done loss : 0.24063481931649658\n",
      " 89%|████████▉ | 89/100 [06:11<00:33,  3.09s/it][I 201121 18:07:20 <ipython-input-59-df0b9624dc10>:30] epoch 90 : done loss : 0.2383645248901179\n",
      " 99%|█████████▉| 99/100 [06:39<00:02,  2.77s/it][I 201121 18:07:48 <ipython-input-59-df0b9624dc10>:30] epoch 100 : done loss : 0.23638699719773318\n",
      "100%|██████████| 100/100 [06:42<00:00,  4.02s/it]\n",
      "[I 201121 18:07:48 <ipython-input-59-df0b9624dc10>:31] finished training\n"
     ]
    }
   ],
   "source": [
    "# モデルの初期化\n",
    "net = Net()\n",
    "criterion = nn.CrossEntropyLoss()\n",
    "optimizer = optim.SGD(net.parameters(), lr=0.001, momentum=0.9)\n",
    "epoch_size = 100\n",
    "batch_size = 1\n",
    "# 学習\n",
    "train_acc,valid_acc,train_loss,valid_loss = train(net, criterion, optimizer, epoch_size, batch_size)"
   ]
  },
  {
   "cell_type": "code",
   "execution_count": 67,
   "metadata": {},
   "outputs": [
    {
     "data": {
      "text/plain": [
       "<matplotlib.legend.Legend at 0x7f90d2e2e650>"
      ]
     },
     "execution_count": 67,
     "metadata": {},
     "output_type": "execute_result"
    },
    {
     "data": {
      "image/png": "[encoded data removed]",
      "text/plain": [
       "<Figure size 432x288 with 1 Axes>"
      ]
     },
     "metadata": {},
     "output_type": "display_data"
    }
   ],
   "source": [
    "%matplotlib inline\n",
    "import matplotlib.pyplot as plt\n",
    "import seaborn as sns\n",
    "sns.set()\n",
    "sns.set_palette('viridis')\n",
    "\n",
    "# 正解率の表示\n",
    "fig, ax = plt.subplots()\n",
    "x = np.arange(1, epoch_size+1)\n",
    "ax.plot(x,np.array(train_acc), label='train_acc')\n",
    "ax.plot(x,np.array(valid_acc), label='valid_acc')\n",
    "plt.xlabel('epoch')\n",
    "plt.ylabel('accuracy')\n",
    "plt.title(\"Accuracy\")\n",
    "ax.legend()"
   ]
  },
  {
   "cell_type": "code",
   "execution_count": 68,
   "metadata": {},
   "outputs": [
    {
     "data": {
      "text/plain": [
       "<matplotlib.legend.Legend at 0x7f90cc22e350>"
      ]
     },
     "execution_count": 68,
     "metadata": {},
     "output_type": "execute_result"
    },
    {
     "data": {
      "image/png": "[encoded data removed]",
      "text/plain": [
       "<Figure size 432x288 with 1 Axes>"
      ]
     },
     "metadata": {},
     "output_type": "display_data"
    }
   ],
   "source": [
    "# lossの表示\n",
    "#loss_graph(epoch_size,train_loss,valid_loss)\n",
    "fig,ax = plt.subplots()\n",
    "x = np.arange(1, epoch_size+1)\n",
    "ax.plot(x,np.array(train_loss), label='train_loss')\n",
    "ax.plot(x,np.array(valid_loss), label='valid_loss')\n",
    "plt.xlabel('epoch')\n",
    "plt.ylabel('loss')\n",
    "plt.title(\"Loss\")\n",
    "ax.legend()"
   ]
  },
  {
   "cell_type": "markdown",
   "metadata": {},
   "source": [
    "## 76. チェックポイント\n",
    "問題75のコードを改変し，各エポックのパラメータ更新が完了するたびに，チェックポイント（学習途中のパラメータ（重み行列など）の値や最適化アルゴリズムの内部状態）をファイルに書き出せ．"
   ]
  },
  {
   "cell_type": "code",
   "execution_count": 9,
   "metadata": {},
   "outputs": [],
   "source": [
    "# モデルの状態と最適化アルゴリズムの内部状態を保存する関数\n",
    "def save(net, epoch, optimizer):\n",
    "    path = f'work/model/checkpoint{epoch}.pth'\n",
    "    torch.save({\n",
    "        'epoch':epoch,\n",
    "        'model_state_dict':net.state_dict(),\n",
    "        'optimizer_state_dict':optimizer.state_dict()\n",
    "    }, path)\n",
    "    logger.info('save checkpoint:{}'.format(epoch))"
   ]
  },
  {
   "cell_type": "code",
   "execution_count": 60,
   "metadata": {},
   "outputs": [
    {
     "name": "stderr",
     "output_type": "stream",
     "text": [
      "[I 201211 14:14:29 <ipython-input-60-ccfc60bf5de3>:12] training start!\n",
      "  0%|          | 0/10 [00:00<?, ?it/s][I 201211 14:14:32 <ipython-input-9-23dbe3da84b5>:9] save checkpoint:1\n",
      " 10%|█         | 1/10 [00:02<00:24,  2.69s/it][I 201211 14:14:34 <ipython-input-9-23dbe3da84b5>:9] save checkpoint:2\n",
      " 20%|██        | 2/10 [00:04<00:20,  2.55s/it][I 201211 14:14:36 <ipython-input-9-23dbe3da84b5>:9] save checkpoint:3\n",
      " 30%|███       | 3/10 [00:07<00:16,  2.42s/it][I 201211 14:14:38 <ipython-input-9-23dbe3da84b5>:9] save checkpoint:4\n",
      " 40%|████      | 4/10 [00:09<00:14,  2.34s/it][I 201211 14:14:41 <ipython-input-9-23dbe3da84b5>:9] save checkpoint:5\n",
      " 50%|█████     | 5/10 [00:11<00:11,  2.38s/it][I 201211 14:14:43 <ipython-input-9-23dbe3da84b5>:9] save checkpoint:6\n",
      " 60%|██████    | 6/10 [00:13<00:09,  2.34s/it][I 201211 14:14:45 <ipython-input-9-23dbe3da84b5>:9] save checkpoint:7\n",
      " 70%|███████   | 7/10 [00:16<00:06,  2.29s/it][I 201211 14:14:48 <ipython-input-9-23dbe3da84b5>:9] save checkpoint:8\n",
      " 80%|████████  | 8/10 [00:18<00:04,  2.26s/it][I 201211 14:14:50 <ipython-input-9-23dbe3da84b5>:9] save checkpoint:9\n",
      " 90%|█████████ | 9/10 [00:20<00:02,  2.23s/it][I 201211 14:14:52 <ipython-input-9-23dbe3da84b5>:9] save checkpoint:10\n",
      "100%|██████████| 10/10 [00:22<00:00,  2.28s/it]\n",
      "[I 201211 14:14:52 <ipython-input-60-ccfc60bf5de3>:30] finished training\n"
     ]
    }
   ],
   "source": [
    "net = Net()\n",
    "criterion = nn.CrossEntropyLoss()\n",
    "optimizer = optim.SGD(net.parameters(), lr=0.01)\n",
    "dataset = torch.utils.data.TensorDataset(x_train, y_train)\n",
    "data_loader = torch.utils.data.DataLoader(dataset)\n",
    "epoch_size = 10  # epoch数\n",
    "train_acc, valid_acc, train_loss, valid_loss = [], [], [], []\n",
    "data_size = len(x_train)\n",
    "\n",
    "\n",
    "# train\n",
    "logger.info('training start!')\n",
    "for epoch in tqdm(range(epoch_size)):\n",
    "    running_loss = 0.0\n",
    "    for inputs,labels in data_loader:  # 訓練データ数\n",
    "        optimizer.zero_grad()  # optimizerの初期化\n",
    "        \n",
    "        loss = criterion(net(inputs), labels)  # lossの計算\n",
    "        loss.backward()  # 逆伝播\n",
    "        optimizer.step()  # parameterの更新\n",
    "        running_loss += loss.item()\n",
    "    \n",
    "    with torch.no_grad():\n",
    "        train_acc.append(accuracy(net, x_train, y_train))\n",
    "        valid_acc.append(accuracy(net, x_valid, y_valid))\n",
    "        valid_loss.append(loss_calc(net, x_valid, y_valid))\n",
    "        train_loss.append(running_loss / data_size)\n",
    "    save(net, epoch+1, optimizer)  # 状態の保存\n",
    "    \n",
    "logger.info('finished training')"
   ]
  },
  {
   "cell_type": "code",
   "execution_count": 61,
   "metadata": {},
   "outputs": [
    {
     "name": "stdout",
     "output_type": "stream",
     "text": [
      "checkpoint1.pth   checkpoint3.pth  checkpoint6.pth  checkpoint9.pth\n",
      "checkpoint10.pth  checkpoint4.pth  checkpoint7.pth  checkpointbest.pth\n",
      "checkpoint2.pth   checkpoint5.pth  checkpoint8.pth\n"
     ]
    }
   ],
   "source": [
    "# fileがちゃんとできているか\n",
    "!ls work/model"
   ]
  },
  {
   "cell_type": "code",
   "execution_count": 62,
   "metadata": {},
   "outputs": [
    {
     "name": "stdout",
     "output_type": "stream",
     "text": [
      "PK\u0003\u0004\u0000\u0000\u0000\u0000\u0000\u0000\u0000\u0000\u0000\u0000\u0000\u0000\u0000\u0000\u0000\u0000\u0000\u0000\u0010\u0000\u0012\u0000archive/data.pklFB\u000e\u0000ZZZZZZZZZZZZZZ�\u0002}q\u0000(X\u0005\u0000\u0000\u0000epochq\u0001K\u0001X\u0010\u0000\u0000\u0000model_state_dictq\u0002ccollections\n",
      "OrderedDict\n",
      "q\u0003)Rq\u0004X\n",
      "\u0000\u0000\u0000fc1.weightq\u0005ctorch._utils\n",
      "_rebuild_tensor_v2\n",
      "q\u0006((X\u0007\u0000\u0000\u0000storageq\u0007ctorch\n",
      "FloatStorage\n",
      "X\u000f\u0000\u0000\u0000140199468497904q\tX\u0003\u0000\u0000\u0000cpuq\n",
      "�h\u0003)Rq\u000etq\u000fRq\u0010s}q\u0011X\t\u0000\u0000\u0000_metadataq\u0012h\u0003)Rq\u0013(X\u0000\u0000\u0000\u0000q\u0014}q\u0015X\u0007\u0000\u0000\u0000versionq\u0016K\u0001sX\u0003\u0000\u0000\u0000fc1q\u0017}q\u0018h\u0016K\u0001susbX\u0014\u0000\u0000\u0000optimizer_state_dictq\u0019}q\u001a(X\u0005\u0000\u0000\u0000stateq\u001b}q\u001c",
      "X\f",
      "\u0000\u0000\u0000param_groupsq\u001d",
      "]q\u001e",
      "}q\u001f(X\u0002\u0000\u0000\u0000lrq G?�z�G�\u0014{\u0000\u0000\u0000momentumq!K\u0000X\t\u0000\u0000\u0000dampeningq\"K\u0000X\f",
      "\u0000\u0000\u0000weight_decayq#K\u0000\u0000\u0000\u0000nesterovq$�X\u0006\u0000\u0000\u0000paramsq%]q&K\u0000auauu.PK�C�E�\u0001\u0000\u0000�\u0001\u0000\u0000PK\u0003\u0004\u0000\u0000\u0000\u0000\u0000\u0000\u0000\u0000\u0000\u0000\u0000\u0000\u0000\u0000\u0000\u0000\u0000\u0000\u001c",
      "\u0000\u0007\u0000archive/data/140199468497904FB\u0003\u0000ZZZ�}X�Hٴ��\n",
      "Ҿ�c���ݤ���9>��8��%�����>0���\f",
      "��=�s�>\u001c",
      "�\u000f�X�<�\tʾ�.�>���>\\�ž\u001bl���먽1ݶ���ͼ�$\u0015>D\u0007O�\tUE>��)��ڲ>\u0010P(=�Z[�\u0017Yʾ��>�^8>��\u0011>��e��\u0003��L3\t?\u001a�\u0012�pi\u001b�'�*���:��\u0011(\u0010?\u0019B�>�ر>H\u0006\n"
     ]
    }
   ],
   "source": [
    "# 中身をみてみる\n",
    "!head work/model/checkpoint1.pth"
   ]
  },
  {
   "cell_type": "markdown",
   "metadata": {},
   "source": [
    "## 77. ミニバッチ化\n",
    "問題76のコードを改変し，B事例ごとに損失・勾配を計算し，行列Wの値を更新せよ（ミニバッチ化）．Bの値を1,2,4,8,…と変化させながら，1エポックの学習に要する時間を比較せよ．"
   ]
  },
  {
   "cell_type": "code",
   "execution_count": 22,
   "metadata": {},
   "outputs": [],
   "source": [
    "# モデル　損失関数　最適化アルゴリズム\n",
    "net = Net()\n",
    "criterion = nn.CrossEntropyLoss()\n",
    "optimizer = optim.SGD(net.parameters(),lr=0.01)"
   ]
  },
  {
   "cell_type": "code",
   "execution_count": 25,
   "metadata": {},
   "outputs": [
    {
     "name": "stderr",
     "output_type": "stream",
     "text": [
      "[I 201202 22:31:52 <ipython-input-24-910539e4656f>:10] training start!\n",
      "100%|██████████| 1/1 [00:02<00:00,  2.40s/it]\n",
      "[I 201202 22:31:55 <ipython-input-24-910539e4656f>:30] finished training\n"
     ]
    },
    {
     "name": "stdout",
     "output_type": "stream",
     "text": [
      "CPU times: user 2.31 s, sys: 18.3 ms, total: 2.33 s\n",
      "Wall time: 2.41 s\n"
     ]
    },
    {
     "data": {
      "text/plain": [
       "([0.8128041931860727],\n",
       " [0.813622754491018],\n",
       " [0.6820162814985703],\n",
       " [0.5199757218360901])"
      ]
     },
     "execution_count": 25,
     "metadata": {},
     "output_type": "execute_result"
    }
   ],
   "source": [
    "%%time\n",
    "# 第5引数がバッチサイズになるように関数を定義しておいた\n",
    "train(net,criterion,optimizer,1,1)"
   ]
  },
  {
   "cell_type": "code",
   "execution_count": 26,
   "metadata": {},
   "outputs": [
    {
     "name": "stderr",
     "output_type": "stream",
     "text": [
      "[I 201202 22:32:30 <ipython-input-24-910539e4656f>:10] training start!\n",
      "100%|██████████| 1/1 [00:01<00:00,  1.69s/it]\n",
      "[I 201202 22:32:31 <ipython-input-24-910539e4656f>:30] finished training\n"
     ]
    },
    {
     "name": "stdout",
     "output_type": "stream",
     "text": [
      "CPU times: user 1.6 s, sys: 15.4 ms, total: 1.62 s\n",
      "Wall time: 1.7 s\n"
     ]
    },
    {
     "data": {
      "text/plain": [
       "([0.845282665668289],\n",
       " [0.8420658682634731],\n",
       " [0.49100882704263377],\n",
       " [0.4635029435157776])"
      ]
     },
     "execution_count": 26,
     "metadata": {},
     "output_type": "execute_result"
    }
   ],
   "source": [
    "%%time\n",
    "train(net,criterion,optimizer,1,2)"
   ]
  },
  {
   "cell_type": "code",
   "execution_count": 27,
   "metadata": {},
   "outputs": [
    {
     "name": "stderr",
     "output_type": "stream",
     "text": [
      "[I 201202 22:32:36 <ipython-input-24-910539e4656f>:10] training start!\n",
      "100%|██████████| 1/1 [00:00<00:00,  1.18it/s]\n",
      "[I 201202 22:32:37 <ipython-input-24-910539e4656f>:30] finished training\n"
     ]
    },
    {
     "name": "stdout",
     "output_type": "stream",
     "text": [
      "CPU times: user 798 ms, sys: 10.6 ms, total: 808 ms\n",
      "Wall time: 851 ms\n"
     ]
    },
    {
     "data": {
      "text/plain": [
       "([0.8524897042306252],\n",
       " [0.8495508982035929],\n",
       " [0.45590569985976764],\n",
       " [0.44552743434906006])"
      ]
     },
     "execution_count": 27,
     "metadata": {},
     "output_type": "execute_result"
    }
   ],
   "source": [
    "%%time\n",
    "train(net,criterion,optimizer,1,4)"
   ]
  },
  {
   "cell_type": "code",
   "execution_count": 28,
   "metadata": {},
   "outputs": [
    {
     "name": "stderr",
     "output_type": "stream",
     "text": [
      "[I 201202 22:32:41 <ipython-input-24-910539e4656f>:10] training start!\n",
      "100%|██████████| 1/1 [00:00<00:00,  1.37it/s]\n",
      "[I 201202 22:32:42 <ipython-input-24-910539e4656f>:30] finished training\n"
     ]
    },
    {
     "name": "stdout",
     "output_type": "stream",
     "text": [
      "CPU times: user 577 ms, sys: 9.91 ms, total: 587 ms\n",
      "Wall time: 736 ms\n"
     ]
    },
    {
     "data": {
      "text/plain": [
       "([0.8561400224634969],\n",
       " [0.8495508982035929],\n",
       " [0.442390330041017],\n",
       " [0.437753289937973])"
      ]
     },
     "execution_count": 28,
     "metadata": {},
     "output_type": "execute_result"
    }
   ],
   "source": [
    "%%time\n",
    "train(net,criterion,optimizer,1,8)"
   ]
  },
  {
   "cell_type": "markdown",
   "metadata": {},
   "source": [
    "バッチサイズを大きくするごとに時間は短くなっていることがわかる"
   ]
  },
  {
   "cell_type": "markdown",
   "metadata": {},
   "source": [
    "## 78. GPU上での学習\n",
    "問題77のコードを改変し，GPU上で学習を実行せよ．"
   ]
  },
  {
   "cell_type": "code",
   "execution_count": 58,
   "metadata": {},
   "outputs": [
    {
     "name": "stdout",
     "output_type": "stream",
     "text": [
      "cpu\n",
      "\u001b[32m[I 201210 22:17:21 train:93]\u001b[39m Namespace(batch=16, epoch=100, lr=0.01, train_pref='work/train', valid_pref='work/valid')\n",
      "\u001b[32m[I 201210 22:17:22 train:62]\u001b[39m training start!\n",
      "\u001b[32m[I 201210 22:17:27 train:85]\u001b[39m epoch 10 : done.\n",
      "\u001b[32m[I 201210 22:17:27 train:86]\u001b[39m train acc:0.791183077499064\ttrain loss:0.5877251029014587\n",
      "\u001b[32m[I 201210 22:17:27 train:87]\u001b[39m valid acc:0.7896706586826348\tvalid loss:0.5859682559967041\n",
      "\u001b[32m[I 201210 22:17:30 train:85]\u001b[39m epoch 20 : done.\n",
      "\u001b[32m[I 201210 22:17:30 train:86]\u001b[39m train acc:0.83508049419693\ttrain loss:0.48786452412605286\n",
      "\u001b[32m[I 201210 22:17:30 train:87]\u001b[39m valid acc:0.8308383233532934\tvalid loss:0.487003356218338\n",
      "\u001b[32m[I 201210 22:17:33 train:85]\u001b[39m epoch 30 : done.\n",
      "\u001b[32m[I 201210 22:17:33 train:86]\u001b[39m train acc:0.8567952077873455\ttrain loss:0.43751317262649536\n",
      "\u001b[32m[I 201210 22:17:33 train:87]\u001b[39m valid acc:0.8495508982035929\tvalid loss:0.43786224722862244\n",
      "\u001b[32m[I 201210 22:17:36 train:85]\u001b[39m epoch 40 : done.\n",
      "\u001b[32m[I 201210 22:17:36 train:86]\u001b[39m train acc:0.8678397603893673\ttrain loss:0.40648481249809265\n",
      "\u001b[32m[I 201210 22:17:36 train:87]\u001b[39m valid acc:0.8660179640718563\tvalid loss:0.40805843472480774\n",
      "\u001b[32m[I 201210 22:17:42 train:85]\u001b[39m epoch 50 : done.\n",
      "\u001b[32m[I 201210 22:17:42 train:86]\u001b[39m train acc:0.8752339947585174\ttrain loss:0.38521432876586914\n",
      "\u001b[32m[I 201210 22:17:42 train:87]\u001b[39m valid acc:0.8720059880239521\tvalid loss:0.3878280818462372\n",
      "\u001b[32m[I 201210 22:17:46 train:85]\u001b[39m epoch 60 : done.\n",
      "\u001b[32m[I 201210 22:17:46 train:86]\u001b[39m train acc:0.8801010857356795\ttrain loss:0.36956334114074707\n",
      "\u001b[32m[I 201210 22:17:46 train:87]\u001b[39m valid acc:0.8779940119760479\tvalid loss:0.3730868101119995\n",
      "\u001b[32m[I 201210 22:17:51 train:85]\u001b[39m epoch 70 : done.\n",
      "\u001b[32m[I 201210 22:17:51 train:86]\u001b[39m train acc:0.8843129913889929\ttrain loss:0.35746487975120544\n",
      "\u001b[32m[I 201210 22:17:51 train:87]\u001b[39m valid acc:0.8779940119760479\tvalid loss:0.36184340715408325\n",
      "\u001b[32m[I 201210 22:17:54 train:85]\u001b[39m epoch 80 : done.\n",
      "\u001b[32m[I 201210 22:17:54 train:86]\u001b[39m train acc:0.8874953201048297\ttrain loss:0.3477562367916107\n",
      "\u001b[32m[I 201210 22:17:54 train:87]\u001b[39m valid acc:0.8802395209580839\tvalid loss:0.35296666622161865\n",
      "\u001b[32m[I 201210 22:17:59 train:85]\u001b[39m epoch 90 : done.\n",
      "\u001b[32m[I 201210 22:17:59 train:86]\u001b[39m train acc:0.8886184949457132\ttrain loss:0.3397463262081146\n",
      "\u001b[32m[I 201210 22:17:59 train:87]\u001b[39m valid acc:0.8809880239520959\tvalid loss:0.3457390069961548\n",
      "\u001b[32m[I 201210 22:18:05 train:85]\u001b[39m epoch 100 : done.\n",
      "\u001b[32m[I 201210 22:18:05 train:86]\u001b[39m train acc:0.8909584425308873\ttrain loss:0.33299222588539124\n",
      "\u001b[32m[I 201210 22:18:05 train:87]\u001b[39m valid acc:0.8817365269461078\tvalid loss:0.33972251415252686\n",
      "\u001b[32m[I 201210 22:18:05 train:88]\u001b[39m training done!\n"
     ]
    }
   ],
   "source": [
    "!python src/train.py --train-pref work/train --valid-pref work/valid --batch 16 --epoch 100 --lr 0.01"
   ]
  },
  {
   "cell_type": "markdown",
   "metadata": {},
   "source": [
    "- gpuでの学習時間：28秒\n",
    "- cpuでの学習時間：44秒\n",
    "     - モデルの規模が大きくないのでGPUでやってもあまり変わらない？"
   ]
  },
  {
   "cell_type": "markdown",
   "metadata": {},
   "source": [
    "## 79. 多層ニューラルネットワーク\n",
    "問題78のコードを改変し，バイアス項の導入や多層化など，ニューラルネットワークの形状を変更しながら，高性能なカテゴリ分類器を構築せよ．"
   ]
  },
  {
   "cell_type": "code",
   "execution_count": 63,
   "metadata": {},
   "outputs": [],
   "source": [
    "# 学習コードの改良\n",
    "def train_hypersearch(net, criterion, optimizer, epoch_size, batch_size, path):\n",
    "\n",
    "    dataset = torch.utils.data.TensorDataset(x_train, y_train)\n",
    "    data_loader = torch.utils.data.DataLoader(dataset, batch_size=batch_size, shuffle=True)\n",
    "    train_acc, valid_acc, train_loss, valid_loss = [], [], [], []\n",
    "    data_size = len(dataset)\n",
    "    best_acc = 0\n",
    "    \n",
    "    # train\n",
    "    logger.info('training start!')\n",
    "    for epoch in range(epoch_size):\n",
    "        running_loss = 0.0\n",
    "        for inputs, labels in data_loader:  # 訓練データ数\n",
    "            optimizer.zero_grad()  # optimizerの初期化\n",
    "\n",
    "            loss = criterion(net(inputs), labels)  # lossの計算\n",
    "            loss.backward()  # 逆伝播\n",
    "            optimizer.step()  # parameterの更新\n",
    "            running_loss += loss.item()\n",
    "        \n",
    "        with torch.no_grad():\n",
    "            train_acc, train_loss = accuracy(net, x_train, y_train), running_loss / len(data_loader)\n",
    "            valid_acc, valid_loss = accuracy(net, x_valid, y_valid), loss_calc(net, x_valid, y_valid)\n",
    "        \n",
    "        # 経過の表示用\n",
    "        if (epoch+1) % 10 == 0:\n",
    "            print(\"epoch {} done.\".format(epoch+1))\n",
    "            print(\"train accuracy: {}\\tvalid loss: {}\".format(train_acc, train_loss))\n",
    "            print(\"valid accuracy: {}\\tvalid loss: {}\".format(valid_acc, valid_loss))\n",
    "            \n",
    "        # validのaccの最大値が更新されたらそのチェックポイントを保存\n",
    "        if best_acc <= valid_acc:\n",
    "            best_acc = valid_acc\n",
    "            torch.save({\n",
    "                'epoch':epoch,\n",
    "                'model_state_dict':net.state_dict(),\n",
    "                'optimizer_state_dict':optimizer.state_dict()\n",
    "            }, path)\n",
    "            print(\"save checkpoint epoch : {} acc : {}\".format(epoch+1, valid_acc))\n",
    "            \n",
    "    logger.info('finished training')"
   ]
  },
  {
   "cell_type": "code",
   "execution_count": 64,
   "metadata": {},
   "outputs": [],
   "source": [
    "# 多層化\n",
    "\n",
    "class NN(nn.Module):  # nn.Moduleクラスの継承\n",
    "    def __init__(self,input_size,hidden_size,output_size):\n",
    "        super(NN,self).__init__()  # nn.Moduleクラスの初期化関数を起動\n",
    "        # y = wx+b\n",
    "        self.fc1 = nn.Linear(input_size,hidden_size)\n",
    "        self.fc2 = nn.Linear(hidden_size,output_size)\n",
    "        self.act = nn.ReLU()\n",
    "        self.dropout = nn.Dropout(0.2)  # ドロップアウト確率0.2\n",
    "        nn.init.kaiming_normal_(self.fc1.weight)  # Heの初期値みたいな\n",
    "        nn.init.kaiming_normal_(self.fc2.weight)\n",
    "\n",
    "    def forward(self,x):\n",
    "        x = self.fc1(x)\n",
    "        x = self.act(x)\n",
    "        x = self.dropout(x)\n",
    "        x = self.fc2(x)\n",
    "        return x"
   ]
  },
  {
   "cell_type": "code",
   "execution_count": 100,
   "metadata": {},
   "outputs": [
    {
     "name": "stderr",
     "output_type": "stream",
     "text": [
      "[I 201211 14:26:49 <ipython-input-63-eac793633188>:11] training start!\n"
     ]
    },
    {
     "name": "stdout",
     "output_type": "stream",
     "text": [
      "save checkpoint epoch : 1 acc : 0.8667664670658682\n",
      "save checkpoint epoch : 2 acc : 0.8824850299401198\n",
      "save checkpoint epoch : 3 acc : 0.8892215568862275\n",
      "save checkpoint epoch : 4 acc : 0.8974550898203593\n",
      "save checkpoint epoch : 5 acc : 0.8982035928143712\n",
      "save checkpoint epoch : 6 acc : 0.9011976047904192\n",
      "save checkpoint epoch : 9 acc : 0.9034431137724551\n",
      "epoch 10 done.\n",
      "train accuracy: 0.9254960688880569\tvalid loss: 0.22108557748937321\n",
      "valid accuracy: 0.9049401197604791\tvalid loss: 0.27515965700149536\n",
      "save checkpoint epoch : 10 acc : 0.9049401197604791\n",
      "save checkpoint epoch : 12 acc : 0.9079341317365269\n",
      "save checkpoint epoch : 15 acc : 0.9101796407185628\n",
      "save checkpoint epoch : 18 acc : 0.9101796407185628\n",
      "epoch 20 done.\n",
      "train accuracy: 0.9476787719955073\tvalid loss: 0.16263505412700646\n",
      "valid accuracy: 0.9086826347305389\tvalid loss: 0.2687368094921112\n",
      "save checkpoint epoch : 21 acc : 0.9101796407185628\n",
      "save checkpoint epoch : 26 acc : 0.9109281437125748\n",
      "epoch 30 done.\n",
      "train accuracy: 0.9702358667165856\tvalid loss: 0.11185955198225148\n",
      "valid accuracy: 0.9101796407185628\tvalid loss: 0.28704074025154114\n",
      "save checkpoint epoch : 32 acc : 0.9139221556886228\n",
      "save checkpoint epoch : 34 acc : 0.9161676646706587\n",
      "epoch 40 done.\n",
      "train accuracy: 0.984462748034444\tvalid loss: 0.07124184049710543\n",
      "valid accuracy: 0.9079341317365269\tvalid loss: 0.2920594811439514\n",
      "epoch 50 done.\n",
      "train accuracy: 0.9899850243354549\tvalid loss: 0.047525238429759434\n",
      "valid accuracy: 0.9049401197604791\tvalid loss: 0.31416305899620056\n",
      "save checkpoint epoch : 55 acc : 0.9176646706586826\n",
      "epoch 60 done.\n",
      "train accuracy: 0.9954137027330587\tvalid loss: 0.030514748768412512\n",
      "valid accuracy: 0.9079341317365269\tvalid loss: 0.3600037693977356\n",
      "epoch 70 done.\n",
      "train accuracy: 0.9961624859603145\tvalid loss: 0.018972519288832198\n",
      "valid accuracy: 0.9116766467065869\tvalid loss: 0.396168977022171\n",
      "epoch 80 done.\n",
      "train accuracy: 0.9970984649943841\tvalid loss: 0.015662822666059353\n",
      "valid accuracy: 0.9109281437125748\tvalid loss: 0.39397796988487244\n",
      "save checkpoint epoch : 82 acc : 0.9184131736526946\n",
      "save checkpoint epoch : 89 acc : 0.9184131736526946\n",
      "epoch 90 done.\n",
      "train accuracy: 0.9979408461250469\tvalid loss: 0.012385533879299141\n",
      "valid accuracy: 0.9154191616766467\tvalid loss: 0.457431823015213\n",
      "save checkpoint epoch : 93 acc : 0.9206586826347305\n"
     ]
    },
    {
     "name": "stderr",
     "output_type": "stream",
     "text": [
      "[I 201211 14:27:24 <ipython-input-63-eac793633188>:42] finished training\n"
     ]
    },
    {
     "name": "stdout",
     "output_type": "stream",
     "text": [
      "epoch 100 done.\n",
      "train accuracy: 0.9982216398352677\tvalid loss: 0.011048670695023891\n",
      "valid accuracy: 0.9116766467065869\tvalid loss: 0.4548371434211731\n"
     ]
    }
   ],
   "source": [
    "nn_net = NN(300,128,4)\n",
    "criterion = nn.CrossEntropyLoss()\n",
    "optimizer = optim.Adam(nn_net.parameters())\n",
    "epoch_size = 100\n",
    "batch_size = 64\n",
    "path = f'work/model/checkpointbest.pth'\n",
    "train_hypersearch(nn_net,criterion,optimizer,epoch_size,batch_size, path)"
   ]
  },
  {
   "cell_type": "code",
   "execution_count": 101,
   "metadata": {},
   "outputs": [
    {
     "data": {
      "text/plain": [
       "<All keys matched successfully>"
      ]
     },
     "execution_count": 101,
     "metadata": {},
     "output_type": "execute_result"
    }
   ],
   "source": [
    "# チェックポイントのロード\n",
    "best_net = NN(300,128,4)\n",
    "checkpoint = torch.load('work/model/checkpointbest.pth')\n",
    "best_net.load_state_dict(checkpoint['model_state_dict'])"
   ]
  },
  {
   "cell_type": "code",
   "execution_count": 106,
   "metadata": {},
   "outputs": [
    {
     "data": {
      "text/plain": [
       "0.9109281437125748"
      ]
     },
     "execution_count": 106,
     "metadata": {},
     "output_type": "execute_result"
    }
   ],
   "source": [
    "# テストデータでの正解率\n",
    "accuracy_score(torch.argmax(F.softmax(best_net(x_test), dim=-1), dim=-1), y_test)"
   ]
  },
  {
   "cell_type": "markdown",
   "metadata": {},
   "source": [
    "## 多層ニューラルネットワークの実験まとめ\n",
    "- 中間層1つ 300->128->ReLU,dropout->128->4　エポック数100　バッチサイズ8　ドロップアウト確率0.2　\n",
    "- 損失関数：クロスエントロピー　最適化アルゴリズム：SGD(学習率0.001)\n",
    " - 正解率　訓練データ：0.9444756554307117　検証データ：0.9235955056179775\n",
    "\n",
    "\n",
    "- 中間層1つ 300->128->ReLU,dropout->128->4　エポック数100　バッチサイズ4　ドロップアウト確率0.2　\n",
    "- 損失関数：クロスエントロピー　最適化アルゴリズム：SGD(学習率0.001)\n",
    " - 正解率　訓練データ：0.972565543071161　検証データ：0.9176029962546817\n",
    " \n",
    "\n",
    "- 中間層1つ 300->128->ReLU,dropout->128->4　エポック数100　バッチサイズ1　ドロップアウト確率0.2　\n",
    "- 損失関数：クロスエントロピー　最適化アルゴリズム：SGD(学習率0.001)\n",
    " - 正解率　訓練データ：0.9973782771535581　検証データ：0.9131086142322098"
   ]
  },
  {
   "cell_type": "code",
   "execution_count": null,
   "metadata": {},
   "outputs": [],
   "source": []
  }
 ],
 "metadata": {
  "kernelspec": {
   "display_name": "Python 3",
   "language": "python",
   "name": "python3"
  },
  "language_info": {
   "codemirror_mode": {
    "name": "ipython",
    "version": 3
   },
   "file_extension": ".py",
   "mimetype": "text/x-python",
   "name": "python",
   "nbconvert_exporter": "python",
   "pygments_lexer": "ipython3",
   "version": "3.7.4"
  }
 },
 "nbformat": 4,
 "nbformat_minor": 4
}
