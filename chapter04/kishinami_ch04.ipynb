{
 "cells": [
  {
   "cell_type": "markdown",
   "metadata": {},
   "source": [
    "# 第4章: 形態素解析\n",
    "夏目漱石の小説『吾輩は猫である』の文章（neko.txt）をMeCabを使って形態素解析し，その結果をneko.txt.mecabというファイルに保存せよ．このファイルを用いて，以下の問に対応するプログラムを実装せよ．\n",
    "\n",
    "なお，問題37, 38, 39はmatplotlibもしくはGnuplotを用いるとよい．"
   ]
  },
  {
   "cell_type": "code",
   "execution_count": 1,
   "metadata": {},
   "outputs": [
    {
     "name": "stdout",
     "output_type": "stream",
     "text": [
      "--2021-06-03 12:42:05--  https://nlp100.github.io/data/neko.txt\n",
      "nlp100.github.io (nlp100.github.io) をDNSに問いあわせています... 185.199.108.153, 185.199.110.153, 185.199.109.153, ...\n",
      "nlp100.github.io (nlp100.github.io)|185.199.108.153|:443 に接続しています... 接続しました。\n",
      "HTTP による接続要求を送信しました、応答を待っています... 200 OK\n",
      "長さ: 975789 (953K) [text/plain]\n",
      "`data/neko.txt' に保存中\n",
      "\n",
      "neko.txt            100%[===================>] 952.92K  --.-KB/s 時間 0.1s       \n",
      "\n",
      "2021-06-03 12:42:06 (7.82 MB/s) - `data/neko.txt' へ保存完了 [975789/975789]\n",
      "\n"
     ]
    }
   ],
   "source": [
    "!wget -nc \"https://nlp100.github.io/data/neko.txt\" -P data/"
   ]
  },
  {
   "cell_type": "code",
   "execution_count": 2,
   "metadata": {},
   "outputs": [
    {
     "name": "stdout",
     "output_type": "stream",
     "text": [
      "一\n",
      "\n",
      "　吾輩は猫である。\n",
      "名前はまだ無い。\n",
      "\n",
      "　どこで生れたかとんと見当がつかぬ。\n",
      "何でも薄暗いじめじめした所でニャーニャー泣いていた事だけは記憶している。\n",
      "吾輩はここで始めて人間というものを見た。\n",
      "しかもあとで聞くとそれは書生という人間中で一番獰悪な種族であったそうだ。\n",
      "この書生というのは時々我々を捕えて煮て食うという話である。\n"
     ]
    }
   ],
   "source": [
    "!head data/neko.txt"
   ]
  },
  {
   "cell_type": "code",
   "execution_count": 17,
   "metadata": {},
   "outputs": [],
   "source": [
    "!mecab data/neko.txt -o work/neko.txt.mecab"
   ]
  },
  {
   "cell_type": "code",
   "execution_count": 18,
   "metadata": {},
   "outputs": [
    {
     "name": "stdout",
     "output_type": "stream",
     "text": [
      "一\t名詞,数,*,*,*,*,一,イチ,イチ\n",
      "\t記号,一般,*,*,*,*,*\n",
      "EOS\n",
      "\t記号,一般,*,*,*,*,*\n",
      "EOS\n",
      "　\t記号,空白,*,*,*,*,　,　,　\n",
      "吾輩\t名詞,代名詞,一般,*,*,*,吾輩,ワガハイ,ワガハイ\n",
      "は\t助詞,係助詞,*,*,*,*,は,ハ,ワ\n",
      "猫\t名詞,一般,*,*,*,*,猫,ネコ,ネコ\n",
      "で\t助動詞,*,*,*,特殊・ダ,連用形,だ,デ,デ\n"
     ]
    }
   ],
   "source": [
    "!head work/neko.txt.mecab"
   ]
  },
  {
   "cell_type": "code",
   "execution_count": 5,
   "metadata": {},
   "outputs": [],
   "source": [
    "import MeCab\n",
    "from tqdm import tqdm\n",
    "from itertools import islice\n",
    "from itertools import groupby"
   ]
  },
  {
   "cell_type": "code",
   "execution_count": 33,
   "metadata": {},
   "outputs": [
    {
     "name": "stdout",
     "output_type": "stream",
     "text": [
      "一\t名詞,数,*,*,*,*,一,イチ,イチ\n",
      "EOS\n",
      "\n",
      "EOS\n",
      "\n",
      "　\t記号,空白,*,*,*,*,　,　,　\n",
      "吾輩\t名詞,代名詞,一般,*,*,*,吾輩,ワガハイ,ワガハイ\n",
      "は\t助詞,係助詞,*,*,*,*,は,ハ,ワ\n",
      "猫\t名詞,一般,*,*,*,*,猫,ネコ,ネコ\n",
      "で\t助動詞,*,*,*,特殊・ダ,連用形,だ,デ,デ\n",
      "ある\t助動詞,*,*,*,五段・ラ行アル,基本形,ある,アル,アル\n",
      "。\t記号,句点,*,*,*,*,。,。,。\n",
      "EOS\n",
      "\n"
     ]
    }
   ],
   "source": [
    "# pythonで実行する場合\n",
    "with open(\"data/neko.txt\") as f:\n",
    "    for line in islice(f, 3):\n",
    "        mecab = MeCab.Tagger()\n",
    "        print(mecab.parse(line))"
   ]
  },
  {
   "cell_type": "code",
   "execution_count": 8,
   "metadata": {},
   "outputs": [
    {
     "data": {
      "text/plain": [
       "'吾輩 は 猫 で ある 。 \\n'"
      ]
     },
     "execution_count": 8,
     "metadata": {},
     "output_type": "execute_result"
    }
   ],
   "source": [
    "mecab = MeCab.Tagger(\"-Owakati\")  # 分かち書きのみ出力\n",
    "mecab.parse(\"吾輩は猫である。\")"
   ]
  },
  {
   "cell_type": "code",
   "execution_count": 9,
   "metadata": {},
   "outputs": [
    {
     "data": {
      "text/plain": [
       "'ワガハイハネコデアル。\\n'"
      ]
     },
     "execution_count": 9,
     "metadata": {},
     "output_type": "execute_result"
    }
   ],
   "source": [
    "mecab = MeCab.Tagger(\"-Oyomi\")  # 読みのみ出力\n",
    "mecab.parse(\"吾輩は猫である。\")"
   ]
  },
  {
   "cell_type": "markdown",
   "metadata": {},
   "source": [
    "## 30. 形態素解析結果の読み込み\n",
    "形態素解析結果（neko.txt.mecab）を読み込むプログラムを実装せよ．ただし，各形態素は表層形（surface），基本形（base），品詞（pos），品詞細分類1（pos1）をキーとするマッピング型に格納し，1文を形態素（マッピング型）のリストとして表現せよ．第4章の残りの問題では，ここで作ったプログラムを活用せよ．"
   ]
  },
  {
   "cell_type": "code",
   "execution_count": 21,
   "metadata": {},
   "outputs": [],
   "source": [
    "# 形態素解析された１文をマッピング型に整理・格納\n",
    "def sentence_split(result):\n",
    "    sentence_list = []  # 1文の形態素リスト格納用\n",
    "    \n",
    "    for word in result:\n",
    "        # 分割\n",
    "        block = word.split('\\t')  # 表層形を抽出するため\n",
    "        if block[0] == 'EOS':break\n",
    "        type_block = block[1].split(',')  # 基本形以降は,で分割されている\n",
    "        # 辞書型に格納\n",
    "        word_type = {\n",
    "            'surface':block[0],  # 表層形\n",
    "            'base':type_block[6],  # 基本形\n",
    "            'pos':type_block[0],  # 品詞\n",
    "            'pos1':type_block[1]  # 品詞細分類1\n",
    "        }\n",
    "        sentence_list.append(word_type)\n",
    "    return sentence_list\n",
    "\n",
    "\n",
    "with open('data/neko.txt') as f:\n",
    "    morphs_list = []\n",
    "    mecab = MeCab.Tagger()\n",
    "    for line in f:\n",
    "        result = mecab.parse(line).split('\\n')\n",
    "        ans_list = sentence_split(result)\n",
    "        if len(ans_list) != 0:  # 文章がない行だけはじいた\n",
    "            morphs_list.append(ans_list)"
   ]
  },
  {
   "cell_type": "code",
   "execution_count": 22,
   "metadata": {},
   "outputs": [
    {
     "name": "stdout",
     "output_type": "stream",
     "text": [
      "9210\n"
     ]
    },
    {
     "data": {
      "text/plain": [
       "[[{'surface': '一', 'base': '一', 'pos': '名詞', 'pos1': '数'}],\n",
       " [{'surface': '\\u3000', 'base': '\\u3000', 'pos': '記号', 'pos1': '空白'},\n",
       "  {'surface': '吾輩', 'base': '吾輩', 'pos': '名詞', 'pos1': '代名詞'},\n",
       "  {'surface': 'は', 'base': 'は', 'pos': '助詞', 'pos1': '係助詞'},\n",
       "  {'surface': '猫', 'base': '猫', 'pos': '名詞', 'pos1': '一般'},\n",
       "  {'surface': 'で', 'base': 'だ', 'pos': '助動詞', 'pos1': '*'},\n",
       "  {'surface': 'ある', 'base': 'ある', 'pos': '助動詞', 'pos1': '*'},\n",
       "  {'surface': '。', 'base': '。', 'pos': '記号', 'pos1': '句点'}],\n",
       " [{'surface': '名前', 'base': '名前', 'pos': '名詞', 'pos1': '一般'},\n",
       "  {'surface': 'は', 'base': 'は', 'pos': '助詞', 'pos1': '係助詞'},\n",
       "  {'surface': 'まだ', 'base': 'まだ', 'pos': '副詞', 'pos1': '助詞類接続'},\n",
       "  {'surface': '無い', 'base': '無い', 'pos': '形容詞', 'pos1': '自立'},\n",
       "  {'surface': '。', 'base': '。', 'pos': '記号', 'pos1': '句点'}]]"
      ]
     },
     "execution_count": 22,
     "metadata": {},
     "output_type": "execute_result"
    }
   ],
   "source": [
    "print(len(morphs_list))\n",
    "morphs_list[:3]"
   ]
  },
  {
   "cell_type": "markdown",
   "metadata": {},
   "source": [
    "## 31. 動詞\n",
    "動詞の表層形をすべて抽出せよ．"
   ]
  },
  {
   "cell_type": "markdown",
   "metadata": {},
   "source": [
    "様々な抽出条件に対応できるように関数化してみた"
   ]
  },
  {
   "cell_type": "code",
   "execution_count": 23,
   "metadata": {},
   "outputs": [],
   "source": [
    "def extract_words(morphs_list, key='pos', value='名詞', extract_type='surface'):\n",
    "    return [morph[extract_type] for morphs in morphs_list for morph in morphs if morph[key] == value]"
   ]
  },
  {
   "cell_type": "code",
   "execution_count": 34,
   "metadata": {},
   "outputs": [
    {
     "data": {
      "text/plain": [
       "['生れ', 'つか', 'し', '泣い', 'し', 'いる', '始め', '見', '聞く', '捕え']"
      ]
     },
     "execution_count": 34,
     "metadata": {},
     "output_type": "execute_result"
    }
   ],
   "source": [
    "verbs = extract_words(morphs_list,value='動詞')\n",
    "verbs[:10]"
   ]
  },
  {
   "cell_type": "markdown",
   "metadata": {},
   "source": [
    "## 32. 動詞の原形\n",
    "動詞の原形をすべて抽出せよ．"
   ]
  },
  {
   "cell_type": "code",
   "execution_count": 35,
   "metadata": {},
   "outputs": [
    {
     "data": {
      "text/plain": [
       "['一', '吾輩', '猫', '名前', 'どこ', '見当', '何', '所', '*', 'いた事']"
      ]
     },
     "execution_count": 35,
     "metadata": {},
     "output_type": "execute_result"
    }
   ],
   "source": [
    "verb_bases = extract_words(morphs_list,extract_type='base')\n",
    "verb_bases[:10]"
   ]
  },
  {
   "cell_type": "markdown",
   "metadata": {},
   "source": [
    "## 33. 「AのB」\n",
    "2つの名詞が「の」で連結されている名詞句を抽出せよ．"
   ]
  },
  {
   "cell_type": "code",
   "execution_count": 37,
   "metadata": {},
   "outputs": [
    {
     "data": {
      "text/plain": [
       "['彼の掌', '掌の上', '書生の顔', 'はずの顔', '顔の真中', '穴の中', '書生の掌', '掌の裏', '何の事', '肝心の母親']"
      ]
     },
     "execution_count": 37,
     "metadata": {},
     "output_type": "execute_result"
    }
   ],
   "source": [
    "a_and_bs = []\n",
    "for morphs in morphs_list:\n",
    "    for i in range(len(morphs)):\n",
    "        if morphs[i]['surface'] == 'の':\n",
    "            try:\n",
    "                if morphs[i-1]['pos'] == '名詞' and morphs[i+1]['pos'] == '名詞':\n",
    "                    a_and_bs.append(morphs[i-1]['surface'] + morphs[i]['surface'] + morphs[i+1]['surface'])\n",
    "            except IndexError:\n",
    "                pass\n",
    "a_and_bs[:10]"
   ]
  },
  {
   "cell_type": "markdown",
   "metadata": {},
   "source": [
    "## 34. 名詞の連接\n",
    "名詞の連接（連続して出現する名詞）を最長一致で抽出せよ．"
   ]
  },
  {
   "cell_type": "code",
   "execution_count": 39,
   "metadata": {},
   "outputs": [
    {
     "name": "stdout",
     "output_type": "stream",
     "text": [
      "7338\n",
      "['人間中', '一番獰悪', '時妙', '一毛', 'その後猫', '一度', 'ぷうぷうと煙', '邸内', '三毛', '書生以外', '四五遍', 'この間おさん', '三馬', '御台所', 'まま奥', '住家', '終日書斎', '勉強家', '勉強家', '勤勉家', '二三ページ', '主人以外', '限り吾輩', '朝主人', '一番心持', '二人', '一つ床', '一人', '最後大変', '——猫', '神経胃弱性', '物指', '尻ぺたをひどく', '言語同断', '家内総がかり', '筋向', '白君', '度毎', '白君', '先日玉', '四疋', '三日目', '四疋', '白君', '我等猫族', '家族的生活', '三毛君', '所有権', '我々同族間', '目刺']\n"
     ]
    }
   ],
   "source": [
    "nouns = []\n",
    "\n",
    "for morphs in morphs_list:\n",
    "    for is_noun, words in groupby(morphs, key=lambda x:x['pos'] == '名詞'):\n",
    "        words = list(words)\n",
    "        if is_noun and len(words) > 1:\n",
    "            nouns.append(''.join([word['surface'] for word in words]))\n",
    "print(len(nouns))\n",
    "print(nouns[:50])"
   ]
  },
  {
   "cell_type": "markdown",
   "metadata": {},
   "source": [
    "## 35. 単語の出現頻度\n",
    "文章中に出現する単語とその出現頻度を求め，出現頻度の高い順に並べよ．"
   ]
  },
  {
   "cell_type": "code",
   "execution_count": 40,
   "metadata": {},
   "outputs": [],
   "source": [
    "from collections import Counter"
   ]
  },
  {
   "cell_type": "code",
   "execution_count": 41,
   "metadata": {},
   "outputs": [
    {
     "name": "stdout",
     "output_type": "stream",
     "text": [
      "[('の', 9194), ('。', 7486), ('て', 6848), ('、', 6772), ('は', 6420), ('に', 6243), ('を', 6071), ('だ', 5975), ('と', 5508), ('が', 5337)]\n"
     ]
    }
   ],
   "source": [
    "# surfaceでカウント\n",
    "vocab = Counter(morph['base'] for morphs in morphs_list for morph in morphs).most_common()\n",
    "print(vocab[:10])"
   ]
  },
  {
   "cell_type": "code",
   "execution_count": 42,
   "metadata": {},
   "outputs": [
    {
     "name": "stdout",
     "output_type": "stream",
     "text": [
      "[('の', 9194), ('。', 7486), ('て', 6868), ('、', 6772), ('は', 6420), ('に', 6243), ('を', 6071), ('と', 5508), ('が', 5337), ('た', 3988)]\n"
     ]
    }
   ],
   "source": [
    "# baseでカウント\n",
    "vocab = Counter(morph['surface'] for morphs in morphs_list for morph in morphs).most_common()\n",
    "print(vocab[:10])"
   ]
  },
  {
   "cell_type": "markdown",
   "metadata": {},
   "source": [
    "## 36. 頻度上位10語\n",
    "出現頻度が高い10語とその出現頻度をグラフ（例えば棒グラフなど）で表示せよ．"
   ]
  },
  {
   "cell_type": "code",
   "execution_count": 43,
   "metadata": {},
   "outputs": [
    {
     "name": "stdout",
     "output_type": "stream",
     "text": [
      "['sans-serif']\n"
     ]
    }
   ],
   "source": [
    "%matplotlib inline\n",
    "import matplotlib.pyplot as plt\n",
    "import numpy as np\n",
    "import matplotlib as mpl\n",
    "print(mpl.rcParams['font.family'])\n",
    "import japanize_matplotlib"
   ]
  },
  {
   "cell_type": "code",
   "execution_count": 44,
   "metadata": {},
   "outputs": [
    {
     "data": {
      "text/plain": [
       "Text(0, 0.5, '出現頻度')"
      ]
     },
     "execution_count": 44,
     "metadata": {},
     "output_type": "execute_result"
    },
    {
     "data": {
      "image/png": "[encoded data removed]",
      "text/plain": [
       "<Figure size 432x288 with 1 Axes>"
      ]
     },
     "metadata": {
      "needs_background": "light"
     },
     "output_type": "display_data"
    }
   ],
   "source": [
    "plt.rcParams[\"font.family\"] = \"Hiragino Sans\"\n",
    "\n",
    "data = np.array(vocab[:10])\n",
    "label = np.array(data[:,0])\n",
    "left = np.array(range(1,11))\n",
    "height = np.array(list(map(int, data[:,1])))  # intに変換\n",
    "plt.bar(left,height, tick_label=label,align=\"center\")\n",
    "plt.title('頻出上位10語')\n",
    "plt.xlabel('単語')\n",
    "plt.ylabel('出現頻度')"
   ]
  },
  {
   "cell_type": "code",
   "execution_count": 45,
   "metadata": {},
   "outputs": [
    {
     "data": {
      "text/plain": [
       "Text(0, 0.5, '出現頻度')"
      ]
     },
     "execution_count": 45,
     "metadata": {},
     "output_type": "execute_result"
    },
    {
     "data": {
      "image/png": "[encoded data removed]",
      "text/plain": [
       "<Figure size 432x288 with 1 Axes>"
      ]
     },
     "metadata": {
      "needs_background": "light"
     },
     "output_type": "display_data"
    }
   ],
   "source": [
    "# pandasで\n",
    "import pandas as pd\n",
    "words,counts = zip(*vocab[:10])  # 要素が個々の引数としてzipに渡される\n",
    "s = pd.Series(counts, index=words)  # 一次元配列を作成\n",
    "s.plot.bar()\n",
    "plt.title('頻出上位10語')\n",
    "plt.xlabel('単語')\n",
    "plt.ylabel('出現頻度')"
   ]
  },
  {
   "cell_type": "markdown",
   "metadata": {},
   "source": [
    "## 37. 「猫」と共起頻度の高い上位10語\n",
    "「猫」とよく共起する（共起頻度が高い）10語とその出現頻度をグラフ（例えば棒グラフなど）で表示せよ．"
   ]
  },
  {
   "cell_type": "code",
   "execution_count": 47,
   "metadata": {},
   "outputs": [
    {
     "name": "stdout",
     "output_type": "stream",
     "text": [
      "[('の', 391), ('は', 272), ('、', 252), ('に', 250), ('を', 232), ('て', 229), ('。', 209), ('と', 202), ('が', 180), ('で', 170)]\n"
     ]
    }
   ],
   "source": [
    "co_neko_wordlist = []\n",
    "\n",
    "for morphs in morphs_list:\n",
    "    for morph in morphs:\n",
    "        # 猫が出てきたらその文章の単語をco_neko_wordlistに追加\n",
    "        if morph['surface'] == '猫':\n",
    "            co_neko_wordlist.extend([morph['surface'] for morph in morphs if morph['surface'] != '猫'])\n",
    "            break\n",
    "co_neko_words = Counter(co_neko_wordlist).most_common(10)\n",
    "\n",
    "print(co_neko_words)"
   ]
  },
  {
   "cell_type": "code",
   "execution_count": 48,
   "metadata": {},
   "outputs": [
    {
     "data": {
      "text/plain": [
       "Text(0, 0.5, '出現頻度')"
      ]
     },
     "execution_count": 48,
     "metadata": {},
     "output_type": "execute_result"
    },
    {
     "data": {
      "image/png": "[encoded data removed]",
      "text/plain": [
       "<Figure size 432x288 with 1 Axes>"
      ]
     },
     "metadata": {
      "needs_background": "light"
     },
     "output_type": "display_data"
    }
   ],
   "source": [
    "cowords,cocounts = zip(*co_neko_words)\n",
    "plt.bar(cowords,cocounts)\n",
    "plt.title('「猫」と共起頻度の高い上位10語')\n",
    "plt.xlabel('単語')\n",
    "plt.ylabel('出現頻度')"
   ]
  },
  {
   "cell_type": "code",
   "execution_count": 49,
   "metadata": {},
   "outputs": [
    {
     "data": {
      "text/plain": [
       "Text(0, 0.5, '出現頻度')"
      ]
     },
     "execution_count": 49,
     "metadata": {},
     "output_type": "execute_result"
    },
    {
     "data": {
      "image/png": "[encoded data removed]",
      "text/plain": [
       "<Figure size 432x288 with 1 Axes>"
      ]
     },
     "metadata": {
      "needs_background": "light"
     },
     "output_type": "display_data"
    }
   ],
   "source": [
    "#pandasで\n",
    "s = pd.Series(cocounts,index=cowords)\n",
    "s.plot.bar()\n",
    "plt.title('頻出上位10語')\n",
    "plt.xlabel('単語')\n",
    "plt.ylabel('出現頻度')"
   ]
  },
  {
   "cell_type": "markdown",
   "metadata": {},
   "source": [
    "## 38. ヒストグラム\n",
    "単語の出現頻度のヒストグラム（横軸に出現頻度，縦軸に出現頻度をとる単語の種類数を棒グラフで表したもの）を描け．"
   ]
  },
  {
   "cell_type": "code",
   "execution_count": 50,
   "metadata": {},
   "outputs": [
    {
     "data": {
      "text/plain": [
       "Text(0, 0.5, '単語の種類数')"
      ]
     },
     "execution_count": 50,
     "metadata": {},
     "output_type": "execute_result"
    },
    {
     "data": {
      "image/png": "[encoded data removed]",
      "text/plain": [
       "<Figure size 432x288 with 1 Axes>"
      ]
     },
     "metadata": {
      "needs_background": "light"
     },
     "output_type": "display_data"
    }
   ],
   "source": [
    "# bins:表示する棒の数\n",
    "plt.hist([count for word,count in vocab], log=True, bins=20)\n",
    "plt.title('単語の出現頻度のヒストグラム')\n",
    "plt.xlabel('出現頻度')\n",
    "plt.ylabel('単語の種類数')"
   ]
  },
  {
   "cell_type": "markdown",
   "metadata": {},
   "source": [
    "## 39. Zipfの法則\n",
    "単語の出現頻度順位を横軸，その出現頻度を縦軸として，両対数グラフをプロットせよ．"
   ]
  },
  {
   "cell_type": "code",
   "execution_count": 52,
   "metadata": {},
   "outputs": [
    {
     "data": {
      "text/plain": [
       "Text(0, 0.5, '出現頻度')"
      ]
     },
     "execution_count": 52,
     "metadata": {},
     "output_type": "execute_result"
    },
    {
     "data": {
      "image/png": "[encoded data removed]",
      "text/plain": [
       "<Figure size 432x288 with 1 Axes>"
      ]
     },
     "metadata": {
      "needs_background": "light"
     },
     "output_type": "display_data"
    }
   ],
   "source": [
    "y = [count for word, count in vocab]  # 出現頻度\n",
    "rank = list(range(1, len(vocab)+1))  # 出現頻度順位\n",
    "plt.loglog(rank, y)\n",
    "plt.title('Zipfの法則')\n",
    "plt.xlabel('出現頻度順位')\n",
    "plt.ylabel('出現頻度')"
   ]
  }
 ],
 "metadata": {
  "kernelspec": {
   "display_name": "Python 3",
   "language": "python",
   "name": "python3"
  },
  "language_info": {
   "codemirror_mode": {
    "name": "ipython",
    "version": 3
   },
   "file_extension": ".py",
   "mimetype": "text/x-python",
   "name": "python",
   "nbconvert_exporter": "python",
   "pygments_lexer": "ipython3",
   "version": "3.7.4"
  }
 },
 "nbformat": 4,
 "nbformat_minor": 4
}
