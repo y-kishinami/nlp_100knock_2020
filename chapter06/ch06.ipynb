{
 "cells": [
  {
   "cell_type": "markdown",
   "metadata": {},
   "source": [
    "# 第6章: 機械学習\n",
    "本章では，Fabio Gasparetti氏が公開しているNews Aggregator Data Setを用い，ニュース記事の見出しを「ビジネス」「科学技術」「エンターテイメント」「健康」のカテゴリに分類するタスク（カテゴリ分類）に取り組む．"
   ]
  },
  {
   "cell_type": "markdown",
   "metadata": {},
   "source": [
    "## 50. データの入手・整形\n",
    "News Aggregator Data Setをダウンロードし、以下の要領で学習データ（train.txt），検証データ（valid.txt），評価データ（test.txt）を作成せよ．\n",
    "\n",
    "1. ダウンロードしたzipファイルを解凍し，readme.txtの説明を読む．\n",
    "2. 情報源（publisher）が”Reuters”, “Huffington Post”, “Businessweek”, “Contactmusic.com”, “Daily Mail”の事例（記事）のみを抽出する．\n",
    "3. 抽出された事例をランダムに並び替える．\n",
    "4. 抽出された事例の80%を学習データ，残りの10%ずつを検証データと評価データに分割し，それぞれtrain.txt，valid.txt，test.txtというファイル名で保存する．ファイルには，１行に１事例を書き出すこととし，カテゴリ名と記事見出しのタブ区切り形式とせよ（このフ\n",
    "ァイルは後に問題70で再利用する）．\n",
    "学習データと評価データを作成したら，各カテゴリの事例数を確認せよ．"
   ]
  },
  {
   "cell_type": "code",
   "execution_count": 1,
   "metadata": {},
   "outputs": [
    {
     "name": "stdout",
     "output_type": "stream",
     "text": [
      "--2021-06-27 14:58:34--  https://archive.ics.uci.edu/ml/machine-learning-databases/00359/NewsAggregatorDataset.zip\n",
      "archive.ics.uci.edu (archive.ics.uci.edu) をDNSに問いあわせています... 128.195.10.252\n",
      "archive.ics.uci.edu (archive.ics.uci.edu)|128.195.10.252|:443 に接続しています... 接続しました。\n",
      "HTTP による接続要求を送信しました、応答を待っています... 200 OK\n",
      "長さ: 29224203 (28M) [application/x-httpd-php]\n",
      "`data/NewsAggregatorDataset.zip' に保存中\n",
      "\n",
      "NewsAggregatorDatas 100%[===================>]  27.87M  6.49MB/s 時間 4.8s       \n",
      "\n",
      "2021-06-27 14:58:40 (5.77 MB/s) - `data/NewsAggregatorDataset.zip' へ保存完了 [29224203/29224203]\n",
      "\n"
     ]
    }
   ],
   "source": [
    "!wget -nc \"https://archive.ics.uci.edu/ml/machine-learning-databases/00359/NewsAggregatorDataset.zip\" -P data"
   ]
  },
  {
   "cell_type": "code",
   "execution_count": 2,
   "metadata": {},
   "outputs": [
    {
     "name": "stdout",
     "output_type": "stream",
     "text": [
      "Archive:  data/NewsAggregatorDataset.zip\n",
      "  inflating: 2pageSessions.csv       \n",
      "   creating: __MACOSX/\n",
      "  inflating: __MACOSX/._2pageSessions.csv  \n",
      "  inflating: newsCorpora.csv         \n",
      "  inflating: __MACOSX/._newsCorpora.csv  \n",
      "  inflating: readme.txt              \n",
      "  inflating: __MACOSX/._readme.txt   \n"
     ]
    }
   ],
   "source": [
    "!unzip data/NewsAggregatorDataset.zip"
   ]
  },
  {
   "cell_type": "code",
   "execution_count": 4,
   "metadata": {},
   "outputs": [
    {
     "name": "stdout",
     "output_type": "stream",
     "text": [
      "   422937   7279776 102297000 data/newsCorpora.csv\n"
     ]
    }
   ],
   "source": [
    "!wc data/newsCorpora.csv"
   ]
  },
  {
   "cell_type": "code",
   "execution_count": 6,
   "metadata": {},
   "outputs": [
    {
     "name": "stdout",
     "output_type": "stream",
     "text": [
      "SUMMARY: Dataset of references (urls) to news web pages\n",
      "\n",
      "DESCRIPTION: Dataset of references to news web pages collected from an online aggregator in the period from March 10 to August 10 of 2014. The resources are grouped into clusters that represent pages discussing the same news story. The dataset includes also references to web pages that point (has a link to) one of the news page in the collection.\n",
      "\n",
      "TAGS: web pages, news, aggregator, classification, clustering\n",
      "\n",
      "LICENSE: Public domain - Due to restrictions on content and use of the news sources, the corpus is limited to web references (urls) to web pages and does not include any text content. The references have been retrieved from the news aggregator through traditional web browsers. \n",
      "\n",
      "FILE ENCODING: UTF-8\n",
      "\n"
     ]
    }
   ],
   "source": [
    "!head data/readme.txt"
   ]
  },
  {
   "cell_type": "code",
   "execution_count": 7,
   "metadata": {},
   "outputs": [
    {
     "name": "stdout",
     "output_type": "stream",
     "text": [
      "all data size: 13356\n",
      "train data size: 10684\n",
      "valid data size: 1336\n",
      "test data size: 1336\n"
     ]
    }
   ],
   "source": [
    "# ファイルの読み込み、一部の表示\n",
    "import random\n",
    "from zipfile import ZipFile  # zipファイルの処理用モジュール\n",
    "where = ('ID', 'TITLE', 'URL', 'PUBLISHER', 'CATEGORY', 'STORY', 'HOSTNAME', 'TIMESTAMP')  # 列名\n",
    "extract_set = {'Reuters', 'Huffington Post', 'Businessweek', 'Contactmusic.com', 'Daily Mail'}  # 抽出する事例のpublisherリスト\n",
    "extract_data = []\n",
    "\n",
    "\n",
    "# 1.ダウンロードしたzipファイルを解凍\n",
    "with ZipFile('data/NewsAggregatorDataset.zip') as myzip:\n",
    "    with myzip.open('newsCorpora.csv') as file:\n",
    "        for line in file:\n",
    "            _, title, _, publisher, category, *_ = line.decode('utf-8').rstrip('\\n').split('\\t')  # utf-8でdecode,タブ区切りで分割\n",
    "            \n",
    "            # 2.publisherが抽出リストに入っているかどうか判定、入っていればextract_dataに追加\n",
    "            if publisher in extract_set:\n",
    "                extract_data.append([title, category])\n",
    "                \n",
    "                \n",
    "# 3.抽出された事例をランダムに並び替える\n",
    "shuffle_data = random.sample(extract_data, len(extract_data))\n",
    "\n",
    "\n",
    "# 4.抽出された事例を分割\n",
    "data_size = len(shuffle_data)\n",
    "train_data = shuffle_data[:int(data_size * 8) // 10]\n",
    "valid_data = shuffle_data[int(data_size * 8) // 10:int(data_size * 9) // 10]\n",
    "test_data = shuffle_data[int(data_size * 9) // 10:]\n",
    "\n",
    "\n",
    "print('all data size:', data_size)\n",
    "print('train data size:', len(train_data))\n",
    "print('valid data size:', len(valid_data))\n",
    "print('test data size:', len(test_data))"
   ]
  },
  {
   "cell_type": "code",
   "execution_count": 8,
   "metadata": {},
   "outputs": [],
   "source": [
    "# ファイルに書き込むための関数\n",
    "def write_file(file_path: str, data: list):\n",
    "    with open(file_path, \"w\") as f:\n",
    "        f.write(\"\\n\".join(c + \"\\t\" + t for c, t in data))"
   ]
  },
  {
   "cell_type": "code",
   "execution_count": 9,
   "metadata": {},
   "outputs": [],
   "source": [
    "write_file('work/train.txt', train_data)\n",
    "write_file('work/valid.txt', valid_data)\n",
    "write_file('work/test.txt', test_data)"
   ]
  },
  {
   "cell_type": "code",
   "execution_count": 10,
   "metadata": {},
   "outputs": [
    {
     "name": "stdout",
     "output_type": "stream",
     "text": [
      "   4496 b\n",
      "   4227 e\n",
      "    738 m\n",
      "   1223 t\n"
     ]
    }
   ],
   "source": [
    "!cut -f 2 work/train.txt | sort | uniq -c"
   ]
  },
  {
   "cell_type": "code",
   "execution_count": 11,
   "metadata": {},
   "outputs": [
    {
     "name": "stdout",
     "output_type": "stream",
     "text": [
      "    565 b\n",
      "    536 e\n",
      "     84 m\n",
      "    151 t\n"
     ]
    }
   ],
   "source": [
    "!cut -f 2 work/test.txt | sort | uniq -c"
   ]
  },
  {
   "cell_type": "markdown",
   "metadata": {},
   "source": [
    "# 51. 特徴量抽出\n",
    "学習データ，検証データ，評価データから特徴量を抽出し，それぞれtrain.feature.txt，valid.feature.txt，test.feature.txtというファイル名で保存せよ． なお，カテゴリ分類に有用そうな特徴量は各自で自由に設計せよ．記事の見出しを単語列に変換したものが最低限のベースラインとなるであろう．"
   ]
  },
  {
   "cell_type": "code",
   "execution_count": 12,
   "metadata": {},
   "outputs": [],
   "source": [
    "import numpy as np\n",
    "from sklearn.feature_extraction.text import TfidfVectorizer"
   ]
  },
  {
   "cell_type": "code",
   "execution_count": 13,
   "metadata": {},
   "outputs": [],
   "source": [
    "def load_file(file_path: str) -> dict:  # train,valid,test dataの読み込み(辞書にして返す)\n",
    "    with open(file_path) as fi:\n",
    "        data = {'title':[], 'category':[]}\n",
    "        for line in fi:\n",
    "            title, category = line.strip('\\n').split('\\t')\n",
    "            data['title'].append(title)\n",
    "            data['category'].append(category)\n",
    "    return data\n",
    "\n",
    "\n",
    "def data_np_saver(filename: str, data: 'numpy.ndarray'):  # データを指定したファイルに書き込む\n",
    "    np.save(filename,data)  # numpy配列を保存\n",
    "\n",
    "    \n",
    "def data_np_loader(filename: str) -> 'numpy.ndarray':  # データを読み込みリストで返す\n",
    "    return np.load(filename).astype(np.float32)  # numpy配列を読み込み\n",
    "\n",
    "\n",
    "def char2num(y_data: list) -> 'numpy.ndarray':  # category -> number\n",
    "    category2num = {'b':0,'t':1,'e':2,'m':3}  # カテゴリを数値で扱う時用\n",
    "    return np.array([category2num[c] for c in y_data])"
   ]
  },
  {
   "cell_type": "code",
   "execution_count": 14,
   "metadata": {},
   "outputs": [],
   "source": [
    "# 各種データの読み込み(辞書型)\n",
    "train_data = load_file('work/train.txt')\n",
    "valid_data = load_file('work/valid.txt')\n",
    "test_data = load_file('work/test.txt')"
   ]
  },
  {
   "cell_type": "code",
   "execution_count": 15,
   "metadata": {},
   "outputs": [
    {
     "name": "stdout",
     "output_type": "stream",
     "text": [
      "vocab size: 7568\n"
     ]
    }
   ],
   "source": [
    "# 特徴量としてtf-idfを使用\n",
    "vectorizer = TfidfVectorizer(min_df=0.0001)  # 使用されている文章が全体の0.0001%以下の単語を無視\n",
    "train_tfidf = vectorizer.fit_transform(train_data['title'])  # train dataのタイトルを使ってtf-idfを計算\n",
    "words = vectorizer.get_feature_names()  # 語彙を取得\n",
    "print('vocab size:', len(words))"
   ]
  },
  {
   "cell_type": "code",
   "execution_count": 16,
   "metadata": {},
   "outputs": [],
   "source": [
    "valid_tfidf = vectorizer.transform(valid_data['title'])  # valid dataをtf-idf行列に変換\n",
    "test_tfidf = vectorizer.transform(test_data['title'])  # test dataをtf-idf行列に変換\n",
    "\n",
    "# 特徴量の保存\n",
    "data_np_saver('work/train.feature', train_tfidf.toarray())\n",
    "data_np_saver('work/valid.feature', valid_tfidf.toarray())\n",
    "data_np_saver('work/test.feature', test_tfidf.toarray())"
   ]
  },
  {
   "cell_type": "code",
   "execution_count": 19,
   "metadata": {},
   "outputs": [
    {
     "data": {
      "text/plain": [
       "(1336, 7568)"
      ]
     },
     "execution_count": 19,
     "metadata": {},
     "output_type": "execute_result"
    }
   ],
   "source": [
    "# 次元を確認してみる\n",
    "test_tfidf.shape"
   ]
  },
  {
   "cell_type": "code",
   "execution_count": 20,
   "metadata": {},
   "outputs": [],
   "source": [
    "# 保存してあった各種データのnumpy配列を読み込み ＆ カテゴリ文字列を数値に変換\n",
    "x_train = data_np_loader('work/train.feature.npy')\n",
    "y_train = char2num(train_data['category'])\n",
    "x_valid = data_np_loader('work/valid.feature.npy')\n",
    "y_valid = char2num(valid_data['category'])\n",
    "x_test = data_np_loader('work/test.feature.npy')\n",
    "y_test = char2num(test_data['category'])"
   ]
  },
  {
   "cell_type": "code",
   "execution_count": 21,
   "metadata": {},
   "outputs": [
    {
     "data": {
      "text/plain": [
       "array([[0.        , 0.        , 0.        , ..., 0.        , 0.        ,\n",
       "        0.        ],\n",
       "       [0.        , 0.        , 0.        , ..., 0.        , 0.        ,\n",
       "        0.        ],\n",
       "       [0.        , 0.        , 0.        , ..., 0.        , 0.        ,\n",
       "        0.        ],\n",
       "       ...,\n",
       "       [0.        , 0.31634274, 0.        , ..., 0.        , 0.        ,\n",
       "        0.        ],\n",
       "       [0.        , 0.        , 0.        , ..., 0.        , 0.        ,\n",
       "        0.        ],\n",
       "       [0.        , 0.        , 0.        , ..., 0.        , 0.        ,\n",
       "        0.        ]], dtype=float32)"
      ]
     },
     "execution_count": 21,
     "metadata": {},
     "output_type": "execute_result"
    }
   ],
   "source": [
    "# 中身をみてみる\n",
    "x_train"
   ]
  },
  {
   "cell_type": "markdown",
   "metadata": {},
   "source": [
    "## 52. 学習\n",
    "51で構築した学習データを用いて，ロジスティック回帰モデルを学習せよ．"
   ]
  },
  {
   "cell_type": "code",
   "execution_count": 22,
   "metadata": {},
   "outputs": [
    {
     "name": "stderr",
     "output_type": "stream",
     "text": [
      "/Users/y_kishinami/.pyenv/versions/anaconda3-2019.10/lib/python3.7/site-packages/sklearn/linear_model/logistic.py:432: FutureWarning: Default solver will be changed to 'lbfgs' in 0.22. Specify a solver to silence this warning.\n",
      "  FutureWarning)\n"
     ]
    },
    {
     "name": "stdout",
     "output_type": "stream",
     "text": [
      "CPU times: user 810 ms, sys: 318 ms, total: 1.13 s\n",
      "Wall time: 1.55 s\n"
     ]
    },
    {
     "data": {
      "text/plain": [
       "LogisticRegression(C=2000, class_weight=None, dual=False, fit_intercept=True,\n",
       "                   intercept_scaling=1, l1_ratio=None, max_iter=100,\n",
       "                   multi_class='auto', n_jobs=None, penalty='l2',\n",
       "                   random_state=None, solver='warn', tol=0.0001, verbose=0,\n",
       "                   warm_start=False)"
      ]
     },
     "execution_count": 22,
     "metadata": {},
     "output_type": "execute_result"
    }
   ],
   "source": [
    "%%time\n",
    "from sklearn.linear_model import LogisticRegression\n",
    "# max_iter:最適解探索の際の最大探索回数, solver:最適解の探索手法, multi_class:2値分類or多値分類\n",
    "#lr = LogisticRegression(max_iter=1000,solver='lbfgs',multi_class='auto')\n",
    "lr = LogisticRegression(C=2000, multi_class='auto')\n",
    "lr.fit(x_train, y_train)"
   ]
  },
  {
   "cell_type": "markdown",
   "metadata": {},
   "source": [
    "## 53. 予測\n",
    "52で学習したロジスティック回帰モデルを用い，与えられた記事見出しからカテゴリとその予測確率を計算するプログラムを実装せよ．"
   ]
  },
  {
   "cell_type": "code",
   "execution_count": 24,
   "metadata": {},
   "outputs": [],
   "source": [
    "import pandas as pd"
   ]
  },
  {
   "cell_type": "code",
   "execution_count": 27,
   "metadata": {},
   "outputs": [],
   "source": [
    "# 入力から、予測したカテゴリとその予測確率を返す関数\n",
    "def predict(inputs: 'numpy.ndarray') -> 'numpy.ndarray, numpy.ndarray':\n",
    "    output = lr.predict_proba(inputs)\n",
    "    return output.argmax(axis=1), output.max(axis=1)"
   ]
  },
  {
   "cell_type": "code",
   "execution_count": 28,
   "metadata": {},
   "outputs": [
    {
     "data": {
      "text/html": [
       "<div>\n",
       "<style scoped>\n",
       "    .dataframe tbody tr th:only-of-type {\n",
       "        vertical-align: middle;\n",
       "    }\n",
       "\n",
       "    .dataframe tbody tr th {\n",
       "        vertical-align: top;\n",
       "    }\n",
       "\n",
       "    .dataframe thead th {\n",
       "        text-align: right;\n",
       "    }\n",
       "</style>\n",
       "<table border=\"1\" class=\"dataframe\">\n",
       "  <thead>\n",
       "    <tr style=\"text-align: right;\">\n",
       "      <th></th>\n",
       "      <th>GOLD</th>\n",
       "      <th>PRED</th>\n",
       "      <th>PROB</th>\n",
       "    </tr>\n",
       "  </thead>\n",
       "  <tbody>\n",
       "    <tr>\n",
       "      <td>0</td>\n",
       "      <td>2</td>\n",
       "      <td>2</td>\n",
       "      <td>1.000000</td>\n",
       "    </tr>\n",
       "    <tr>\n",
       "      <td>1</td>\n",
       "      <td>2</td>\n",
       "      <td>2</td>\n",
       "      <td>1.000000</td>\n",
       "    </tr>\n",
       "    <tr>\n",
       "      <td>2</td>\n",
       "      <td>0</td>\n",
       "      <td>0</td>\n",
       "      <td>1.000000</td>\n",
       "    </tr>\n",
       "    <tr>\n",
       "      <td>3</td>\n",
       "      <td>0</td>\n",
       "      <td>0</td>\n",
       "      <td>1.000000</td>\n",
       "    </tr>\n",
       "    <tr>\n",
       "      <td>4</td>\n",
       "      <td>2</td>\n",
       "      <td>2</td>\n",
       "      <td>0.999999</td>\n",
       "    </tr>\n",
       "    <tr>\n",
       "      <td>...</td>\n",
       "      <td>...</td>\n",
       "      <td>...</td>\n",
       "      <td>...</td>\n",
       "    </tr>\n",
       "    <tr>\n",
       "      <td>10679</td>\n",
       "      <td>2</td>\n",
       "      <td>2</td>\n",
       "      <td>1.000000</td>\n",
       "    </tr>\n",
       "    <tr>\n",
       "      <td>10680</td>\n",
       "      <td>3</td>\n",
       "      <td>3</td>\n",
       "      <td>0.999907</td>\n",
       "    </tr>\n",
       "    <tr>\n",
       "      <td>10681</td>\n",
       "      <td>0</td>\n",
       "      <td>0</td>\n",
       "      <td>0.999998</td>\n",
       "    </tr>\n",
       "    <tr>\n",
       "      <td>10682</td>\n",
       "      <td>0</td>\n",
       "      <td>0</td>\n",
       "      <td>1.000000</td>\n",
       "    </tr>\n",
       "    <tr>\n",
       "      <td>10683</td>\n",
       "      <td>2</td>\n",
       "      <td>2</td>\n",
       "      <td>1.000000</td>\n",
       "    </tr>\n",
       "  </tbody>\n",
       "</table>\n",
       "<p>10684 rows × 3 columns</p>\n",
       "</div>"
      ],
      "text/plain": [
       "       GOLD  PRED      PROB\n",
       "0         2     2  1.000000\n",
       "1         2     2  1.000000\n",
       "2         0     0  1.000000\n",
       "3         0     0  1.000000\n",
       "4         2     2  0.999999\n",
       "...     ...   ...       ...\n",
       "10679     2     2  1.000000\n",
       "10680     3     3  0.999907\n",
       "10681     0     0  0.999998\n",
       "10682     0     0  1.000000\n",
       "10683     2     2  1.000000\n",
       "\n",
       "[10684 rows x 3 columns]"
      ]
     },
     "execution_count": 28,
     "metadata": {},
     "output_type": "execute_result"
    }
   ],
   "source": [
    "category, prob = predict(x_train)\n",
    "pd.DataFrame(zip(y_train, category, prob), columns=[\"GOLD\", \"PRED\", \"PROB\"])"
   ]
  },
  {
   "cell_type": "markdown",
   "metadata": {},
   "source": [
    "## 54. 正解率の計測\n",
    "52で学習したロジスティック回帰モデルの正解率を，学習データおよび評価データ上で計測せよ．"
   ]
  },
  {
   "cell_type": "code",
   "execution_count": 30,
   "metadata": {},
   "outputs": [],
   "source": [
    "# 正解率を計算する関数\n",
    "def accuracy(lr, x, y):\n",
    "    pred = lr.predict_log_proba(x).argmax(axis=1)\n",
    "    return np.mean([p == y for p,y in zip(pred, y)])"
   ]
  },
  {
   "cell_type": "code",
   "execution_count": 32,
   "metadata": {},
   "outputs": [
    {
     "name": "stdout",
     "output_type": "stream",
     "text": [
      "train accuracy : 0.9997192062897791\n",
      "test accuracy : 0.9258982035928144\n"
     ]
    }
   ],
   "source": [
    "print('train accuracy :', accuracy(lr, x_train, y_train))\n",
    "print('test accuracy :', accuracy(lr, x_test, y_test))"
   ]
  },
  {
   "cell_type": "markdown",
   "metadata": {},
   "source": [
    "#### 1回目：tf-idfを特徴量　max_df=0.005 語彙数10708で実行　solver='liblinear', multi_class='ovr'\n",
    "- 学習データの正解率：0.7662921348314606\n",
    "- 評価データの正解率：0.6404494382022472\n",
    "\n",
    "#### 2回目：tf-idfを特徴量　max_df=0.9 語彙数13990で実行　solver='liblinear', multi_class='ovr'\n",
    "- 学習データの正解率：0.9172284644194757\n",
    "- 評価データの正解率：0.8928838951310861\n",
    "\n",
    "#### 3回目：tf-idfを特徴量　max_df=0.9 語彙数13990で実行　solver='lbfgs',multi_class='auto'\n",
    "- 学習データの正解率：0.9449438202247191\n",
    "- 評価データの正解率：0.9071161048689138\n",
    "\n",
    "#### now :tf-idfを特徴量　min_df=0.0001 語彙数7571で実行　C=2000, multi_class='auto'\n",
    "- 学習データの正解率：0.9992512167727443\n",
    "- 評価データの正解率：0.9184131736526946"
   ]
  },
  {
   "cell_type": "markdown",
   "metadata": {},
   "source": [
    "## 55. 混同行列の作成\n",
    "52で学習したロジスティック回帰モデルの混同行列（confusion matrix）を，学習データおよび評価データ上で作成せよ．"
   ]
  },
  {
   "cell_type": "code",
   "execution_count": 33,
   "metadata": {},
   "outputs": [],
   "source": [
    "from sklearn.metrics import confusion_matrix"
   ]
  },
  {
   "cell_type": "code",
   "execution_count": 34,
   "metadata": {},
   "outputs": [],
   "source": [
    "# 混同行列を計算する関数\n",
    "def make_confusion_matrix(x: 'numpy.ndarray', y: 'numpy.ndarray') -> 'numpy.ndarray':\n",
    "    pred = lr.predict_proba(x).argmax(axis=1)  # 予測カテゴリの配列を取得\n",
    "    cm = confusion_matrix(y, pred)  # 混同行列を計算\n",
    "    return cm"
   ]
  },
  {
   "cell_type": "code",
   "execution_count": 35,
   "metadata": {},
   "outputs": [
    {
     "name": "stdout",
     "output_type": "stream",
     "text": [
      "confusion matrix of train data:\n",
      "[[4495    1    0    0]\n",
      " [   2 1221    0    0]\n",
      " [   0    0 4227    0]\n",
      " [   0    0    0  738]]\n"
     ]
    }
   ],
   "source": [
    "train_cm = make_confusion_matrix(x_train, y_train)\n",
    "print('confusion matrix of train data:', train_cm, sep='\\n')"
   ]
  },
  {
   "cell_type": "code",
   "execution_count": 38,
   "metadata": {},
   "outputs": [
    {
     "name": "stdout",
     "output_type": "stream",
     "text": [
      "confusion matrix of test data:\n",
      "[[532  16  14   3]\n",
      " [ 15 122   7   7]\n",
      " [  8   4 518   6]\n",
      " [ 10   3   6  65]]\n"
     ]
    }
   ],
   "source": [
    "test_cm = make_confusion_matrix(x_test,y_test)\n",
    "print('confusion matrix of test data:', test_cm, sep='\\n')"
   ]
  },
  {
   "cell_type": "code",
   "execution_count": 39,
   "metadata": {},
   "outputs": [
    {
     "data": {
      "text/plain": [
       "(4, 0)"
      ]
     },
     "execution_count": 39,
     "metadata": {},
     "output_type": "execute_result"
    },
    {
     "data": {
      "image/png": "[encoded data removed]",
      "text/plain": [
       "<Figure size 432x288 with 2 Axes>"
      ]
     },
     "metadata": {
      "needs_background": "light"
     },
     "output_type": "display_data"
    }
   ],
   "source": [
    "%matplotlib inline\n",
    "import seaborn as sns\n",
    "import matplotlib.pyplot as plt\n",
    "\n",
    "categories = ['b','t','e','m']  # categoryのリスト\n",
    "\n",
    "# 混同行列の可視化  cmap:色指定　annot:数値を表示するかどうか　square:正方形で表示するかどうか\n",
    "sns.heatmap(train_cm, annot=True, cmap='Blues', square=True, xticklabels=categories, yticklabels=categories)\n",
    "plt.ylim(len(train_cm), 0)"
   ]
  },
  {
   "cell_type": "code",
   "execution_count": 40,
   "metadata": {},
   "outputs": [
    {
     "data": {
      "text/plain": [
       "(4, 0)"
      ]
     },
     "execution_count": 40,
     "metadata": {},
     "output_type": "execute_result"
    },
    {
     "data": {
      "image/png": "[encoded data removed]",
      "text/plain": [
       "<Figure size 432x288 with 2 Axes>"
      ]
     },
     "metadata": {
      "needs_background": "light"
     },
     "output_type": "display_data"
    }
   ],
   "source": [
    "sns.heatmap(test_cm, annot=True, cmap='Blues',square=True, xticklabels=categories, yticklabels=categories)\n",
    "plt.ylim(len(test_cm), 0)"
   ]
  },
  {
   "cell_type": "markdown",
   "metadata": {},
   "source": [
    "## 56. 適合率，再現率，F1スコアの計測\n",
    "52で学習したロジスティック回帰モデルの適合率，再現率，F1スコアを，評価データ上で計測せよ．カテゴリごとに適合率，再現率，F1スコアを求め，カテゴリごとの性能をマイクロ平均（micro-average）とマクロ平均（macro-average）で統合せよ．"
   ]
  },
  {
   "cell_type": "code",
   "execution_count": 41,
   "metadata": {},
   "outputs": [
    {
     "name": "stdout",
     "output_type": "stream",
     "text": [
      "confusion matrix of test data\n",
      "[[532  16  14   3]\n",
      " [ 15 122   7   7]\n",
      " [  8   4 518   6]\n",
      " [ 10   3   6  65]]\n",
      "true positive(tp): [532 122 518  65]\n",
      "false positive(fp): [33 23 27 16]\n",
      "false negative(fn): [33 29 18 19]\n"
     ]
    }
   ],
   "source": [
    "tp = test_cm.diagonal()  # True Positive:猫を猫と予測できてる (confusion matrixの対角成分を抽出)\n",
    "fp = test_cm.sum(axis=0) - tp  # False Positive:猫じゃないものを猫と予測してる (confusion matrixの列ごとの和からtpを引いたもの)\n",
    "fn = test_cm.sum(axis=1) - tp  # False Negative:猫を猫じゃないものと予測してる (confusion matrixの行ごとの和からtpを引いたもの)\n",
    "\n",
    "print('confusion matrix of test data', test_cm, sep='\\n')\n",
    "print('true positive(tp):', tp)\n",
    "print('false positive(fp):', fp)\n",
    "print('false negative(fn):', fn)\n",
    "\n",
    "# 適合率\n",
    "precision = tp / (tp + fp)  # 選んだもののうち本当に猫だった数/猫と選んだ数\n",
    "# 再現率\n",
    "recall = tp / (tp + fn)  # 選んだもののうち猫だった数/猫の数\n",
    "# F1スコア(適合率と再現率の調和平均)\n",
    "f1_score = 2 * precision * recall / (precision + recall)\n",
    "\n",
    "# マイクロ平均　全部まとめて計算しちゃう\n",
    "micro_p = tp.sum() / (tp.sum() + fp.sum())\n",
    "micro_r = tp.sum() / (tp.sum() + fn.sum())\n",
    "micro_f1 = 2 * micro_p * micro_r / (micro_p + micro_r)\n",
    "# マクロ平均　それぞれを計算してから平均\n",
    "macro_p = precision.mean()\n",
    "macro_r = recall.mean()\n",
    "macro_f1 = 2 * macro_p * macro_r / (macro_p + macro_r)"
   ]
  },
  {
   "cell_type": "code",
   "execution_count": 42,
   "metadata": {},
   "outputs": [
    {
     "data": {
      "text/html": [
       "<div>\n",
       "<style scoped>\n",
       "    .dataframe tbody tr th:only-of-type {\n",
       "        vertical-align: middle;\n",
       "    }\n",
       "\n",
       "    .dataframe tbody tr th {\n",
       "        vertical-align: top;\n",
       "    }\n",
       "\n",
       "    .dataframe thead th {\n",
       "        text-align: right;\n",
       "    }\n",
       "</style>\n",
       "<table border=\"1\" class=\"dataframe\">\n",
       "  <thead>\n",
       "    <tr style=\"text-align: right;\">\n",
       "      <th></th>\n",
       "      <th>b</th>\n",
       "      <th>t</th>\n",
       "      <th>e</th>\n",
       "      <th>m</th>\n",
       "    </tr>\n",
       "  </thead>\n",
       "  <tbody>\n",
       "    <tr>\n",
       "      <td>precison</td>\n",
       "      <td>0.941593</td>\n",
       "      <td>0.841379</td>\n",
       "      <td>0.950459</td>\n",
       "      <td>0.802469</td>\n",
       "    </tr>\n",
       "    <tr>\n",
       "      <td>recall</td>\n",
       "      <td>0.941593</td>\n",
       "      <td>0.807947</td>\n",
       "      <td>0.966418</td>\n",
       "      <td>0.773810</td>\n",
       "    </tr>\n",
       "    <tr>\n",
       "      <td>f1_score</td>\n",
       "      <td>0.941593</td>\n",
       "      <td>0.824324</td>\n",
       "      <td>0.958372</td>\n",
       "      <td>0.787879</td>\n",
       "    </tr>\n",
       "  </tbody>\n",
       "</table>\n",
       "</div>"
      ],
      "text/plain": [
       "                 b         t         e         m\n",
       "precison  0.941593  0.841379  0.950459  0.802469\n",
       "recall    0.941593  0.807947  0.966418  0.773810\n",
       "f1_score  0.941593  0.824324  0.958372  0.787879"
      ]
     },
     "execution_count": 42,
     "metadata": {},
     "output_type": "execute_result"
    }
   ],
   "source": [
    "scores = ['precison', 'recall', 'f1_score']  # 評価値の名前\n",
    "t = np.array([precision, recall, f1_score])\n",
    "pd.DataFrame(t, index=scores, columns=categories)"
   ]
  },
  {
   "cell_type": "code",
   "execution_count": 43,
   "metadata": {},
   "outputs": [
    {
     "data": {
      "text/html": [
       "<div>\n",
       "<style scoped>\n",
       "    .dataframe tbody tr th:only-of-type {\n",
       "        vertical-align: middle;\n",
       "    }\n",
       "\n",
       "    .dataframe tbody tr th {\n",
       "        vertical-align: top;\n",
       "    }\n",
       "\n",
       "    .dataframe thead th {\n",
       "        text-align: right;\n",
       "    }\n",
       "</style>\n",
       "<table border=\"1\" class=\"dataframe\">\n",
       "  <thead>\n",
       "    <tr style=\"text-align: right;\">\n",
       "      <th></th>\n",
       "      <th>precison</th>\n",
       "      <th>recall</th>\n",
       "      <th>f1_score</th>\n",
       "    </tr>\n",
       "  </thead>\n",
       "  <tbody>\n",
       "    <tr>\n",
       "      <td>micro-ave</td>\n",
       "      <td>0.925898</td>\n",
       "      <td>0.925898</td>\n",
       "      <td>0.925898</td>\n",
       "    </tr>\n",
       "    <tr>\n",
       "      <td>macro-ave</td>\n",
       "      <td>0.883975</td>\n",
       "      <td>0.872442</td>\n",
       "      <td>0.878171</td>\n",
       "    </tr>\n",
       "  </tbody>\n",
       "</table>\n",
       "</div>"
      ],
      "text/plain": [
       "           precison    recall  f1_score\n",
       "micro-ave  0.925898  0.925898  0.925898\n",
       "macro-ave  0.883975  0.872442  0.878171"
      ]
     },
     "execution_count": 43,
     "metadata": {},
     "output_type": "execute_result"
    }
   ],
   "source": [
    "ave_name = ['micro-ave', 'macro-ave']\n",
    "m = np.array([[micro_p, micro_r, micro_f1], [macro_p, macro_r, macro_f1]])\n",
    "pd.DataFrame(m, index=ave_name, columns=scores)"
   ]
  },
  {
   "cell_type": "markdown",
   "metadata": {},
   "source": [
    "## 57. 特徴量の重みの確認\n",
    "52で学習したロジスティック回帰モデルの中で，重みの高い特徴量トップ10と，重みの低い特徴量トップ10を確認せよ．"
   ]
  },
  {
   "cell_type": "code",
   "execution_count": 49,
   "metadata": {},
   "outputs": [
    {
     "name": "stdout",
     "output_type": "stream",
     "text": [
      "(4, 7568)\n"
     ]
    }
   ],
   "source": [
    "# 重みの形状の確認\n",
    "print(lr.coef_.shape)"
   ]
  },
  {
   "cell_type": "code",
   "execution_count": 45,
   "metadata": {},
   "outputs": [],
   "source": [
    "# 上位もしくは下位n個の重みと特徴量をdfで表示する関数\n",
    "def weight_top_n(x: '-1 or 1', n: int):\n",
    "    for i in range(len(categories)):\n",
    "        sorted_w = np.argsort(x*lr.coef_[i])[:n]  # x == 1なら昇順　x == -1なら降順ソート\n",
    "        weight_n_words = []\n",
    "        \n",
    "        for j in sorted_w:\n",
    "            weight_n_words.append(words[j])  # 対応する単語をリストに追加\n",
    "        w_df = pd.DataFrame([weight_n_words, lr.coef_[i][sorted_w]], index=['features', 'weights'], columns=np.arange(n)+1)\n",
    "        \n",
    "        if x == -1:\n",
    "            print(categories[i] + ' top ' + str(n))\n",
    "        elif x == 1:\n",
    "            print(categories[i] + ' worst' + str(n))\n",
    "\n",
    "        display(w_df)  # 表示"
   ]
  },
  {
   "cell_type": "code",
   "execution_count": 47,
   "metadata": {},
   "outputs": [
    {
     "name": "stdout",
     "output_type": "stream",
     "text": [
      "b top 10\n"
     ]
    },
    {
     "data": {
      "text/html": [
       "<div>\n",
       "<style scoped>\n",
       "    .dataframe tbody tr th:only-of-type {\n",
       "        vertical-align: middle;\n",
       "    }\n",
       "\n",
       "    .dataframe tbody tr th {\n",
       "        vertical-align: top;\n",
       "    }\n",
       "\n",
       "    .dataframe thead th {\n",
       "        text-align: right;\n",
       "    }\n",
       "</style>\n",
       "<table border=\"1\" class=\"dataframe\">\n",
       "  <thead>\n",
       "    <tr style=\"text-align: right;\">\n",
       "      <th></th>\n",
       "      <th>1</th>\n",
       "      <th>2</th>\n",
       "      <th>3</th>\n",
       "      <th>4</th>\n",
       "      <th>5</th>\n",
       "      <th>6</th>\n",
       "      <th>7</th>\n",
       "      <th>8</th>\n",
       "      <th>9</th>\n",
       "      <th>10</th>\n",
       "    </tr>\n",
       "  </thead>\n",
       "  <tbody>\n",
       "    <tr>\n",
       "      <td>features</td>\n",
       "      <td>bank</td>\n",
       "      <td>fed</td>\n",
       "      <td>ecb</td>\n",
       "      <td>protection</td>\n",
       "      <td>fitch</td>\n",
       "      <td>dollar</td>\n",
       "      <td>obamacare</td>\n",
       "      <td>lobster</td>\n",
       "      <td>bnp</td>\n",
       "      <td>valued</td>\n",
       "    </tr>\n",
       "    <tr>\n",
       "      <td>weights</td>\n",
       "      <td>23.65</td>\n",
       "      <td>23.6074</td>\n",
       "      <td>22.4948</td>\n",
       "      <td>22.0555</td>\n",
       "      <td>20.7889</td>\n",
       "      <td>20.7651</td>\n",
       "      <td>20.0657</td>\n",
       "      <td>19.1293</td>\n",
       "      <td>19.0685</td>\n",
       "      <td>18.9991</td>\n",
       "    </tr>\n",
       "  </tbody>\n",
       "</table>\n",
       "</div>"
      ],
      "text/plain": [
       "             1        2        3           4        5        6          7   \\\n",
       "features   bank      fed      ecb  protection    fitch   dollar  obamacare   \n",
       "weights   23.65  23.6074  22.4948     22.0555  20.7889  20.7651    20.0657   \n",
       "\n",
       "               8        9        10  \n",
       "features  lobster      bnp   valued  \n",
       "weights   19.1293  19.0685  18.9991  "
      ]
     },
     "metadata": {},
     "output_type": "display_data"
    },
    {
     "name": "stdout",
     "output_type": "stream",
     "text": [
      "t top 10\n"
     ]
    },
    {
     "data": {
      "text/html": [
       "<div>\n",
       "<style scoped>\n",
       "    .dataframe tbody tr th:only-of-type {\n",
       "        vertical-align: middle;\n",
       "    }\n",
       "\n",
       "    .dataframe tbody tr th {\n",
       "        vertical-align: top;\n",
       "    }\n",
       "\n",
       "    .dataframe thead th {\n",
       "        text-align: right;\n",
       "    }\n",
       "</style>\n",
       "<table border=\"1\" class=\"dataframe\">\n",
       "  <thead>\n",
       "    <tr style=\"text-align: right;\">\n",
       "      <th></th>\n",
       "      <th>1</th>\n",
       "      <th>2</th>\n",
       "      <th>3</th>\n",
       "      <th>4</th>\n",
       "      <th>5</th>\n",
       "      <th>6</th>\n",
       "      <th>7</th>\n",
       "      <th>8</th>\n",
       "      <th>9</th>\n",
       "      <th>10</th>\n",
       "    </tr>\n",
       "  </thead>\n",
       "  <tbody>\n",
       "    <tr>\n",
       "      <td>features</td>\n",
       "      <td>activision</td>\n",
       "      <td>facebook</td>\n",
       "      <td>apple</td>\n",
       "      <td>google</td>\n",
       "      <td>climate</td>\n",
       "      <td>microsoft</td>\n",
       "      <td>heartbleed</td>\n",
       "      <td>tesla</td>\n",
       "      <td>nintendo</td>\n",
       "      <td>nasa</td>\n",
       "    </tr>\n",
       "    <tr>\n",
       "      <td>weights</td>\n",
       "      <td>34.1973</td>\n",
       "      <td>32.4468</td>\n",
       "      <td>29.9483</td>\n",
       "      <td>29.8758</td>\n",
       "      <td>27.5272</td>\n",
       "      <td>25.9296</td>\n",
       "      <td>24.2629</td>\n",
       "      <td>22.8307</td>\n",
       "      <td>22.037</td>\n",
       "      <td>21.5552</td>\n",
       "    </tr>\n",
       "  </tbody>\n",
       "</table>\n",
       "</div>"
      ],
      "text/plain": [
       "                  1         2        3        4        5          6   \\\n",
       "features  activision  facebook    apple   google  climate  microsoft   \n",
       "weights      34.1973   32.4468  29.9483  29.8758  27.5272    25.9296   \n",
       "\n",
       "                  7        8         9        10  \n",
       "features  heartbleed    tesla  nintendo     nasa  \n",
       "weights      24.2629  22.8307    22.037  21.5552  "
      ]
     },
     "metadata": {},
     "output_type": "display_data"
    },
    {
     "name": "stdout",
     "output_type": "stream",
     "text": [
      "e top 10\n"
     ]
    },
    {
     "data": {
      "text/html": [
       "<div>\n",
       "<style scoped>\n",
       "    .dataframe tbody tr th:only-of-type {\n",
       "        vertical-align: middle;\n",
       "    }\n",
       "\n",
       "    .dataframe tbody tr th {\n",
       "        vertical-align: top;\n",
       "    }\n",
       "\n",
       "    .dataframe thead th {\n",
       "        text-align: right;\n",
       "    }\n",
       "</style>\n",
       "<table border=\"1\" class=\"dataframe\">\n",
       "  <thead>\n",
       "    <tr style=\"text-align: right;\">\n",
       "      <th></th>\n",
       "      <th>1</th>\n",
       "      <th>2</th>\n",
       "      <th>3</th>\n",
       "      <th>4</th>\n",
       "      <th>5</th>\n",
       "      <th>6</th>\n",
       "      <th>7</th>\n",
       "      <th>8</th>\n",
       "      <th>9</th>\n",
       "      <th>10</th>\n",
       "    </tr>\n",
       "  </thead>\n",
       "  <tbody>\n",
       "    <tr>\n",
       "      <td>features</td>\n",
       "      <td>transformers</td>\n",
       "      <td>chris</td>\n",
       "      <td>thrones</td>\n",
       "      <td>hbo</td>\n",
       "      <td>music</td>\n",
       "      <td>courtney</td>\n",
       "      <td>trailer</td>\n",
       "      <td>kardashian</td>\n",
       "      <td>bossy</td>\n",
       "      <td>harris</td>\n",
       "    </tr>\n",
       "    <tr>\n",
       "      <td>weights</td>\n",
       "      <td>19.9341</td>\n",
       "      <td>19.7049</td>\n",
       "      <td>19.1146</td>\n",
       "      <td>18.3165</td>\n",
       "      <td>18.1593</td>\n",
       "      <td>17.8063</td>\n",
       "      <td>17.444</td>\n",
       "      <td>17.047</td>\n",
       "      <td>16.3549</td>\n",
       "      <td>16.2298</td>\n",
       "    </tr>\n",
       "  </tbody>\n",
       "</table>\n",
       "</div>"
      ],
      "text/plain": [
       "                    1        2        3        4        5         6        7   \\\n",
       "features  transformers    chris  thrones      hbo    music  courtney  trailer   \n",
       "weights        19.9341  19.7049  19.1146  18.3165  18.1593   17.8063   17.444   \n",
       "\n",
       "                  8        9        10  \n",
       "features  kardashian    bossy   harris  \n",
       "weights       17.047  16.3549  16.2298  "
      ]
     },
     "metadata": {},
     "output_type": "display_data"
    },
    {
     "name": "stdout",
     "output_type": "stream",
     "text": [
      "m top 10\n"
     ]
    },
    {
     "data": {
      "text/html": [
       "<div>\n",
       "<style scoped>\n",
       "    .dataframe tbody tr th:only-of-type {\n",
       "        vertical-align: middle;\n",
       "    }\n",
       "\n",
       "    .dataframe tbody tr th {\n",
       "        vertical-align: top;\n",
       "    }\n",
       "\n",
       "    .dataframe thead th {\n",
       "        text-align: right;\n",
       "    }\n",
       "</style>\n",
       "<table border=\"1\" class=\"dataframe\">\n",
       "  <thead>\n",
       "    <tr style=\"text-align: right;\">\n",
       "      <th></th>\n",
       "      <th>1</th>\n",
       "      <th>2</th>\n",
       "      <th>3</th>\n",
       "      <th>4</th>\n",
       "      <th>5</th>\n",
       "      <th>6</th>\n",
       "      <th>7</th>\n",
       "      <th>8</th>\n",
       "      <th>9</th>\n",
       "      <th>10</th>\n",
       "    </tr>\n",
       "  </thead>\n",
       "  <tbody>\n",
       "    <tr>\n",
       "      <td>features</td>\n",
       "      <td>ebola</td>\n",
       "      <td>fda</td>\n",
       "      <td>mers</td>\n",
       "      <td>cancer</td>\n",
       "      <td>cigarettes</td>\n",
       "      <td>doctors</td>\n",
       "      <td>abortion</td>\n",
       "      <td>study</td>\n",
       "      <td>expectancy</td>\n",
       "      <td>cases</td>\n",
       "    </tr>\n",
       "    <tr>\n",
       "      <td>weights</td>\n",
       "      <td>27.2121</td>\n",
       "      <td>24.3339</td>\n",
       "      <td>19.831</td>\n",
       "      <td>19.7783</td>\n",
       "      <td>19.4973</td>\n",
       "      <td>18.9242</td>\n",
       "      <td>17.8551</td>\n",
       "      <td>17.3484</td>\n",
       "      <td>17.2221</td>\n",
       "      <td>16.9455</td>\n",
       "    </tr>\n",
       "  </tbody>\n",
       "</table>\n",
       "</div>"
      ],
      "text/plain": [
       "               1        2       3        4           5        6         7   \\\n",
       "features    ebola      fda    mers   cancer  cigarettes  doctors  abortion   \n",
       "weights   27.2121  24.3339  19.831  19.7783     19.4973  18.9242   17.8551   \n",
       "\n",
       "               8           9        10  \n",
       "features    study  expectancy    cases  \n",
       "weights   17.3484     17.2221  16.9455  "
      ]
     },
     "metadata": {},
     "output_type": "display_data"
    }
   ],
   "source": [
    "# 重みの高い特徴量トップ１０\n",
    "weight_top_n(-1, 10)"
   ]
  },
  {
   "cell_type": "code",
   "execution_count": 48,
   "metadata": {},
   "outputs": [
    {
     "name": "stdout",
     "output_type": "stream",
     "text": [
      "b worst10\n"
     ]
    },
    {
     "data": {
      "text/html": [
       "<div>\n",
       "<style scoped>\n",
       "    .dataframe tbody tr th:only-of-type {\n",
       "        vertical-align: middle;\n",
       "    }\n",
       "\n",
       "    .dataframe tbody tr th {\n",
       "        vertical-align: top;\n",
       "    }\n",
       "\n",
       "    .dataframe thead th {\n",
       "        text-align: right;\n",
       "    }\n",
       "</style>\n",
       "<table border=\"1\" class=\"dataframe\">\n",
       "  <thead>\n",
       "    <tr style=\"text-align: right;\">\n",
       "      <th></th>\n",
       "      <th>1</th>\n",
       "      <th>2</th>\n",
       "      <th>3</th>\n",
       "      <th>4</th>\n",
       "      <th>5</th>\n",
       "      <th>6</th>\n",
       "      <th>7</th>\n",
       "      <th>8</th>\n",
       "      <th>9</th>\n",
       "      <th>10</th>\n",
       "    </tr>\n",
       "  </thead>\n",
       "  <tbody>\n",
       "    <tr>\n",
       "      <td>features</td>\n",
       "      <td>activision</td>\n",
       "      <td>courtney</td>\n",
       "      <td>gnip</td>\n",
       "      <td>facebook</td>\n",
       "      <td>researchers</td>\n",
       "      <td>twitch</td>\n",
       "      <td>ebola</td>\n",
       "      <td>nintendo</td>\n",
       "      <td>nfl</td>\n",
       "      <td>aereo</td>\n",
       "    </tr>\n",
       "    <tr>\n",
       "      <td>weights</td>\n",
       "      <td>-35.0279</td>\n",
       "      <td>-24.7448</td>\n",
       "      <td>-20.428</td>\n",
       "      <td>-18.7495</td>\n",
       "      <td>-18.6791</td>\n",
       "      <td>-18.5944</td>\n",
       "      <td>-18.5728</td>\n",
       "      <td>-18.2581</td>\n",
       "      <td>-18.0672</td>\n",
       "      <td>-17.2216</td>\n",
       "    </tr>\n",
       "  </tbody>\n",
       "</table>\n",
       "</div>"
      ],
      "text/plain": [
       "                  1         2       3         4            5        6   \\\n",
       "features  activision  courtney    gnip  facebook  researchers   twitch   \n",
       "weights     -35.0279  -24.7448 -20.428  -18.7495     -18.6791 -18.5944   \n",
       "\n",
       "               7         8        9        10  \n",
       "features    ebola  nintendo      nfl    aereo  \n",
       "weights  -18.5728  -18.2581 -18.0672 -17.2216  "
      ]
     },
     "metadata": {},
     "output_type": "display_data"
    },
    {
     "name": "stdout",
     "output_type": "stream",
     "text": [
      "t worst10\n"
     ]
    },
    {
     "data": {
      "text/html": [
       "<div>\n",
       "<style scoped>\n",
       "    .dataframe tbody tr th:only-of-type {\n",
       "        vertical-align: middle;\n",
       "    }\n",
       "\n",
       "    .dataframe tbody tr th {\n",
       "        vertical-align: top;\n",
       "    }\n",
       "\n",
       "    .dataframe thead th {\n",
       "        text-align: right;\n",
       "    }\n",
       "</style>\n",
       "<table border=\"1\" class=\"dataframe\">\n",
       "  <thead>\n",
       "    <tr style=\"text-align: right;\">\n",
       "      <th></th>\n",
       "      <th>1</th>\n",
       "      <th>2</th>\n",
       "      <th>3</th>\n",
       "      <th>4</th>\n",
       "      <th>5</th>\n",
       "      <th>6</th>\n",
       "      <th>7</th>\n",
       "      <th>8</th>\n",
       "      <th>9</th>\n",
       "      <th>10</th>\n",
       "    </tr>\n",
       "  </thead>\n",
       "  <tbody>\n",
       "    <tr>\n",
       "      <td>features</td>\n",
       "      <td>stocks</td>\n",
       "      <td>protection</td>\n",
       "      <td>move</td>\n",
       "      <td>dollar</td>\n",
       "      <td>response</td>\n",
       "      <td>upholds</td>\n",
       "      <td>board</td>\n",
       "      <td>acquisition</td>\n",
       "      <td>thrones</td>\n",
       "      <td>ecb</td>\n",
       "    </tr>\n",
       "    <tr>\n",
       "      <td>weights</td>\n",
       "      <td>-20.2237</td>\n",
       "      <td>-18.9122</td>\n",
       "      <td>-18.4885</td>\n",
       "      <td>-17.4868</td>\n",
       "      <td>-17.4733</td>\n",
       "      <td>-16.4122</td>\n",
       "      <td>-16.3135</td>\n",
       "      <td>-16.0122</td>\n",
       "      <td>-15.6936</td>\n",
       "      <td>-15.6145</td>\n",
       "    </tr>\n",
       "  </tbody>\n",
       "</table>\n",
       "</div>"
      ],
      "text/plain": [
       "               1           2        3        4         5        6        7   \\\n",
       "features   stocks  protection     move   dollar  response  upholds    board   \n",
       "weights  -20.2237    -18.9122 -18.4885 -17.4868  -17.4733 -16.4122 -16.3135   \n",
       "\n",
       "                   8        9        10  \n",
       "features  acquisition  thrones      ecb  \n",
       "weights      -16.0122 -15.6936 -15.6145  "
      ]
     },
     "metadata": {},
     "output_type": "display_data"
    },
    {
     "name": "stdout",
     "output_type": "stream",
     "text": [
      "e worst10\n"
     ]
    },
    {
     "data": {
      "text/html": [
       "<div>\n",
       "<style scoped>\n",
       "    .dataframe tbody tr th:only-of-type {\n",
       "        vertical-align: middle;\n",
       "    }\n",
       "\n",
       "    .dataframe tbody tr th {\n",
       "        vertical-align: top;\n",
       "    }\n",
       "\n",
       "    .dataframe thead th {\n",
       "        text-align: right;\n",
       "    }\n",
       "</style>\n",
       "<table border=\"1\" class=\"dataframe\">\n",
       "  <thead>\n",
       "    <tr style=\"text-align: right;\">\n",
       "      <th></th>\n",
       "      <th>1</th>\n",
       "      <th>2</th>\n",
       "      <th>3</th>\n",
       "      <th>4</th>\n",
       "      <th>5</th>\n",
       "      <th>6</th>\n",
       "      <th>7</th>\n",
       "      <th>8</th>\n",
       "      <th>9</th>\n",
       "      <th>10</th>\n",
       "    </tr>\n",
       "  </thead>\n",
       "  <tbody>\n",
       "    <tr>\n",
       "      <td>features</td>\n",
       "      <td>google</td>\n",
       "      <td>apple</td>\n",
       "      <td>microsoft</td>\n",
       "      <td>facebook</td>\n",
       "      <td>advert</td>\n",
       "      <td>finished</td>\n",
       "      <td>ceo</td>\n",
       "      <td>risk</td>\n",
       "      <td>update</td>\n",
       "      <td>brain</td>\n",
       "    </tr>\n",
       "    <tr>\n",
       "      <td>weights</td>\n",
       "      <td>-21.4502</td>\n",
       "      <td>-20.5737</td>\n",
       "      <td>-19.0927</td>\n",
       "      <td>-19.0021</td>\n",
       "      <td>-17.9242</td>\n",
       "      <td>-17.8448</td>\n",
       "      <td>-16.7229</td>\n",
       "      <td>-15.2786</td>\n",
       "      <td>-14.8906</td>\n",
       "      <td>-14.491</td>\n",
       "    </tr>\n",
       "  </tbody>\n",
       "</table>\n",
       "</div>"
      ],
      "text/plain": [
       "               1        2          3         4        5         6        7   \\\n",
       "features   google    apple  microsoft  facebook   advert  finished      ceo   \n",
       "weights  -21.4502 -20.5737   -19.0927  -19.0021 -17.9242  -17.8448 -16.7229   \n",
       "\n",
       "               8        9       10  \n",
       "features     risk   update   brain  \n",
       "weights  -15.2786 -14.8906 -14.491  "
      ]
     },
     "metadata": {},
     "output_type": "display_data"
    },
    {
     "name": "stdout",
     "output_type": "stream",
     "text": [
      "m worst10\n"
     ]
    },
    {
     "data": {
      "text/html": [
       "<div>\n",
       "<style scoped>\n",
       "    .dataframe tbody tr th:only-of-type {\n",
       "        vertical-align: middle;\n",
       "    }\n",
       "\n",
       "    .dataframe tbody tr th {\n",
       "        vertical-align: top;\n",
       "    }\n",
       "\n",
       "    .dataframe thead th {\n",
       "        text-align: right;\n",
       "    }\n",
       "</style>\n",
       "<table border=\"1\" class=\"dataframe\">\n",
       "  <thead>\n",
       "    <tr style=\"text-align: right;\">\n",
       "      <th></th>\n",
       "      <th>1</th>\n",
       "      <th>2</th>\n",
       "      <th>3</th>\n",
       "      <th>4</th>\n",
       "      <th>5</th>\n",
       "      <th>6</th>\n",
       "      <th>7</th>\n",
       "      <th>8</th>\n",
       "      <th>9</th>\n",
       "      <th>10</th>\n",
       "    </tr>\n",
       "  </thead>\n",
       "  <tbody>\n",
       "    <tr>\n",
       "      <td>features</td>\n",
       "      <td>facebook</td>\n",
       "      <td>google</td>\n",
       "      <td>computer</td>\n",
       "      <td>gm</td>\n",
       "      <td>apple</td>\n",
       "      <td>explain</td>\n",
       "      <td>fed</td>\n",
       "      <td>billion</td>\n",
       "      <td>term</td>\n",
       "      <td>fracking</td>\n",
       "    </tr>\n",
       "    <tr>\n",
       "      <td>weights</td>\n",
       "      <td>-14.2021</td>\n",
       "      <td>-13.2544</td>\n",
       "      <td>-10.8582</td>\n",
       "      <td>-10.6075</td>\n",
       "      <td>-10.4369</td>\n",
       "      <td>-10.3131</td>\n",
       "      <td>-10.0467</td>\n",
       "      <td>-9.9835</td>\n",
       "      <td>-9.96938</td>\n",
       "      <td>-9.67482</td>\n",
       "    </tr>\n",
       "  </tbody>\n",
       "</table>\n",
       "</div>"
      ],
      "text/plain": [
       "                1        2         3        4        5        6        7   \\\n",
       "features  facebook   google  computer       gm    apple  explain      fed   \n",
       "weights   -14.2021 -13.2544  -10.8582 -10.6075 -10.4369 -10.3131 -10.0467   \n",
       "\n",
       "               8        9         10  \n",
       "features  billion     term  fracking  \n",
       "weights   -9.9835 -9.96938  -9.67482  "
      ]
     },
     "metadata": {},
     "output_type": "display_data"
    }
   ],
   "source": [
    "# 重みの低い特徴量トップ１０\n",
    "weight_top_n(1, 10)"
   ]
  },
  {
   "cell_type": "markdown",
   "metadata": {},
   "source": [
    "## 58. 正則化パラメータの変更\n",
    "ロジスティック回帰モデルを学習するとき，正則化パラメータを調整することで，学習時の過学習（overfitting）の度合いを制御できる．異なる正則化パラメータでロジスティック回帰モデルを学習し，学習データ，検証データ，および評価データ上の正解率を求めよ．実験の結果は，正則化パラメータを横軸，正解率を縦軸としたグラフにまとめよ．"
   ]
  },
  {
   "cell_type": "code",
   "execution_count": 20,
   "metadata": {},
   "outputs": [
    {
     "name": "stderr",
     "output_type": "stream",
     "text": [
      "\n",
      "  0%|          | 0/50 [00:00<?, ?it/s]\u001b[A\n",
      "  2%|▏         | 1/50 [00:10<08:30, 10.42s/it]\u001b[A\n",
      "  4%|▍         | 2/50 [00:25<09:21, 11.70s/it]\u001b[A\n",
      "  6%|▌         | 3/50 [00:44<10:56, 13.97s/it]\u001b[A\n",
      "  8%|▊         | 4/50 [01:00<11:08, 14.54s/it]\u001b[A\n",
      " 10%|█         | 5/50 [01:22<12:39, 16.87s/it]\u001b[A\n",
      " 12%|█▏        | 6/50 [01:45<13:48, 18.83s/it]\u001b[A\n",
      " 14%|█▍        | 7/50 [02:11<14:56, 20.86s/it]\u001b[A\n",
      " 16%|█▌        | 8/50 [02:39<16:11, 23.12s/it]\u001b[A\n",
      " 18%|█▊        | 9/50 [03:04<16:05, 23.55s/it]\u001b[A\n",
      " 20%|██        | 10/50 [03:33<16:48, 25.21s/it]\u001b[A\n",
      " 22%|██▏       | 11/50 [04:07<18:08, 27.91s/it]\u001b[A\n",
      " 24%|██▍       | 12/50 [04:35<17:43, 27.98s/it]\u001b[A\n",
      " 26%|██▌       | 13/50 [05:20<20:21, 33.02s/it]\u001b[A\n",
      " 28%|██▊       | 14/50 [05:59<20:50, 34.73s/it]\u001b[A\n",
      " 30%|███       | 15/50 [06:38<20:57, 35.93s/it]\u001b[A\n",
      " 32%|███▏      | 16/50 [07:13<20:15, 35.76s/it]\u001b[A\n",
      " 34%|███▍      | 17/50 [07:49<19:37, 35.67s/it]\u001b[A\n",
      " 36%|███▌      | 18/50 [08:28<19:35, 36.74s/it]\u001b[A\n",
      " 38%|███▊      | 19/50 [08:59<18:10, 35.17s/it]\u001b[A\n",
      " 40%|████      | 20/50 [09:31<17:04, 34.15s/it]\u001b[A\n",
      " 42%|████▏     | 21/50 [10:00<15:48, 32.69s/it]\u001b[A\n",
      " 44%|████▍     | 22/50 [10:35<15:35, 33.43s/it]\u001b[A\n",
      " 46%|████▌     | 23/50 [11:08<14:54, 33.13s/it]\u001b[A\n",
      " 48%|████▊     | 24/50 [11:42<14:25, 33.29s/it]\u001b[A\n",
      " 50%|█████     | 25/50 [12:14<13:46, 33.07s/it]\u001b[A\n",
      " 52%|█████▏    | 26/50 [12:47<13:08, 32.87s/it]\u001b[A\n",
      " 54%|█████▍    | 27/50 [13:21<12:44, 33.25s/it]\u001b[A\n",
      " 56%|█████▌    | 28/50 [13:53<12:08, 33.11s/it]\u001b[A\n",
      " 58%|█████▊    | 29/50 [14:27<11:41, 33.39s/it]\u001b[A\n",
      " 60%|██████    | 30/50 [15:01<11:09, 33.49s/it]\u001b[A\n",
      " 62%|██████▏   | 31/50 [15:34<10:34, 33.40s/it]\u001b[A\n",
      " 64%|██████▍   | 32/50 [16:08<10:03, 33.55s/it]\u001b[A\n",
      " 66%|██████▌   | 33/50 [16:44<09:39, 34.08s/it]\u001b[A\n",
      " 68%|██████▊   | 34/50 [17:18<09:05, 34.08s/it]\u001b[A\n",
      " 70%|███████   | 35/50 [17:50<08:24, 33.62s/it]\u001b[A\n",
      " 72%|███████▏  | 36/50 [18:28<08:06, 34.75s/it]\u001b[A\n",
      " 74%|███████▍  | 37/50 [19:05<07:42, 35.58s/it]\u001b[A\n",
      " 76%|███████▌  | 38/50 [19:41<07:08, 35.70s/it]\u001b[A\n",
      " 78%|███████▊  | 39/50 [20:20<06:42, 36.58s/it]\u001b[A\n",
      " 80%|████████  | 40/50 [20:55<06:02, 36.22s/it]\u001b[A\n",
      " 82%|████████▏ | 41/50 [21:33<05:30, 36.69s/it]\u001b[A\n",
      " 84%|████████▍ | 42/50 [22:12<04:58, 37.35s/it]\u001b[A\n",
      " 86%|████████▌ | 43/50 [22:47<04:16, 36.66s/it]\u001b[A\n",
      " 88%|████████▊ | 44/50 [23:23<03:38, 36.43s/it]\u001b[A\n",
      " 90%|█████████ | 45/50 [24:00<03:03, 36.76s/it]\u001b[A\n",
      " 92%|█████████▏| 46/50 [24:39<02:28, 37.23s/it]\u001b[A\n",
      " 94%|█████████▍| 47/50 [25:14<01:50, 36.81s/it]\u001b[A\n",
      " 96%|█████████▌| 48/50 [25:52<01:14, 37.09s/it]\u001b[A\n",
      " 98%|█████████▊| 49/50 [26:30<00:37, 37.31s/it]\u001b[A\n",
      "100%|██████████| 50/50 [27:06<00:00, 32.54s/it]\u001b[A\n"
     ]
    }
   ],
   "source": [
    "from tqdm import tqdm\n",
    "# 正則化パラメータ\n",
    "C_list = np.arange(0.1,5.1,0.1)\n",
    "acc_list = []\n",
    "\n",
    "# 各パラメータで学習\n",
    "for c in tqdm(C_list):\n",
    "    lr = LogisticRegression(C=c, solver='lbfgs', multi_class='auto', max_iter=1000)\n",
    "    lr.fit(x_train, y_train)\n",
    "    acc_list.append([accuracy(lr, x, y) for x,y in [(x_train, y_train), (x_valid, y_valid), (x_test, y_test)]])"
   ]
  },
  {
   "cell_type": "code",
   "execution_count": 21,
   "metadata": {},
   "outputs": [
    {
     "name": "stdout",
     "output_type": "stream",
     "text": [
      "(50, 3)\n"
     ]
    }
   ],
   "source": [
    "# acc_list 100(iteration回数) * 3(train, valid, test)\n",
    "print(np.array(acc_list).shape)"
   ]
  },
  {
   "cell_type": "code",
   "execution_count": 22,
   "metadata": {},
   "outputs": [
    {
     "data": {
      "image/png": "[encoded data removed]",
      "text/plain": [
       "<Figure size 432x288 with 1 Axes>"
      ]
     },
     "metadata": {
      "needs_background": "light"
     },
     "output_type": "display_data"
    }
   ],
   "source": [
    "train_acc_list, valid_acc_list, test_acc_list = np.array(acc_list).T  # それぞれのdataでの正解率リストを作成\n",
    "plt.plot(C_list, train_acc_list, label='train')\n",
    "plt.plot(C_list, valid_acc_list, label='valid')\n",
    "plt.plot(C_list, test_acc_list, label='test')\n",
    "plt.legend()\n",
    "plt.title('hyperparameter search (regularization strength)')\n",
    "plt.xlabel('regularization strength')\n",
    "plt.ylabel('accuracy')\n",
    "plt.show()  # グラフで表示"
   ]
  },
  {
   "cell_type": "markdown",
   "metadata": {},
   "source": [
    "## 59. ハイパーパラメータの探索\n",
    "学習アルゴリズムや学習パラメータを変えながら，カテゴリ分類モデルを学習せよ．検証データ上の正解率が最も高くなる学習アルゴリズム・パラメータを求めよ．また，その学習アルゴリズム・パラメータを用いたときの評価データ上の正解率を求めよ．"
   ]
  },
  {
   "cell_type": "code",
   "execution_count": 11,
   "metadata": {},
   "outputs": [],
   "source": [
    "def model_accuracy(model, x, y):\n",
    "    pred = model.predict(x)\n",
    "    return np.mean([p == y for p, y in zip(pred,y)])"
   ]
  },
  {
   "cell_type": "code",
   "execution_count": 24,
   "metadata": {},
   "outputs": [],
   "source": [
    "# ナイーブベイズ分類器\n",
    "from sklearn.naive_bayes import MultinomialNB\n",
    "nb = MultinomialNB().fit(x_train, y_train)"
   ]
  },
  {
   "cell_type": "code",
   "execution_count": 27,
   "metadata": {},
   "outputs": [
    {
     "name": "stdout",
     "output_type": "stream",
     "text": [
      "train accuracy : 0.899569449644328\n",
      "test accuracy : 0.8622754491017964\n"
     ]
    }
   ],
   "source": [
    "# ナイーブベイズ分類器だと性能があまり上がらない\n",
    "train_acc = model_accuracy(nb, x_train, y_train)\n",
    "print('train accuracy :', train_acc)\n",
    "test_acc = model_accuracy(nb, x_test, y_test)\n",
    "print('test accuracy :', test_acc)"
   ]
  },
  {
   "cell_type": "code",
   "execution_count": 31,
   "metadata": {},
   "outputs": [],
   "source": [
    "# サポートベクターマシンでやってみる\n",
    "from sklearn.svm import LinearSVC\n",
    "svc_c_list = np.arange(0.1, 10.1, 0.1)\n",
    "result = dict()  # key:正則化パラメータ　value:検証データの正解率\n",
    "\n",
    "# 正則化パラメータを探索\n",
    "for c in svc_c_list:\n",
    "    svc = LinearSVC(C=c).fit(x_train, y_train)\n",
    "    result[c] = model_accuracy(svc, x_valid, y_valid)"
   ]
  },
  {
   "cell_type": "code",
   "execution_count": 32,
   "metadata": {},
   "outputs": [
    {
     "name": "stdout",
     "output_type": "stream",
     "text": [
      "0.9221556886227545\n",
      "1.6\n"
     ]
    }
   ],
   "source": [
    "# validのaccuracyが最大になる時のaccuracy・正則化パラメータの値を確認\n",
    "print(max(result.values()))\n",
    "print(max(result, key=result.get))"
   ]
  },
  {
   "cell_type": "code",
   "execution_count": 40,
   "metadata": {},
   "outputs": [
    {
     "name": "stderr",
     "output_type": "stream",
     "text": [
      "[I 201010 12:32:20 <ipython-input-40-c85a3ae6cf81>:6] hyperparameter search start\n",
      "[I 201010 12:32:20 <ipython-input-40-c85a3ae6cf81>:9] training start C:0.1\n",
      "[I 201010 12:32:30 <ipython-input-40-c85a3ae6cf81>:12] training done valid accuracy:0.7851796407185628\n",
      "[I 201010 12:32:30 <ipython-input-40-c85a3ae6cf81>:9] training start C:0.2\n",
      "[I 201010 12:32:44 <ipython-input-40-c85a3ae6cf81>:12] training done valid accuracy:0.8278443113772455\n",
      "[I 201010 12:32:44 <ipython-input-40-c85a3ae6cf81>:9] training start C:0.30000000000000004\n",
      "[I 201010 12:33:01 <ipython-input-40-c85a3ae6cf81>:12] training done valid accuracy:0.8585329341317365\n",
      "[I 201010 12:33:01 <ipython-input-40-c85a3ae6cf81>:9] training start C:0.4\n",
      "[I 201010 12:33:16 <ipython-input-40-c85a3ae6cf81>:12] training done valid accuracy:0.8735029940119761\n",
      "[I 201010 12:33:16 <ipython-input-40-c85a3ae6cf81>:9] training start C:0.5\n",
      "[I 201010 12:33:37 <ipython-input-40-c85a3ae6cf81>:12] training done valid accuracy:0.8794910179640718\n",
      "[I 201010 12:33:37 <ipython-input-40-c85a3ae6cf81>:9] training start C:0.6\n",
      "[I 201010 12:34:02 <ipython-input-40-c85a3ae6cf81>:12] training done valid accuracy:0.8854790419161677\n",
      "[I 201010 12:34:02 <ipython-input-40-c85a3ae6cf81>:9] training start C:0.7000000000000001\n",
      "[I 201010 12:34:24 <ipython-input-40-c85a3ae6cf81>:12] training done valid accuracy:0.8914670658682635\n",
      "[I 201010 12:34:24 <ipython-input-40-c85a3ae6cf81>:9] training start C:0.8\n",
      "[I 201010 12:34:48 <ipython-input-40-c85a3ae6cf81>:12] training done valid accuracy:0.8892215568862275\n",
      "[I 201010 12:34:48 <ipython-input-40-c85a3ae6cf81>:9] training start C:0.9\n",
      "[I 201010 12:35:19 <ipython-input-40-c85a3ae6cf81>:12] training done valid accuracy:0.8892215568862275\n",
      "[I 201010 12:35:19 <ipython-input-40-c85a3ae6cf81>:9] training start C:1.0\n",
      "[I 201010 12:35:44 <ipython-input-40-c85a3ae6cf81>:12] training done valid accuracy:0.8914670658682635\n",
      "[I 201010 12:35:44 <ipython-input-40-c85a3ae6cf81>:9] training start C:1.1\n",
      "[I 201010 12:36:09 <ipython-input-40-c85a3ae6cf81>:12] training done valid accuracy:0.8952095808383234\n",
      "[I 201010 12:36:09 <ipython-input-40-c85a3ae6cf81>:9] training start C:1.2000000000000002\n",
      "[I 201010 12:36:36 <ipython-input-40-c85a3ae6cf81>:12] training done valid accuracy:0.8982035928143712\n",
      "[I 201010 12:36:36 <ipython-input-40-c85a3ae6cf81>:9] training start C:1.3000000000000003\n",
      "[I 201010 12:37:05 <ipython-input-40-c85a3ae6cf81>:12] training done valid accuracy:0.9004491017964071\n",
      "[I 201010 12:37:05 <ipython-input-40-c85a3ae6cf81>:9] training start C:1.4000000000000001\n",
      "[I 201010 12:37:41 <ipython-input-40-c85a3ae6cf81>:12] training done valid accuracy:0.9026946107784432\n",
      "[I 201010 12:37:41 <ipython-input-40-c85a3ae6cf81>:9] training start C:1.5000000000000002\n",
      "[I 201010 12:38:08 <ipython-input-40-c85a3ae6cf81>:12] training done valid accuracy:0.9026946107784432\n",
      "[I 201010 12:38:08 <ipython-input-40-c85a3ae6cf81>:9] training start C:1.6\n",
      "[I 201010 12:38:32 <ipython-input-40-c85a3ae6cf81>:12] training done valid accuracy:0.9041916167664671\n",
      "[I 201010 12:38:32 <ipython-input-40-c85a3ae6cf81>:9] training start C:1.7000000000000002\n",
      "[I 201010 12:39:01 <ipython-input-40-c85a3ae6cf81>:12] training done valid accuracy:0.907185628742515\n",
      "[I 201010 12:39:01 <ipython-input-40-c85a3ae6cf81>:9] training start C:1.8000000000000003\n",
      "[I 201010 12:39:34 <ipython-input-40-c85a3ae6cf81>:12] training done valid accuracy:0.9079341317365269\n",
      "[I 201010 12:39:34 <ipython-input-40-c85a3ae6cf81>:9] training start C:1.9000000000000001\n",
      "[I 201010 12:40:05 <ipython-input-40-c85a3ae6cf81>:12] training done valid accuracy:0.9079341317365269\n",
      "[I 201010 12:40:05 <ipython-input-40-c85a3ae6cf81>:9] training start C:2.0\n",
      "[I 201010 12:40:40 <ipython-input-40-c85a3ae6cf81>:12] training done valid accuracy:0.9094311377245509\n",
      "[I 201010 12:40:40 <ipython-input-40-c85a3ae6cf81>:9] training start C:2.1\n",
      "[I 201010 12:41:09 <ipython-input-40-c85a3ae6cf81>:12] training done valid accuracy:0.9109281437125748\n",
      "[I 201010 12:41:09 <ipython-input-40-c85a3ae6cf81>:9] training start C:2.2\n",
      "[I 201010 12:41:44 <ipython-input-40-c85a3ae6cf81>:12] training done valid accuracy:0.9101796407185628\n",
      "[I 201010 12:41:44 <ipython-input-40-c85a3ae6cf81>:9] training start C:2.3000000000000003\n",
      "[I 201010 12:42:20 <ipython-input-40-c85a3ae6cf81>:12] training done valid accuracy:0.9116766467065869\n",
      "[I 201010 12:42:20 <ipython-input-40-c85a3ae6cf81>:9] training start C:2.4000000000000004\n",
      "[I 201010 12:43:00 <ipython-input-40-c85a3ae6cf81>:12] training done valid accuracy:0.9101796407185628\n",
      "[I 201010 12:43:00 <ipython-input-40-c85a3ae6cf81>:9] training start C:2.5000000000000004\n",
      "[I 201010 12:43:52 <ipython-input-40-c85a3ae6cf81>:12] training done valid accuracy:0.9109281437125748\n",
      "[I 201010 12:43:52 <ipython-input-40-c85a3ae6cf81>:9] training start C:2.6\n",
      "[I 201010 12:44:32 <ipython-input-40-c85a3ae6cf81>:12] training done valid accuracy:0.9116766467065869\n",
      "[I 201010 12:44:32 <ipython-input-40-c85a3ae6cf81>:9] training start C:2.7\n",
      "[I 201010 12:45:04 <ipython-input-40-c85a3ae6cf81>:12] training done valid accuracy:0.9109281437125748\n",
      "[I 201010 12:45:04 <ipython-input-40-c85a3ae6cf81>:9] training start C:2.8000000000000003\n",
      "[I 201010 12:45:36 <ipython-input-40-c85a3ae6cf81>:12] training done valid accuracy:0.9109281437125748\n",
      "[I 201010 12:45:36 <ipython-input-40-c85a3ae6cf81>:9] training start C:2.9000000000000004\n",
      "[I 201010 12:46:09 <ipython-input-40-c85a3ae6cf81>:12] training done valid accuracy:0.9101796407185628\n",
      "[I 201010 12:46:09 <ipython-input-40-c85a3ae6cf81>:9] training start C:3.0000000000000004\n",
      "[I 201010 12:46:40 <ipython-input-40-c85a3ae6cf81>:12] training done valid accuracy:0.9094311377245509\n",
      "[I 201010 12:46:40 <ipython-input-40-c85a3ae6cf81>:9] training start C:3.1\n",
      "[I 201010 12:47:12 <ipython-input-40-c85a3ae6cf81>:12] training done valid accuracy:0.9109281437125748\n",
      "[I 201010 12:47:12 <ipython-input-40-c85a3ae6cf81>:9] training start C:3.2\n",
      "[I 201010 12:47:43 <ipython-input-40-c85a3ae6cf81>:12] training done valid accuracy:0.9109281437125748\n",
      "[I 201010 12:47:43 <ipython-input-40-c85a3ae6cf81>:9] training start C:3.3000000000000003\n",
      "[I 201010 12:48:17 <ipython-input-40-c85a3ae6cf81>:12] training done valid accuracy:0.9109281437125748\n",
      "[I 201010 12:48:17 <ipython-input-40-c85a3ae6cf81>:9] training start C:3.4000000000000004\n",
      "[I 201010 12:48:50 <ipython-input-40-c85a3ae6cf81>:12] training done valid accuracy:0.9109281437125748\n",
      "[I 201010 12:48:50 <ipython-input-40-c85a3ae6cf81>:9] training start C:3.5000000000000004\n",
      "[I 201010 12:49:21 <ipython-input-40-c85a3ae6cf81>:12] training done valid accuracy:0.9109281437125748\n",
      "[I 201010 12:49:21 <ipython-input-40-c85a3ae6cf81>:9] training start C:3.6\n",
      "[I 201010 12:49:55 <ipython-input-40-c85a3ae6cf81>:12] training done valid accuracy:0.9116766467065869\n",
      "[I 201010 12:49:55 <ipython-input-40-c85a3ae6cf81>:9] training start C:3.7\n",
      "[I 201010 12:50:32 <ipython-input-40-c85a3ae6cf81>:12] training done valid accuracy:0.9124251497005988\n",
      "[I 201010 12:50:32 <ipython-input-40-c85a3ae6cf81>:9] training start C:3.8000000000000003\n",
      "[I 201010 12:51:11 <ipython-input-40-c85a3ae6cf81>:12] training done valid accuracy:0.9124251497005988\n",
      "[I 201010 12:51:11 <ipython-input-40-c85a3ae6cf81>:9] training start C:3.9000000000000004\n",
      "[I 201010 12:51:49 <ipython-input-40-c85a3ae6cf81>:12] training done valid accuracy:0.9124251497005988\n",
      "[I 201010 12:51:49 <ipython-input-40-c85a3ae6cf81>:9] training start C:4.0\n",
      "[I 201010 12:52:28 <ipython-input-40-c85a3ae6cf81>:12] training done valid accuracy:0.9124251497005988\n",
      "[I 201010 12:52:28 <ipython-input-40-c85a3ae6cf81>:9] training start C:4.1\n",
      "[I 201010 12:53:09 <ipython-input-40-c85a3ae6cf81>:12] training done valid accuracy:0.9124251497005988\n",
      "[I 201010 12:53:09 <ipython-input-40-c85a3ae6cf81>:9] training start C:4.2\n",
      "[I 201010 12:53:52 <ipython-input-40-c85a3ae6cf81>:12] training done valid accuracy:0.9124251497005988\n",
      "[I 201010 12:53:52 <ipython-input-40-c85a3ae6cf81>:9] training start C:4.3\n",
      "[I 201010 12:54:37 <ipython-input-40-c85a3ae6cf81>:12] training done valid accuracy:0.9124251497005988\n",
      "[I 201010 12:54:37 <ipython-input-40-c85a3ae6cf81>:9] training start C:4.3999999999999995\n",
      "[I 201010 12:55:19 <ipython-input-40-c85a3ae6cf81>:12] training done valid accuracy:0.9124251497005988\n",
      "[I 201010 12:55:19 <ipython-input-40-c85a3ae6cf81>:9] training start C:4.5\n",
      "[I 201010 12:56:03 <ipython-input-40-c85a3ae6cf81>:12] training done valid accuracy:0.9131736526946108\n",
      "[I 201010 12:56:03 <ipython-input-40-c85a3ae6cf81>:9] training start C:4.6\n",
      "[I 201010 12:56:45 <ipython-input-40-c85a3ae6cf81>:12] training done valid accuracy:0.9131736526946108\n",
      "[I 201010 12:56:45 <ipython-input-40-c85a3ae6cf81>:9] training start C:4.7\n",
      "[I 201010 12:57:24 <ipython-input-40-c85a3ae6cf81>:12] training done valid accuracy:0.9146706586826348\n",
      "[I 201010 12:57:24 <ipython-input-40-c85a3ae6cf81>:9] training start C:4.8\n",
      "[I 201010 12:58:00 <ipython-input-40-c85a3ae6cf81>:12] training done valid accuracy:0.9146706586826348\n",
      "[I 201010 12:58:00 <ipython-input-40-c85a3ae6cf81>:9] training start C:4.9\n",
      "[I 201010 12:58:37 <ipython-input-40-c85a3ae6cf81>:12] training done valid accuracy:0.9146706586826348\n",
      "[I 201010 12:58:37 <ipython-input-40-c85a3ae6cf81>:9] training start C:5.0\n",
      "[I 201010 12:59:13 <ipython-input-40-c85a3ae6cf81>:12] training done valid accuracy:0.9146706586826348\n",
      "[I 201010 12:59:13 <ipython-input-40-c85a3ae6cf81>:13] hyperparameter search done\n"
     ]
    }
   ],
   "source": [
    "from logzero import logger\n",
    "# logistic regression\n",
    "lr_c_list = np.arange(0.1, 5.1, 0.1)\n",
    "\n",
    "logistic_result = dict()\n",
    "logger.info('hyperparameter search start')\n",
    "\n",
    "for c in lr_c_list:\n",
    "    logger.info('training start C:{}'.format(c))\n",
    "    lr = LogisticRegression(C=c, solver='lbfgs', multi_class='auto', max_iter=1000).fit(x_train,y_train)\n",
    "    logistic_result[c] = accuracy(lr, x_valid, y_valid)\n",
    "    logger.info('training done valid accuracy:{}'.format(logistic_result[c]))\n",
    "logger.info('hyperparameter search done')"
   ]
  },
  {
   "cell_type": "code",
   "execution_count": 41,
   "metadata": {},
   "outputs": [
    {
     "name": "stdout",
     "output_type": "stream",
     "text": [
      "4.7 : 0.9146706586826348\n"
     ]
    }
   ],
   "source": [
    "print(max(logistic_result, key=logistic_result.get), ':', max(logistic_result.values()))"
   ]
  },
  {
   "cell_type": "code",
   "execution_count": 46,
   "metadata": {},
   "outputs": [
    {
     "name": "stdout",
     "output_type": "stream",
     "text": [
      "train accuracy : 0.9920441782104081\n",
      "valid accuracy : 0.9146706586826348\n",
      "test accuracy : 0.9199101796407185\n"
     ]
    }
   ],
   "source": [
    "# 一番いいパラメータでの評価データのacc lr\n",
    "lr = LogisticRegression(C=4.7, solver='lbfgs', multi_class='auto', max_iter=1000).fit(x_train, y_train)\n",
    "print('train accuracy :', model_accuracy(lr, x_train, y_train))\n",
    "print('valid accuracy :', model_accuracy(lr, x_valid, y_valid))\n",
    "print('test accuracy :', model_accuracy(lr, x_test, y_test))"
   ]
  },
  {
   "cell_type": "code",
   "execution_count": 26,
   "metadata": {},
   "outputs": [
    {
     "name": "stdout",
     "output_type": "stream",
     "text": [
      "train accuracy : 0.9969112691875702\n",
      "valid accuracy : 0.9221556886227545\n",
      "test accuracy : 0.9199101796407185\n"
     ]
    }
   ],
   "source": [
    "# 一番いいパラメータでの評価データのacc svc\n",
    "svc = LinearSVC(C=1.6).fit(x_train, y_train)\n",
    "print('train accuracy :', model_accuracy(svc, x_train, y_train))\n",
    "print('valid accuracy :', model_accuracy(svc, x_valid, y_valid))\n",
    "print('test accuracy :', model_accuracy(svc, x_test, y_test))"
   ]
  },
  {
   "cell_type": "code",
   "execution_count": 28,
   "metadata": {},
   "outputs": [
    {
     "name": "stdout",
     "output_type": "stream",
     "text": [
      "train accuracy : 0.9853987270685136\n",
      "valid accuracy : 0.9191616766467066\n",
      "test accuracy : 0.9229041916167665\n"
     ]
    }
   ],
   "source": [
    "svc = LinearSVC(C=1.6, loss='hinge',max_iter=10000).fit(x_train, y_train)\n",
    "print('train accuracy :', model_accuracy(svc, x_train, y_train))\n",
    "print('valid accuracy :', model_accuracy(svc, x_valid, y_valid))\n",
    "print('test accuracy :', model_accuracy(svc, x_test, y_test))"
   ]
  },
  {
   "cell_type": "code",
   "execution_count": 18,
   "metadata": {},
   "outputs": [],
   "source": [
    "x_data = np.concatenate([x_train, x_valid])\n",
    "y_data = np.concatenate([y_train, y_valid])"
   ]
  },
  {
   "cell_type": "code",
   "execution_count": 21,
   "metadata": {},
   "outputs": [
    {
     "name": "stderr",
     "output_type": "stream",
     "text": [
      "/Users/y_kishinami/.pyenv/versions/anaconda3-2019.10/lib/python3.7/site-packages/sklearn/svm/base.py:929: ConvergenceWarning: Liblinear failed to converge, increase the number of iterations.\n",
      "  \"the number of iterations.\", ConvergenceWarning)\n",
      "/Users/y_kishinami/.pyenv/versions/anaconda3-2019.10/lib/python3.7/site-packages/sklearn/svm/base.py:929: ConvergenceWarning: Liblinear failed to converge, increase the number of iterations.\n",
      "  \"the number of iterations.\", ConvergenceWarning)\n",
      "/Users/y_kishinami/.pyenv/versions/anaconda3-2019.10/lib/python3.7/site-packages/sklearn/svm/base.py:929: ConvergenceWarning: Liblinear failed to converge, increase the number of iterations.\n",
      "  \"the number of iterations.\", ConvergenceWarning)\n",
      "/Users/y_kishinami/.pyenv/versions/anaconda3-2019.10/lib/python3.7/site-packages/sklearn/svm/base.py:929: ConvergenceWarning: Liblinear failed to converge, increase the number of iterations.\n",
      "  \"the number of iterations.\", ConvergenceWarning)\n",
      "/Users/y_kishinami/.pyenv/versions/anaconda3-2019.10/lib/python3.7/site-packages/sklearn/svm/base.py:929: ConvergenceWarning: Liblinear failed to converge, increase the number of iterations.\n",
      "  \"the number of iterations.\", ConvergenceWarning)\n",
      "/Users/y_kishinami/.pyenv/versions/anaconda3-2019.10/lib/python3.7/site-packages/sklearn/svm/base.py:929: ConvergenceWarning: Liblinear failed to converge, increase the number of iterations.\n",
      "  \"the number of iterations.\", ConvergenceWarning)\n",
      "/Users/y_kishinami/.pyenv/versions/anaconda3-2019.10/lib/python3.7/site-packages/sklearn/svm/base.py:929: ConvergenceWarning: Liblinear failed to converge, increase the number of iterations.\n",
      "  \"the number of iterations.\", ConvergenceWarning)\n",
      "/Users/y_kishinami/.pyenv/versions/anaconda3-2019.10/lib/python3.7/site-packages/sklearn/svm/base.py:929: ConvergenceWarning: Liblinear failed to converge, increase the number of iterations.\n",
      "  \"the number of iterations.\", ConvergenceWarning)\n",
      "/Users/y_kishinami/.pyenv/versions/anaconda3-2019.10/lib/python3.7/site-packages/sklearn/svm/base.py:929: ConvergenceWarning: Liblinear failed to converge, increase the number of iterations.\n",
      "  \"the number of iterations.\", ConvergenceWarning)\n",
      "/Users/y_kishinami/.pyenv/versions/anaconda3-2019.10/lib/python3.7/site-packages/sklearn/svm/base.py:929: ConvergenceWarning: Liblinear failed to converge, increase the number of iterations.\n",
      "  \"the number of iterations.\", ConvergenceWarning)\n",
      "/Users/y_kishinami/.pyenv/versions/anaconda3-2019.10/lib/python3.7/site-packages/sklearn/svm/base.py:929: ConvergenceWarning: Liblinear failed to converge, increase the number of iterations.\n",
      "  \"the number of iterations.\", ConvergenceWarning)\n",
      "/Users/y_kishinami/.pyenv/versions/anaconda3-2019.10/lib/python3.7/site-packages/sklearn/svm/base.py:929: ConvergenceWarning: Liblinear failed to converge, increase the number of iterations.\n",
      "  \"the number of iterations.\", ConvergenceWarning)\n",
      "/Users/y_kishinami/.pyenv/versions/anaconda3-2019.10/lib/python3.7/site-packages/sklearn/svm/base.py:929: ConvergenceWarning: Liblinear failed to converge, increase the number of iterations.\n",
      "  \"the number of iterations.\", ConvergenceWarning)\n",
      "/Users/y_kishinami/.pyenv/versions/anaconda3-2019.10/lib/python3.7/site-packages/sklearn/svm/base.py:929: ConvergenceWarning: Liblinear failed to converge, increase the number of iterations.\n",
      "  \"the number of iterations.\", ConvergenceWarning)\n",
      "/Users/y_kishinami/.pyenv/versions/anaconda3-2019.10/lib/python3.7/site-packages/sklearn/svm/base.py:929: ConvergenceWarning: Liblinear failed to converge, increase the number of iterations.\n",
      "  \"the number of iterations.\", ConvergenceWarning)\n",
      "/Users/y_kishinami/.pyenv/versions/anaconda3-2019.10/lib/python3.7/site-packages/sklearn/svm/base.py:929: ConvergenceWarning: Liblinear failed to converge, increase the number of iterations.\n",
      "  \"the number of iterations.\", ConvergenceWarning)\n",
      "/Users/y_kishinami/.pyenv/versions/anaconda3-2019.10/lib/python3.7/site-packages/sklearn/svm/base.py:929: ConvergenceWarning: Liblinear failed to converge, increase the number of iterations.\n",
      "  \"the number of iterations.\", ConvergenceWarning)\n",
      "/Users/y_kishinami/.pyenv/versions/anaconda3-2019.10/lib/python3.7/site-packages/sklearn/svm/base.py:929: ConvergenceWarning: Liblinear failed to converge, increase the number of iterations.\n",
      "  \"the number of iterations.\", ConvergenceWarning)\n",
      "/Users/y_kishinami/.pyenv/versions/anaconda3-2019.10/lib/python3.7/site-packages/sklearn/svm/base.py:929: ConvergenceWarning: Liblinear failed to converge, increase the number of iterations.\n",
      "  \"the number of iterations.\", ConvergenceWarning)\n",
      "/Users/y_kishinami/.pyenv/versions/anaconda3-2019.10/lib/python3.7/site-packages/sklearn/svm/base.py:929: ConvergenceWarning: Liblinear failed to converge, increase the number of iterations.\n",
      "  \"the number of iterations.\", ConvergenceWarning)\n",
      "/Users/y_kishinami/.pyenv/versions/anaconda3-2019.10/lib/python3.7/site-packages/sklearn/svm/base.py:929: ConvergenceWarning: Liblinear failed to converge, increase the number of iterations.\n",
      "  \"the number of iterations.\", ConvergenceWarning)\n",
      "/Users/y_kishinami/.pyenv/versions/anaconda3-2019.10/lib/python3.7/site-packages/sklearn/svm/base.py:929: ConvergenceWarning: Liblinear failed to converge, increase the number of iterations.\n",
      "  \"the number of iterations.\", ConvergenceWarning)\n",
      "/Users/y_kishinami/.pyenv/versions/anaconda3-2019.10/lib/python3.7/site-packages/sklearn/svm/base.py:929: ConvergenceWarning: Liblinear failed to converge, increase the number of iterations.\n",
      "  \"the number of iterations.\", ConvergenceWarning)\n",
      "/Users/y_kishinami/.pyenv/versions/anaconda3-2019.10/lib/python3.7/site-packages/sklearn/svm/base.py:929: ConvergenceWarning: Liblinear failed to converge, increase the number of iterations.\n",
      "  \"the number of iterations.\", ConvergenceWarning)\n",
      "/Users/y_kishinami/.pyenv/versions/anaconda3-2019.10/lib/python3.7/site-packages/sklearn/svm/base.py:929: ConvergenceWarning: Liblinear failed to converge, increase the number of iterations.\n",
      "  \"the number of iterations.\", ConvergenceWarning)\n",
      "/Users/y_kishinami/.pyenv/versions/anaconda3-2019.10/lib/python3.7/site-packages/sklearn/svm/base.py:929: ConvergenceWarning: Liblinear failed to converge, increase the number of iterations.\n",
      "  \"the number of iterations.\", ConvergenceWarning)\n",
      "/Users/y_kishinami/.pyenv/versions/anaconda3-2019.10/lib/python3.7/site-packages/sklearn/svm/base.py:929: ConvergenceWarning: Liblinear failed to converge, increase the number of iterations.\n",
      "  \"the number of iterations.\", ConvergenceWarning)\n",
      "/Users/y_kishinami/.pyenv/versions/anaconda3-2019.10/lib/python3.7/site-packages/sklearn/svm/base.py:929: ConvergenceWarning: Liblinear failed to converge, increase the number of iterations.\n",
      "  \"the number of iterations.\", ConvergenceWarning)\n",
      "/Users/y_kishinami/.pyenv/versions/anaconda3-2019.10/lib/python3.7/site-packages/sklearn/svm/base.py:929: ConvergenceWarning: Liblinear failed to converge, increase the number of iterations.\n",
      "  \"the number of iterations.\", ConvergenceWarning)\n",
      "/Users/y_kishinami/.pyenv/versions/anaconda3-2019.10/lib/python3.7/site-packages/sklearn/svm/base.py:929: ConvergenceWarning: Liblinear failed to converge, increase the number of iterations.\n",
      "  \"the number of iterations.\", ConvergenceWarning)\n",
      "/Users/y_kishinami/.pyenv/versions/anaconda3-2019.10/lib/python3.7/site-packages/sklearn/svm/base.py:929: ConvergenceWarning: Liblinear failed to converge, increase the number of iterations.\n",
      "  \"the number of iterations.\", ConvergenceWarning)\n",
      "/Users/y_kishinami/.pyenv/versions/anaconda3-2019.10/lib/python3.7/site-packages/sklearn/svm/base.py:929: ConvergenceWarning: Liblinear failed to converge, increase the number of iterations.\n",
      "  \"the number of iterations.\", ConvergenceWarning)\n",
      "/Users/y_kishinami/.pyenv/versions/anaconda3-2019.10/lib/python3.7/site-packages/sklearn/svm/base.py:929: ConvergenceWarning: Liblinear failed to converge, increase the number of iterations.\n",
      "  \"the number of iterations.\", ConvergenceWarning)\n",
      "/Users/y_kishinami/.pyenv/versions/anaconda3-2019.10/lib/python3.7/site-packages/sklearn/svm/base.py:929: ConvergenceWarning: Liblinear failed to converge, increase the number of iterations.\n",
      "  \"the number of iterations.\", ConvergenceWarning)\n",
      "/Users/y_kishinami/.pyenv/versions/anaconda3-2019.10/lib/python3.7/site-packages/sklearn/svm/base.py:929: ConvergenceWarning: Liblinear failed to converge, increase the number of iterations.\n",
      "  \"the number of iterations.\", ConvergenceWarning)\n",
      "/Users/y_kishinami/.pyenv/versions/anaconda3-2019.10/lib/python3.7/site-packages/sklearn/svm/base.py:929: ConvergenceWarning: Liblinear failed to converge, increase the number of iterations.\n",
      "  \"the number of iterations.\", ConvergenceWarning)\n",
      "/Users/y_kishinami/.pyenv/versions/anaconda3-2019.10/lib/python3.7/site-packages/sklearn/svm/base.py:929: ConvergenceWarning: Liblinear failed to converge, increase the number of iterations.\n",
      "  \"the number of iterations.\", ConvergenceWarning)\n",
      "/Users/y_kishinami/.pyenv/versions/anaconda3-2019.10/lib/python3.7/site-packages/sklearn/svm/base.py:929: ConvergenceWarning: Liblinear failed to converge, increase the number of iterations.\n",
      "  \"the number of iterations.\", ConvergenceWarning)\n",
      "/Users/y_kishinami/.pyenv/versions/anaconda3-2019.10/lib/python3.7/site-packages/sklearn/svm/base.py:929: ConvergenceWarning: Liblinear failed to converge, increase the number of iterations.\n",
      "  \"the number of iterations.\", ConvergenceWarning)\n",
      "/Users/y_kishinami/.pyenv/versions/anaconda3-2019.10/lib/python3.7/site-packages/sklearn/svm/base.py:929: ConvergenceWarning: Liblinear failed to converge, increase the number of iterations.\n",
      "  \"the number of iterations.\", ConvergenceWarning)\n",
      "/Users/y_kishinami/.pyenv/versions/anaconda3-2019.10/lib/python3.7/site-packages/sklearn/svm/base.py:929: ConvergenceWarning: Liblinear failed to converge, increase the number of iterations.\n",
      "  \"the number of iterations.\", ConvergenceWarning)\n",
      "/Users/y_kishinami/.pyenv/versions/anaconda3-2019.10/lib/python3.7/site-packages/sklearn/svm/base.py:929: ConvergenceWarning: Liblinear failed to converge, increase the number of iterations.\n",
      "  \"the number of iterations.\", ConvergenceWarning)\n",
      "/Users/y_kishinami/.pyenv/versions/anaconda3-2019.10/lib/python3.7/site-packages/sklearn/svm/base.py:929: ConvergenceWarning: Liblinear failed to converge, increase the number of iterations.\n",
      "  \"the number of iterations.\", ConvergenceWarning)\n",
      "/Users/y_kishinami/.pyenv/versions/anaconda3-2019.10/lib/python3.7/site-packages/sklearn/svm/base.py:929: ConvergenceWarning: Liblinear failed to converge, increase the number of iterations.\n",
      "  \"the number of iterations.\", ConvergenceWarning)\n",
      "/Users/y_kishinami/.pyenv/versions/anaconda3-2019.10/lib/python3.7/site-packages/sklearn/svm/base.py:929: ConvergenceWarning: Liblinear failed to converge, increase the number of iterations.\n",
      "  \"the number of iterations.\", ConvergenceWarning)\n",
      "/Users/y_kishinami/.pyenv/versions/anaconda3-2019.10/lib/python3.7/site-packages/sklearn/svm/base.py:929: ConvergenceWarning: Liblinear failed to converge, increase the number of iterations.\n",
      "  \"the number of iterations.\", ConvergenceWarning)\n",
      "/Users/y_kishinami/.pyenv/versions/anaconda3-2019.10/lib/python3.7/site-packages/sklearn/svm/base.py:929: ConvergenceWarning: Liblinear failed to converge, increase the number of iterations.\n",
      "  \"the number of iterations.\", ConvergenceWarning)\n",
      "/Users/y_kishinami/.pyenv/versions/anaconda3-2019.10/lib/python3.7/site-packages/sklearn/svm/base.py:929: ConvergenceWarning: Liblinear failed to converge, increase the number of iterations.\n",
      "  \"the number of iterations.\", ConvergenceWarning)\n",
      "/Users/y_kishinami/.pyenv/versions/anaconda3-2019.10/lib/python3.7/site-packages/sklearn/svm/base.py:929: ConvergenceWarning: Liblinear failed to converge, increase the number of iterations.\n",
      "  \"the number of iterations.\", ConvergenceWarning)\n",
      "/Users/y_kishinami/.pyenv/versions/anaconda3-2019.10/lib/python3.7/site-packages/sklearn/svm/base.py:929: ConvergenceWarning: Liblinear failed to converge, increase the number of iterations.\n",
      "  \"the number of iterations.\", ConvergenceWarning)\n",
      "/Users/y_kishinami/.pyenv/versions/anaconda3-2019.10/lib/python3.7/site-packages/sklearn/svm/base.py:929: ConvergenceWarning: Liblinear failed to converge, increase the number of iterations.\n",
      "  \"the number of iterations.\", ConvergenceWarning)\n",
      "/Users/y_kishinami/.pyenv/versions/anaconda3-2019.10/lib/python3.7/site-packages/sklearn/svm/base.py:929: ConvergenceWarning: Liblinear failed to converge, increase the number of iterations.\n",
      "  \"the number of iterations.\", ConvergenceWarning)\n"
     ]
    },
    {
     "data": {
      "text/plain": [
       "GridSearchCV(cv=5, error_score='raise-deprecating',\n",
       "             estimator=LinearSVC(C=1.0, class_weight=None, dual=True,\n",
       "                                 fit_intercept=True, intercept_scaling=1,\n",
       "                                 loss='squared_hinge', max_iter=1000,\n",
       "                                 multi_class='ovr', penalty='l2',\n",
       "                                 random_state=None, tol=0.0001, verbose=0),\n",
       "             iid='warn', n_jobs=None,\n",
       "             param_grid={'C': [0.001, 0.01, 0.1, 1, 10, 100, 1000],\n",
       "                         'class_weight': [None, 'balanced'],\n",
       "                         'loss': ['hinge', 'squared_hinge']},\n",
       "             pre_dispatch='2*n_jobs', refit=True, return_train_score=False,\n",
       "             scoring=None, verbose=0)"
      ]
     },
     "execution_count": 21,
     "metadata": {},
     "output_type": "execute_result"
    }
   ],
   "source": [
    "from sklearn.model_selection import GridSearchCV\n",
    "from sklearn.svm import LinearSVC\n",
    "params = {'loss':['hinge', 'squared_hinge'], 'C':[10**i for i in range(-3,4)], 'class_weight':[None, 'balanced']}\n",
    "gscv = GridSearchCV(LinearSVC(), params, cv=5)\n",
    "gscv.fit(x_data, y_data)"
   ]
  },
  {
   "cell_type": "code",
   "execution_count": 22,
   "metadata": {},
   "outputs": [
    {
     "name": "stdout",
     "output_type": "stream",
     "text": [
      "{'C': 1, 'class_weight': 'balanced', 'loss': 'hinge'}\n"
     ]
    }
   ],
   "source": [
    "print(gscv.best_params_)"
   ]
  },
  {
   "cell_type": "code",
   "execution_count": 23,
   "metadata": {},
   "outputs": [
    {
     "name": "stderr",
     "output_type": "stream",
     "text": [
      "/Users/y_kishinami/.pyenv/versions/anaconda3-2019.10/lib/python3.7/site-packages/sklearn/svm/base.py:929: ConvergenceWarning: Liblinear failed to converge, increase the number of iterations.\n",
      "  \"the number of iterations.\", ConvergenceWarning)\n"
     ]
    },
    {
     "name": "stdout",
     "output_type": "stream",
     "text": [
      "train accuracy : 0.9798764507675028\n",
      "valid accuracy : 0.9236526946107785\n",
      "test accuracy : 0.9146706586826348\n"
     ]
    }
   ],
   "source": [
    "svc = LinearSVC(C=1, class_weight='balanced', loss='hinge').fit(x_train, y_train)\n",
    "print('train accuracy :', model_accuracy(svc, x_train, y_train))\n",
    "print('valid accuracy :', model_accuracy(svc, x_valid, y_valid))\n",
    "print('test accuracy :', model_accuracy(svc, x_test, y_test))"
   ]
  },
  {
   "cell_type": "code",
   "execution_count": null,
   "metadata": {},
   "outputs": [],
   "source": []
  }
 ],
 "metadata": {
  "kernelspec": {
   "display_name": "Python 3",
   "language": "python",
   "name": "python3"
  },
  "language_info": {
   "codemirror_mode": {
    "name": "ipython",
    "version": 3
   },
   "file_extension": ".py",
   "mimetype": "text/x-python",
   "name": "python",
   "nbconvert_exporter": "python",
   "pygments_lexer": "ipython3",
   "version": "3.7.4"
  }
 },
 "nbformat": 4,
 "nbformat_minor": 4
}
